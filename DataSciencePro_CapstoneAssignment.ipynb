{
 "cells": [
  {
   "cell_type": "markdown",
   "metadata": {},
   "source": [
    "# Segmenting & Clustering Neighborhoods in Toronto"
   ]
  },
  {
   "cell_type": "markdown",
   "metadata": {},
   "source": [
    "## Part 1 of 3 - Retrieve & normalize data"
   ]
  },
  {
   "cell_type": "markdown",
   "metadata": {},
   "source": [
    "**The data is available as a Wikipedia HTML page & the page source reveals a Table Structure (Column headings & data for each row)**\n",
    "\n",
    "```\n",
    "<tbody>\n",
    "<tr>\n",
    "<th>Postcode</th>\n",
    "<th>Borough</th>\n",
    "<th>Neighborhood\n",
    "</th>\n",
    "</tr>\n",
    "\n",
    "................\n",
    "\n",
    "<tr>\n",
    "<td>M3A</td>\n",
    "<td><a href=\"/wiki/North_York\" title=\"North York\">North York</a></td>\n",
    "<td><a href=\"/wiki/Parkwoods\" title=\"Parkwoods\">Parkwoods</a>\n",
    "</td>\n",
    "</tr>\n",
    "\n",
    "<tr>\n",
    "<td>M4A</td>\n",
    "<td><a href=\"/wiki/North_York\" title=\"North York\">North York</a></td>\n",
    "<td><a href=\"/wiki/Victoria_Village\" title=\"Victoria Village\">Victoria Village</a>\n",
    "</td>\n",
    "</tr>\n",
    "\n",
    "................\n",
    "\n",
    "</tbody>\n",
    "\n",
    "```"
   ]
  },
  {
   "cell_type": "code",
   "execution_count": 1,
   "metadata": {},
   "outputs": [],
   "source": [
    "# import the libraries\n",
    "import requests                     # Import requsts library that allows us to invoke a Web service\n",
    "from bs4 import BeautifulSoup       # Utilize BeautifulSoup to parse & select data \n",
    "import pandas as pd                 # Utilize pandas DataFrame to store the retrieved table from Web scraping\n",
    "\n",
    "# retrieve data using requests.get('url')\n",
    "data = requests.get('https://en.wikipedia.org/wiki/List_of_postal_codes_of_Canada:_M')\n"
   ]
  },
  {
   "cell_type": "markdown",
   "metadata": {},
   "source": [
    "**Utilize BeautifulSoup HTML parser to retrieve the markup document & store it in a 'soup' variable**"
   ]
  },
  {
   "cell_type": "code",
   "execution_count": 2,
   "metadata": {},
   "outputs": [],
   "source": [
    "# load the data into a soup variable\n",
    "soup = BeautifulSoup(data.text, 'html.parser')  # Copy the HTML document to a soup variable\n",
    "tbody  = soup.find('tbody')                     # Use the embedded table body (HTML tag tbody) & retrieve the table\n",
    "\n",
    "# Optionally print the tbody to console to visualize the HTML representation of the table\n",
    "#print(tbody)"
   ]
  },
  {
   "cell_type": "markdown",
   "metadata": {},
   "source": [
    "**Iterate thru the body of the table & retrieve all the rows**"
   ]
  },
  {
   "cell_type": "code",
   "execution_count": 3,
   "metadata": {},
   "outputs": [
    {
     "name": "stdout",
     "output_type": "stream",
     "text": [
      "\n",
      "Total number of rows retrieved from the HTML table =  288\n"
     ]
    }
   ],
   "source": [
    "# Create a list called table[] to store the extracted values from the HTML table\n",
    "table = []\n",
    "\n",
    "# Copy the headings & data to the table\n",
    "#for tr in tbody.find_all('tr'):\n",
    "#    headings = [th.text for th in tr.find_all('th')]\n",
    "#    table.append(headings)\n",
    "#    values   = [tr.text for td in tr.find_all('td')]\n",
    "#    table.append(values)\n",
    "\n",
    "for tr in tbody.find_all('tr'):\n",
    "    values   = [tr.text for td in tr.find_all('td')]  # Retrieve column values using HTML table data tag\n",
    "    #values   = [tr.text for td in tr.find_all('a')]  # Retrieve column values using HTML attribute tag\n",
    "    table.append(values)\n",
    "\n",
    "# Display the number of rows retrieved from the table\n",
    "print(\"\\nTotal number of rows retrieved from the HTML table = \", len(table))\n",
    "\n",
    "# Optionally print the raw table to the console \n",
    "#print(table)"
   ]
  },
  {
   "cell_type": "markdown",
   "metadata": {},
   "source": [
    "**Cleanup the Table; Remove Empty lists, substitute newline '\\n' characters with commas**"
   ]
  },
  {
   "cell_type": "code",
   "execution_count": 4,
   "metadata": {},
   "outputs": [
    {
     "name": "stdout",
     "output_type": "stream",
     "text": [
      "\n",
      "Total number of rows retained from the HTML table =  287\n",
      "\n",
      "Total number of rows in the cleaned version table =  287\n"
     ]
    }
   ],
   "source": [
    "# Remove empty lists, tuples, zeroes, strings\n",
    "table = [x for x in table if x != []]\n",
    "\n",
    "# Print the cleaned table to the console\n",
    "print(\"\\nTotal number of rows retained from the HTML table = \", len(table))\n",
    "#print(table)\n",
    "\n",
    "# Create \n",
    "cleanTable = []\n",
    "\n",
    "#for lst in table:\n",
    "#    for element in lst:\n",
    "#        if element not in cleanTable:\n",
    "#                cleanTable.append(element)\n",
    "\n",
    "for i in range(len(table)):\n",
    "#    #print(table[i][0])\n",
    "    cleanTable.append([str.replace(table[i][0], '\\n', ',')])\n",
    "\n",
    "# Print the cleaned table to the console\n",
    "print(\"\\nTotal number of rows in the cleaned version table = \", len(cleanTable))\n",
    "#print(cleanTable)\n"
   ]
  },
  {
   "cell_type": "markdown",
   "metadata": {},
   "source": [
    "**Copy the cleaned table (list of lists) to a DataFrame & clean up the same**"
   ]
  },
  {
   "cell_type": "code",
   "execution_count": 18,
   "metadata": {},
   "outputs": [
    {
     "name": "stdout",
     "output_type": "stream",
     "text": [
      "\n",
      "Total number of rows filtered (after removing ones with no Borough names)  ==>  210\n",
      "\n",
      "\n",
      "== Rows with unassigned Neighborhood names ==\n",
      "\n",
      "     Postcode       Borough  Neighborhood\n",
      "249      M9A  Queen's Park  Not assigned\n"
     ]
    }
   ],
   "source": [
    "# Parse the cleanTable & split the comma separated values & create a dataframe\n",
    "\n",
    "locDataFrame = pd.DataFrame()\n",
    "\n",
    "for listItem in cleanTable:\n",
    "    locDataFrame = locDataFrame.append(pd.DataFrame([sub.split(\",\") for sub in listItem]))\n",
    "\n",
    "# Rename the Columns from default index (a number) to desired column names 1. Postcode 2. Borough 3. Neighborhood\n",
    "locDataFrame.rename(columns={1:'Postcode', 2:'Borough', 3:'Neighborhood'}, inplace=True)\n",
    "\n",
    "# Drop the 1st & last columns that don't have any values\n",
    "locDataFrame.drop(columns=[0,4], inplace=True)\n",
    "\n",
    "# Sort the Dataframe by Postcode, then by Borough, & by Neighborhood\n",
    "locDataFrame.sort_values(['Postcode', 'Borough', 'Neighborhood'], axis=0, inplace = True)\n",
    "\n",
    "# Rest the index (it'll insert a column named 'index' & assign the indexed values to the 'index' )\n",
    "locDataFrame.reset_index(inplace=True)\n",
    "\n",
    "# Drop the index column of DataFrame since they are all zeroes anyway\n",
    "locDataFrame.drop(columns=['index'], inplace=True)\n",
    "\n",
    "# Drop the rows that do not have an assigned 'Borough' name & copy it to a new location DataFrame\n",
    "nlDataFrame = locDataFrame[locDataFrame['Borough'] != 'Not assigned'] \n",
    "\n",
    "print(\"\\nTotal number of rows filtered (after removing ones with no Borough names)  ==> \", len(nlDataFrame))\n",
    "\n",
    "# Print all the rows that contain 'Not assigned' (also a sanity check for any Burroughs that slipped thru)\n",
    "print(\"\\n\\n== Rows with unassigned Neighborhood names ==\\n\\n\", nlDataFrame[nlDataFrame.eq('Not assigned').any(1)])\n"
   ]
  },
  {
   "cell_type": "markdown",
   "metadata": {},
   "source": [
    "**Fix the unassigned values, and aggregate all the Neighborhood by Postcode & Borough**  "
   ]
  },
  {
   "cell_type": "code",
   "execution_count": 19,
   "metadata": {},
   "outputs": [
    {
     "name": "stdout",
     "output_type": "stream",
     "text": [
      "\n",
      "Borough name of the unassigned neighborhood ( at index 249 ) ==>  Queen's Park\n",
      "\n",
      "Neighborhood name reset to the Borough name ( at index 249 ) ==>  Queen's Park\n"
     ]
    },
    {
     "data": {
      "text/html": [
       "<div>\n",
       "<style scoped>\n",
       "    .dataframe tbody tr th:only-of-type {\n",
       "        vertical-align: middle;\n",
       "    }\n",
       "\n",
       "    .dataframe tbody tr th {\n",
       "        vertical-align: top;\n",
       "    }\n",
       "\n",
       "    .dataframe thead th {\n",
       "        text-align: right;\n",
       "    }\n",
       "</style>\n",
       "<table border=\"1\" class=\"dataframe\">\n",
       "  <thead>\n",
       "    <tr style=\"text-align: right;\">\n",
       "      <th></th>\n",
       "      <th>Postcode</th>\n",
       "      <th>Borough</th>\n",
       "      <th>Neighborhood</th>\n",
       "    </tr>\n",
       "  </thead>\n",
       "  <tbody>\n",
       "    <tr>\n",
       "      <th>0</th>\n",
       "      <td>M1B</td>\n",
       "      <td>Scarborough</td>\n",
       "      <td>Malvern,Rouge</td>\n",
       "    </tr>\n",
       "    <tr>\n",
       "      <th>1</th>\n",
       "      <td>M1C</td>\n",
       "      <td>Scarborough</td>\n",
       "      <td>Highland Creek,Port Union,Rouge Hill</td>\n",
       "    </tr>\n",
       "    <tr>\n",
       "      <th>2</th>\n",
       "      <td>M1E</td>\n",
       "      <td>Scarborough</td>\n",
       "      <td>Guildwood,Morningside,West Hill</td>\n",
       "    </tr>\n",
       "    <tr>\n",
       "      <th>3</th>\n",
       "      <td>M1G</td>\n",
       "      <td>Scarborough</td>\n",
       "      <td>Woburn</td>\n",
       "    </tr>\n",
       "    <tr>\n",
       "      <th>4</th>\n",
       "      <td>M1H</td>\n",
       "      <td>Scarborough</td>\n",
       "      <td>Cedarbrae</td>\n",
       "    </tr>\n",
       "    <tr>\n",
       "      <th>5</th>\n",
       "      <td>M1J</td>\n",
       "      <td>Scarborough</td>\n",
       "      <td>Scarborough Village</td>\n",
       "    </tr>\n",
       "    <tr>\n",
       "      <th>6</th>\n",
       "      <td>M1K</td>\n",
       "      <td>Scarborough</td>\n",
       "      <td>East Birchmount Park,Ionview,Kennedy Park</td>\n",
       "    </tr>\n",
       "    <tr>\n",
       "      <th>7</th>\n",
       "      <td>M1L</td>\n",
       "      <td>Scarborough</td>\n",
       "      <td>Clairlea,Golden Mile,Oakridge</td>\n",
       "    </tr>\n",
       "    <tr>\n",
       "      <th>8</th>\n",
       "      <td>M1M</td>\n",
       "      <td>Scarborough</td>\n",
       "      <td>Cliffcrest,Cliffside,Scarborough Village West</td>\n",
       "    </tr>\n",
       "    <tr>\n",
       "      <th>9</th>\n",
       "      <td>M1N</td>\n",
       "      <td>Scarborough</td>\n",
       "      <td>Birch Cliff,Cliffside West</td>\n",
       "    </tr>\n",
       "    <tr>\n",
       "      <th>10</th>\n",
       "      <td>M1P</td>\n",
       "      <td>Scarborough</td>\n",
       "      <td>Dorset Park,Scarborough Town Centre,Wexford He...</td>\n",
       "    </tr>\n",
       "    <tr>\n",
       "      <th>11</th>\n",
       "      <td>M1R</td>\n",
       "      <td>Scarborough</td>\n",
       "      <td>Maryvale,Wexford</td>\n",
       "    </tr>\n",
       "  </tbody>\n",
       "</table>\n",
       "</div>"
      ],
      "text/plain": [
       "   Postcode      Borough                                       Neighborhood\n",
       "0       M1B  Scarborough                                      Malvern,Rouge\n",
       "1       M1C  Scarborough               Highland Creek,Port Union,Rouge Hill\n",
       "2       M1E  Scarborough                    Guildwood,Morningside,West Hill\n",
       "3       M1G  Scarborough                                             Woburn\n",
       "4       M1H  Scarborough                                          Cedarbrae\n",
       "5       M1J  Scarborough                                Scarborough Village\n",
       "6       M1K  Scarborough          East Birchmount Park,Ionview,Kennedy Park\n",
       "7       M1L  Scarborough                      Clairlea,Golden Mile,Oakridge\n",
       "8       M1M  Scarborough      Cliffcrest,Cliffside,Scarborough Village West\n",
       "9       M1N  Scarborough                         Birch Cliff,Cliffside West\n",
       "10      M1P  Scarborough  Dorset Park,Scarborough Town Centre,Wexford He...\n",
       "11      M1R  Scarborough                                   Maryvale,Wexford"
      ]
     },
     "execution_count": 19,
     "metadata": {},
     "output_type": "execute_result"
    }
   ],
   "source": [
    "# Loop through the dataframe, copy the Borough name to Neighborhood name if the latter is unassigned\n",
    "for idx in nlDataFrame.index:\n",
    "    if(nlDataFrame['Neighborhood'].at[idx] == 'Not assigned'):\n",
    "        print(\"\\nBorough name of the unassigned neighborhood ( at index\",idx,\") ==> \", nlDataFrame['Borough'].at[idx])\n",
    "        nlDataFrame['Neighborhood'].at[idx] = nlDataFrame['Borough'].at[idx]\n",
    "        print(\"\\nNeighborhood name reset to the Borough name ( at index\",idx,\") ==> \", nlDataFrame['Neighborhood'].at[idx])\n",
    "\n",
    "\n",
    "# Display the head of the dataframe (notice it's automatically sorted by 'Postcode')\n",
    "#df_filtered.head()\n",
    "        \n",
    "#############################################################################################################\n",
    "# CONSOLIDATE THE DATAFRAME BY AGGREGATING NEIGHBORHOOD VALUES, FOR EACH POSTCODE, FOLLOWED BY BOROUGHNAME\n",
    "#############################################################################################################\n",
    "\n",
    "nnlDataFrame = nlDataFrame.groupby(['Postcode', 'Borough']).agg(lambda col: ','.join(col))\n",
    "\n",
    "# Reset the Index\n",
    "nnlDataFrame.reset_index(inplace = True)\n",
    "\n",
    "# Print the head of the new consolidated dataframe (first 12 rows)\n",
    "nnlDataFrame.head(12)\n"
   ]
  },
  {
   "cell_type": "markdown",
   "metadata": {},
   "source": [
    "**Finally print the shape of the new DataFrame object (as required to show as final step)**"
   ]
  },
  {
   "cell_type": "code",
   "execution_count": 20,
   "metadata": {},
   "outputs": [
    {
     "name": "stdout",
     "output_type": "stream",
     "text": [
      "The Shape of the DataFrame is ==>  (103, 3)\n"
     ]
    }
   ],
   "source": [
    "print(\"The Shape of the DataFrame is ==> \", nnlDataFrame.shape)"
   ]
  },
  {
   "cell_type": "markdown",
   "metadata": {},
   "source": [
    "## Part 2 of 3 - Enrich the Dataframe & analyze data"
   ]
  },
  {
   "cell_type": "markdown",
   "metadata": {},
   "source": [
    "**Installation of geocoder package did not respond & hence the provided CSV file will be used for latitude & longitude info**\n",
    "```\n",
    "#!conda install -c conda-forge geocoder\n",
    "#!conda install -c conda-forge/label/gcc7 geocoder\n",
    "#!conda install -c conda-forge/label/cf201901 geocoder\n",
    "\n",
    "#import geocoder # import geocoder\n",
    "\n",
    "# initialize your variable to None\n",
    "lat_lng_coords = None\n",
    "postal_code = \"M5G\"\n",
    "# loop until you get the coordinates\n",
    "while(lat_lng_coords is None):\n",
    "  g = geocoder.google('{}, Toronto, Ontario'.format(postal_code))\n",
    "  lat_lng_coords = g.latlng\n",
    "\n",
    "latitude = lat_lng_coords[0]\n",
    "longitude = lat_lng_coords[1]\n",
    "\n",
    "print (latitude, longitude)\n",
    "\n",
    "```"
   ]
  },
  {
   "cell_type": "markdown",
   "metadata": {},
   "source": [
    "**Retrieve the CSV file with Postal Code, Latitude & Longitude & read it into a pandas DataFrame**"
   ]
  },
  {
   "cell_type": "code",
   "execution_count": 8,
   "metadata": {},
   "outputs": [
    {
     "data": {
      "text/html": [
       "<div>\n",
       "<style scoped>\n",
       "    .dataframe tbody tr th:only-of-type {\n",
       "        vertical-align: middle;\n",
       "    }\n",
       "\n",
       "    .dataframe tbody tr th {\n",
       "        vertical-align: top;\n",
       "    }\n",
       "\n",
       "    .dataframe thead th {\n",
       "        text-align: right;\n",
       "    }\n",
       "</style>\n",
       "<table border=\"1\" class=\"dataframe\">\n",
       "  <thead>\n",
       "    <tr style=\"text-align: right;\">\n",
       "      <th></th>\n",
       "      <th>Postal Code</th>\n",
       "      <th>Latitude</th>\n",
       "      <th>Longitude</th>\n",
       "    </tr>\n",
       "  </thead>\n",
       "  <tbody>\n",
       "    <tr>\n",
       "      <th>0</th>\n",
       "      <td>M1B</td>\n",
       "      <td>43.806686</td>\n",
       "      <td>-79.194353</td>\n",
       "    </tr>\n",
       "    <tr>\n",
       "      <th>1</th>\n",
       "      <td>M1C</td>\n",
       "      <td>43.784535</td>\n",
       "      <td>-79.160497</td>\n",
       "    </tr>\n",
       "    <tr>\n",
       "      <th>2</th>\n",
       "      <td>M1E</td>\n",
       "      <td>43.763573</td>\n",
       "      <td>-79.188711</td>\n",
       "    </tr>\n",
       "    <tr>\n",
       "      <th>3</th>\n",
       "      <td>M1G</td>\n",
       "      <td>43.770992</td>\n",
       "      <td>-79.216917</td>\n",
       "    </tr>\n",
       "    <tr>\n",
       "      <th>4</th>\n",
       "      <td>M1H</td>\n",
       "      <td>43.773136</td>\n",
       "      <td>-79.239476</td>\n",
       "    </tr>\n",
       "  </tbody>\n",
       "</table>\n",
       "</div>"
      ],
      "text/plain": [
       "  Postal Code   Latitude  Longitude\n",
       "0         M1B  43.806686 -79.194353\n",
       "1         M1C  43.784535 -79.160497\n",
       "2         M1E  43.763573 -79.188711\n",
       "3         M1G  43.770992 -79.216917\n",
       "4         M1H  43.773136 -79.239476"
      ]
     },
     "execution_count": 8,
     "metadata": {},
     "output_type": "execute_result"
    }
   ],
   "source": [
    "# Read the CSV file into a pandas DataFrame\n",
    "geoDataFrame = pd.read_csv('http://cocl.us/Geospatial_data')\n",
    "\n",
    "# Display the head of the DataFrame\n",
    "geoDataFrame.head()\n"
   ]
  },
  {
   "cell_type": "markdown",
   "metadata": {},
   "source": [
    "**Rename the 'Postal Code' to 'Postcode' so that the DataFrames can be joined on 'Postcode' as the key**"
   ]
  },
  {
   "cell_type": "code",
   "execution_count": 9,
   "metadata": {},
   "outputs": [
    {
     "data": {
      "text/html": [
       "<div>\n",
       "<style scoped>\n",
       "    .dataframe tbody tr th:only-of-type {\n",
       "        vertical-align: middle;\n",
       "    }\n",
       "\n",
       "    .dataframe tbody tr th {\n",
       "        vertical-align: top;\n",
       "    }\n",
       "\n",
       "    .dataframe thead th {\n",
       "        text-align: right;\n",
       "    }\n",
       "</style>\n",
       "<table border=\"1\" class=\"dataframe\">\n",
       "  <thead>\n",
       "    <tr style=\"text-align: right;\">\n",
       "      <th></th>\n",
       "      <th>Postcode</th>\n",
       "      <th>Latitude</th>\n",
       "      <th>Longitude</th>\n",
       "    </tr>\n",
       "  </thead>\n",
       "  <tbody>\n",
       "    <tr>\n",
       "      <th>0</th>\n",
       "      <td>M1B</td>\n",
       "      <td>43.806686</td>\n",
       "      <td>-79.194353</td>\n",
       "    </tr>\n",
       "    <tr>\n",
       "      <th>1</th>\n",
       "      <td>M1C</td>\n",
       "      <td>43.784535</td>\n",
       "      <td>-79.160497</td>\n",
       "    </tr>\n",
       "    <tr>\n",
       "      <th>2</th>\n",
       "      <td>M1E</td>\n",
       "      <td>43.763573</td>\n",
       "      <td>-79.188711</td>\n",
       "    </tr>\n",
       "    <tr>\n",
       "      <th>3</th>\n",
       "      <td>M1G</td>\n",
       "      <td>43.770992</td>\n",
       "      <td>-79.216917</td>\n",
       "    </tr>\n",
       "    <tr>\n",
       "      <th>4</th>\n",
       "      <td>M1H</td>\n",
       "      <td>43.773136</td>\n",
       "      <td>-79.239476</td>\n",
       "    </tr>\n",
       "  </tbody>\n",
       "</table>\n",
       "</div>"
      ],
      "text/plain": [
       "  Postcode   Latitude  Longitude\n",
       "0      M1B  43.806686 -79.194353\n",
       "1      M1C  43.784535 -79.160497\n",
       "2      M1E  43.763573 -79.188711\n",
       "3      M1G  43.770992 -79.216917\n",
       "4      M1H  43.773136 -79.239476"
      ]
     },
     "execution_count": 9,
     "metadata": {},
     "output_type": "execute_result"
    }
   ],
   "source": [
    "# Rename the key column of the DataFrame\n",
    "geoDataFrame.rename(columns={'Postal Code':'Postcode'}, inplace=True)\n",
    "\n",
    "# Display the head of the DataFrame with renamed column\n",
    "geoDataFrame.head()\n"
   ]
  },
  {
   "cell_type": "code",
   "execution_count": 21,
   "metadata": {},
   "outputs": [
    {
     "name": "stdout",
     "output_type": "stream",
     "text": [
      "The shape of the merged DataFrame is ==>  (103, 5)\n"
     ]
    },
    {
     "data": {
      "text/html": [
       "<div>\n",
       "<style scoped>\n",
       "    .dataframe tbody tr th:only-of-type {\n",
       "        vertical-align: middle;\n",
       "    }\n",
       "\n",
       "    .dataframe tbody tr th {\n",
       "        vertical-align: top;\n",
       "    }\n",
       "\n",
       "    .dataframe thead th {\n",
       "        text-align: right;\n",
       "    }\n",
       "</style>\n",
       "<table border=\"1\" class=\"dataframe\">\n",
       "  <thead>\n",
       "    <tr style=\"text-align: right;\">\n",
       "      <th></th>\n",
       "      <th>Postcode</th>\n",
       "      <th>Borough</th>\n",
       "      <th>Neighborhood</th>\n",
       "      <th>Latitude</th>\n",
       "      <th>Longitude</th>\n",
       "    </tr>\n",
       "  </thead>\n",
       "  <tbody>\n",
       "    <tr>\n",
       "      <th>0</th>\n",
       "      <td>M1B</td>\n",
       "      <td>Scarborough</td>\n",
       "      <td>Malvern,Rouge</td>\n",
       "      <td>43.806686</td>\n",
       "      <td>-79.194353</td>\n",
       "    </tr>\n",
       "    <tr>\n",
       "      <th>1</th>\n",
       "      <td>M1C</td>\n",
       "      <td>Scarborough</td>\n",
       "      <td>Highland Creek,Port Union,Rouge Hill</td>\n",
       "      <td>43.784535</td>\n",
       "      <td>-79.160497</td>\n",
       "    </tr>\n",
       "    <tr>\n",
       "      <th>2</th>\n",
       "      <td>M1E</td>\n",
       "      <td>Scarborough</td>\n",
       "      <td>Guildwood,Morningside,West Hill</td>\n",
       "      <td>43.763573</td>\n",
       "      <td>-79.188711</td>\n",
       "    </tr>\n",
       "    <tr>\n",
       "      <th>3</th>\n",
       "      <td>M1G</td>\n",
       "      <td>Scarborough</td>\n",
       "      <td>Woburn</td>\n",
       "      <td>43.770992</td>\n",
       "      <td>-79.216917</td>\n",
       "    </tr>\n",
       "    <tr>\n",
       "      <th>4</th>\n",
       "      <td>M1H</td>\n",
       "      <td>Scarborough</td>\n",
       "      <td>Cedarbrae</td>\n",
       "      <td>43.773136</td>\n",
       "      <td>-79.239476</td>\n",
       "    </tr>\n",
       "    <tr>\n",
       "      <th>5</th>\n",
       "      <td>M1J</td>\n",
       "      <td>Scarborough</td>\n",
       "      <td>Scarborough Village</td>\n",
       "      <td>43.744734</td>\n",
       "      <td>-79.239476</td>\n",
       "    </tr>\n",
       "    <tr>\n",
       "      <th>6</th>\n",
       "      <td>M1K</td>\n",
       "      <td>Scarborough</td>\n",
       "      <td>East Birchmount Park,Ionview,Kennedy Park</td>\n",
       "      <td>43.727929</td>\n",
       "      <td>-79.262029</td>\n",
       "    </tr>\n",
       "    <tr>\n",
       "      <th>7</th>\n",
       "      <td>M1L</td>\n",
       "      <td>Scarborough</td>\n",
       "      <td>Clairlea,Golden Mile,Oakridge</td>\n",
       "      <td>43.711112</td>\n",
       "      <td>-79.284577</td>\n",
       "    </tr>\n",
       "    <tr>\n",
       "      <th>8</th>\n",
       "      <td>M1M</td>\n",
       "      <td>Scarborough</td>\n",
       "      <td>Cliffcrest,Cliffside,Scarborough Village West</td>\n",
       "      <td>43.716316</td>\n",
       "      <td>-79.239476</td>\n",
       "    </tr>\n",
       "    <tr>\n",
       "      <th>9</th>\n",
       "      <td>M1N</td>\n",
       "      <td>Scarborough</td>\n",
       "      <td>Birch Cliff,Cliffside West</td>\n",
       "      <td>43.692657</td>\n",
       "      <td>-79.264848</td>\n",
       "    </tr>\n",
       "    <tr>\n",
       "      <th>10</th>\n",
       "      <td>M1P</td>\n",
       "      <td>Scarborough</td>\n",
       "      <td>Dorset Park,Scarborough Town Centre,Wexford He...</td>\n",
       "      <td>43.757410</td>\n",
       "      <td>-79.273304</td>\n",
       "    </tr>\n",
       "    <tr>\n",
       "      <th>11</th>\n",
       "      <td>M1R</td>\n",
       "      <td>Scarborough</td>\n",
       "      <td>Maryvale,Wexford</td>\n",
       "      <td>43.750072</td>\n",
       "      <td>-79.295849</td>\n",
       "    </tr>\n",
       "  </tbody>\n",
       "</table>\n",
       "</div>"
      ],
      "text/plain": [
       "   Postcode      Borough                                       Neighborhood  \\\n",
       "0       M1B  Scarborough                                      Malvern,Rouge   \n",
       "1       M1C  Scarborough               Highland Creek,Port Union,Rouge Hill   \n",
       "2       M1E  Scarborough                    Guildwood,Morningside,West Hill   \n",
       "3       M1G  Scarborough                                             Woburn   \n",
       "4       M1H  Scarborough                                          Cedarbrae   \n",
       "5       M1J  Scarborough                                Scarborough Village   \n",
       "6       M1K  Scarborough          East Birchmount Park,Ionview,Kennedy Park   \n",
       "7       M1L  Scarborough                      Clairlea,Golden Mile,Oakridge   \n",
       "8       M1M  Scarborough      Cliffcrest,Cliffside,Scarborough Village West   \n",
       "9       M1N  Scarborough                         Birch Cliff,Cliffside West   \n",
       "10      M1P  Scarborough  Dorset Park,Scarborough Town Centre,Wexford He...   \n",
       "11      M1R  Scarborough                                   Maryvale,Wexford   \n",
       "\n",
       "     Latitude  Longitude  \n",
       "0   43.806686 -79.194353  \n",
       "1   43.784535 -79.160497  \n",
       "2   43.763573 -79.188711  \n",
       "3   43.770992 -79.216917  \n",
       "4   43.773136 -79.239476  \n",
       "5   43.744734 -79.239476  \n",
       "6   43.727929 -79.262029  \n",
       "7   43.711112 -79.284577  \n",
       "8   43.716316 -79.239476  \n",
       "9   43.692657 -79.264848  \n",
       "10  43.757410 -79.273304  \n",
       "11  43.750072 -79.295849  "
      ]
     },
     "execution_count": 21,
     "metadata": {},
     "output_type": "execute_result"
    }
   ],
   "source": [
    "# Merge the DataFrames using Postcode as the key & create a final location DataFrame\n",
    "flDataFrame = pd.merge(nnlDataFrame, geoDataFrame, on='Postcode')\n",
    "\n",
    "# Display the shape of the Merged DataFrame (should be same as the shape of DataFrame constructed in part 1 of this exercise) \n",
    "print(\"The shape of the merged DataFrame is ==> \", flDataFrame.shape)\n",
    "\n",
    "# Display the head (1st 12 rows) of the DatFrame \n",
    "flDataFrame.head(12)\n"
   ]
  },
  {
   "cell_type": "markdown",
   "metadata": {},
   "source": [
    "## Part 3 of 3 - Segment / cluster, & visualize data"
   ]
  },
  {
   "cell_type": "code",
   "execution_count": null,
   "metadata": {},
   "outputs": [],
   "source": []
  }
 ],
 "metadata": {
  "kernelspec": {
   "display_name": "Python 3",
   "language": "python",
   "name": "python3"
  },
  "language_info": {
   "codemirror_mode": {
    "name": "ipython",
    "version": 3
   },
   "file_extension": ".py",
   "mimetype": "text/x-python",
   "name": "python",
   "nbconvert_exporter": "python",
   "pygments_lexer": "ipython3",
   "version": "3.7.3"
  }
 },
 "nbformat": 4,
 "nbformat_minor": 2
}
