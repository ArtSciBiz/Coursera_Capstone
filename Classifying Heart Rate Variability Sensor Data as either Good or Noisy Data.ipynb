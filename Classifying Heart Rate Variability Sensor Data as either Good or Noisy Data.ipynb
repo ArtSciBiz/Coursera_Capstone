{
 "cells": [
  {
   "cell_type": "markdown",
   "metadata": {},
   "source": [
    "# Analyze the quality of raw piezo-electric (vibration) signal as good/bad\n",
    "\n",
    "**Data is collected from nearly one thousand sleep sessions represented as a single column CSV file**\n",
    "\n",
    "**Each example represents one minute of sleep (sampled at 1000Hz)effectively measured for Heart Rate Variability**"
   ]
  },
  {
   "cell_type": "markdown",
   "metadata": {},
   "source": [
    "## Data Exploration"
   ]
  },
  {
   "cell_type": "markdown",
   "metadata": {},
   "source": [
    "One of the first things we do as in conducting Data Science is to visualize the data. I've isolated a good sensor read and a bad (noisy) sensor read file for data exploration, and a quick compare and contrast. "
   ]
  },
  {
   "cell_type": "code",
   "execution_count": 5,
   "metadata": {},
   "outputs": [
    {
     "name": "stdout",
     "output_type": "stream",
     "text": [
      "\n",
      "Length of the Good Reads dataframe :  61000\n",
      "\n",
      "Descriptive Stats of the good reads dataframe : \n",
      " count    61000.000000\n",
      "mean      2023.225459\n",
      "std        292.264114\n",
      "min          0.000000\n",
      "25%       1880.000000\n",
      "50%       2033.000000\n",
      "75%       2167.000000\n",
      "max       4053.000000\n",
      "Name: Reading, dtype: float64\n",
      "\n",
      "Head of Good Reads data frame : \n",
      "\n"
     ]
    },
    {
     "data": {
      "text/html": [
       "<div>\n",
       "<style scoped>\n",
       "    .dataframe tbody tr th:only-of-type {\n",
       "        vertical-align: middle;\n",
       "    }\n",
       "\n",
       "    .dataframe tbody tr th {\n",
       "        vertical-align: top;\n",
       "    }\n",
       "\n",
       "    .dataframe thead th {\n",
       "        text-align: right;\n",
       "    }\n",
       "</style>\n",
       "<table border=\"1\" class=\"dataframe\">\n",
       "  <thead>\n",
       "    <tr style=\"text-align: right;\">\n",
       "      <th></th>\n",
       "      <th>SeqNo</th>\n",
       "      <th>Reading</th>\n",
       "    </tr>\n",
       "  </thead>\n",
       "  <tbody>\n",
       "    <tr>\n",
       "      <th>0</th>\n",
       "      <td>0</td>\n",
       "      <td>2100.0</td>\n",
       "    </tr>\n",
       "    <tr>\n",
       "      <th>1</th>\n",
       "      <td>1</td>\n",
       "      <td>2090.0</td>\n",
       "    </tr>\n",
       "    <tr>\n",
       "      <th>2</th>\n",
       "      <td>2</td>\n",
       "      <td>2070.0</td>\n",
       "    </tr>\n",
       "    <tr>\n",
       "      <th>3</th>\n",
       "      <td>3</td>\n",
       "      <td>2055.0</td>\n",
       "    </tr>\n",
       "    <tr>\n",
       "      <th>4</th>\n",
       "      <td>4</td>\n",
       "      <td>2037.0</td>\n",
       "    </tr>\n",
       "  </tbody>\n",
       "</table>\n",
       "</div>"
      ],
      "text/plain": [
       "   SeqNo  Reading\n",
       "0      0   2100.0\n",
       "1      1   2090.0\n",
       "2      2   2070.0\n",
       "3      3   2055.0\n",
       "4      4   2037.0"
      ]
     },
     "execution_count": 5,
     "metadata": {},
     "output_type": "execute_result"
    }
   ],
   "source": [
    "import pandas as pd\n",
    "import pandas.io.common\n",
    "\n",
    "# Each file has 70,000 readings with a sequence number and a reading value; hence column names\n",
    "colnames=['SeqNo', 'Reading'] \n",
    "\n",
    "# Create pandas dataframes one for good reads:dfG, and bad reads(noisy):dfB\n",
    "dfG = pd.DataFrame()\n",
    "dfG = pd.read_csv('GoodData_1573839630_1573839690.csv', names=colnames, header=None, index_col=False)\n",
    "dfG.reset_index(drop=True, inplace=True)\n",
    "print(\"\\nLength of the Good Reads dataframe : \", len(dfG))\n",
    "print(\"\\nDescriptive Stats of the good reads dataframe : \\n\", dfG['Reading'].describe())\n",
    "print (\"\\nHead of Good Reads data frame : \\n\")\n",
    "dfG.head()"
   ]
  },
  {
   "cell_type": "code",
   "execution_count": 7,
   "metadata": {},
   "outputs": [
    {
     "name": "stdout",
     "output_type": "stream",
     "text": [
      "\n",
      "Length of the Bad Reads dataframe  :  61000\n",
      "\n",
      "Descriptive Stats of the bad reads dataframe : \n",
      " count    61000.000000\n",
      "mean      2023.224689\n",
      "std         71.658230\n",
      "min       1537.000000\n",
      "25%       1978.000000\n",
      "50%       2023.000000\n",
      "75%       2068.000000\n",
      "max       2723.000000\n",
      "Name: Reading, dtype: float64\n",
      "\n",
      "Head of Bad Reads data frame : \n",
      "\n"
     ]
    },
    {
     "data": {
      "text/html": [
       "<div>\n",
       "<style scoped>\n",
       "    .dataframe tbody tr th:only-of-type {\n",
       "        vertical-align: middle;\n",
       "    }\n",
       "\n",
       "    .dataframe tbody tr th {\n",
       "        vertical-align: top;\n",
       "    }\n",
       "\n",
       "    .dataframe thead th {\n",
       "        text-align: right;\n",
       "    }\n",
       "</style>\n",
       "<table border=\"1\" class=\"dataframe\">\n",
       "  <thead>\n",
       "    <tr style=\"text-align: right;\">\n",
       "      <th></th>\n",
       "      <th>SeqNo</th>\n",
       "      <th>Reading</th>\n",
       "    </tr>\n",
       "  </thead>\n",
       "  <tbody>\n",
       "    <tr>\n",
       "      <th>0</th>\n",
       "      <td>0</td>\n",
       "      <td>2027.0</td>\n",
       "    </tr>\n",
       "    <tr>\n",
       "      <th>1</th>\n",
       "      <td>1</td>\n",
       "      <td>2043.0</td>\n",
       "    </tr>\n",
       "    <tr>\n",
       "      <th>2</th>\n",
       "      <td>2</td>\n",
       "      <td>2062.0</td>\n",
       "    </tr>\n",
       "    <tr>\n",
       "      <th>3</th>\n",
       "      <td>3</td>\n",
       "      <td>2073.0</td>\n",
       "    </tr>\n",
       "    <tr>\n",
       "      <th>4</th>\n",
       "      <td>4</td>\n",
       "      <td>2093.0</td>\n",
       "    </tr>\n",
       "  </tbody>\n",
       "</table>\n",
       "</div>"
      ],
      "text/plain": [
       "   SeqNo  Reading\n",
       "0      0   2027.0\n",
       "1      1   2043.0\n",
       "2      2   2062.0\n",
       "3      3   2073.0\n",
       "4      4   2093.0"
      ]
     },
     "execution_count": 7,
     "metadata": {},
     "output_type": "execute_result"
    }
   ],
   "source": [
    "# Same as above but now visualize the bad (noisy) readings file including descriptive statistics\n",
    "dfB = pd.DataFrame()\n",
    "dfB = pd.read_csv('BadData_1573753230_1573753290.csv', names=colnames, header=None,index_col=False)\n",
    "dfB.reset_index(drop=True, inplace=True)\n",
    "print(\"\\nLength of the Bad Reads dataframe  : \", len(dfB))\n",
    "print(\"\\nDescriptive Stats of the bad reads dataframe : \\n\", dfB['Reading'].describe())\n",
    "print (\"\\nHead of Bad Reads data frame : \\n\")\n",
    "dfB.head()"
   ]
  },
  {
   "cell_type": "markdown",
   "metadata": {},
   "source": [
    "**Even better is to visualize the 2D plot of the readings (hertz) sequentially**\n",
    "\n",
    "(looks like continuous vibrations recorded almost 3 times a second)\n",
    "\n",
    "**We can clearly see the difference between good & noisy readings; the former(blue)resembles the familiar EKG recording**\n",
    "\n",
    "(gives me a clue that the frequency of recorded events may be a way to readily distinguish between good & a noisy signal)"
   ]
  },
  {
   "cell_type": "code",
   "execution_count": 9,
   "metadata": {},
   "outputs": [
    {
     "data": {
      "image/png": "[encoded data removed]",
      "text/plain": [
       "<Figure size 1440x360 with 1 Axes>"
      ]
     },
     "metadata": {
      "needs_background": "light"
     },
     "output_type": "display_data"
    },
    {
     "data": {
      "image/png": "[encoded data removed]",
      "text/plain": [
       "<Figure size 1440x360 with 1 Axes>"
      ]
     },
     "metadata": {
      "needs_background": "light"
     },
     "output_type": "display_data"
    }
   ],
   "source": [
    "import matplotlib\n",
    "from matplotlib import pyplot as plt\n",
    "\n",
    "dfG.plot.line(y=1, label='Heart Rate Vibrations', title='Good  Sensor Data', figsize=(20,5),color='b')\n",
    "dfB.plot.line(y=1, label='Heart Rate Vibrations', title='Noisy Sensor Data',figsize=(20,5), color='r')\n",
    "plt.show()"
   ]
  },
  {
   "cell_type": "markdown",
   "metadata": {},
   "source": [
    "### Histograms do offer more clues as a pattern of distribution of frequencies"
   ]
  },
  {
   "cell_type": "code",
   "execution_count": 10,
   "metadata": {},
   "outputs": [
    {
     "data": {
      "image/png": "[encoded data removed]",
      "text/plain": [
       "<Figure size 1440x360 with 1 Axes>"
      ]
     },
     "metadata": {
      "needs_background": "light"
     },
     "output_type": "display_data"
    },
    {
     "data": {
      "image/png": "[encoded data removed]",
      "text/plain": [
       "<Figure size 1440x360 with 1 Axes>"
      ]
     },
     "metadata": {
      "needs_background": "light"
     },
     "output_type": "display_data"
    }
   ],
   "source": [
    "dfG.plot.hist(y=1, \n",
    "              bins = [1000,1100,1200,1300,1400,1500,1600,1700,1800,1900,2000,2100,2200,2300,2500],\n",
    "              label='Raw Heart Rate Vibrations',\n",
    "              title='Good  Sensor Data', \n",
    "              figsize=(20,5), \n",
    "              color='b')\n",
    "\n",
    "dfB.plot.hist(y=1, \n",
    "              bins = [1000,1100,1200,1300,1400,1500,1600,1700,1800,1900,2000,2100,2200,2300,2500],\n",
    "              label='Raw Heart Rate Vibrations', \n",
    "              title='Noisy Sensor Data',\n",
    "              figsize=(20,5), \n",
    "              color='r')\n",
    "plt.show()"
   ]
  },
  {
   "cell_type": "markdown",
   "metadata": {},
   "source": [
    "### Get all the data, engineer features & label the data as good or bad (noisy)"
   ]
  },
  {
   "cell_type": "code",
   "execution_count": 13,
   "metadata": {},
   "outputs": [
    {
     "name": "stdout",
     "output_type": "stream",
     "text": [
      "Number of Sensor Reading Files ( bad ) :  565\n",
      "Number of Sensor Reading Files ( good ) :  336\n"
     ]
    }
   ],
   "source": [
    "# load mapping files\n",
    "from os import listdir\n",
    "import glob\n",
    "import pandas as pd\n",
    "import pandas.io.common\n",
    "import numpy as np\n",
    "\n",
    "###################################################################\n",
    "# Create a function to iterate through each file in the directory \n",
    "###################################################################\n",
    "colnames=['SeqNo', 'Reading']\n",
    "def construct_dataframe(path):\n",
    "    allFiles = []\n",
    "    # First get the list of all the files\n",
    "    for fname in glob.glob(path+'/**/*.csv', recursive=True):\n",
    "        allFiles.append(fname)\n",
    "    print(\"Number of Sensor Reading Files (\",path,\") : \", len(allFiles))\n",
    "\n",
    "    lst = [] \n",
    "    # Load each file into a pandas DdataFrame & then into NumPy arrays for data pre-processing\n",
    "    for filename in allFiles:\n",
    "        try:\n",
    "            df  = pd.read_csv(filename, names=colnames, header=None, index_col=False)\n",
    "            arr = df['Reading'].to_numpy()            \n",
    "            # Bin the data using histogram function of NumPy\n",
    "            tup = np.histogram(arr, \n",
    "                    bins=[1000,1100,1200,1300,1400,1500,1600,1700,1800,1900,2000,2100,2200,2300,2500,2600])\n",
    "            lst.append([i for t in tup for i in t][:15])\n",
    "        except pandas.io.common.EmptyDataError:\n",
    "          print(filename, \" is empty and has been skipped.\")\n",
    "\n",
    "    # Attach the Classification of Sensor Data as either good or bad\n",
    "    for x in range(len(lst)):\n",
    "        lst[x].append(path)\n",
    "\n",
    "    # Feature Engineering (binning the recording of the range of vibrations (in Hertz))\n",
    "    dfSensorData = pd.DataFrame(lst, \n",
    "                  columns=['B0','B1','B2','B3','B4','B5','B6','B7','B8','B9','BA','BB','BC','BD','BE','CLASS'])\n",
    "        \n",
    "    return dfSensorData \n",
    "\n",
    "#############################################################################\n",
    "# Call the above function & load the good & noisy data into separate frames\n",
    "#############################################################################\n",
    "dfB = construct_dataframe('bad')\n",
    "dfG = construct_dataframe('good')\n"
   ]
  },
  {
   "cell_type": "code",
   "execution_count": 21,
   "metadata": {},
   "outputs": [
    {
     "name": "stdout",
     "output_type": "stream",
     "text": [
      "Rows x Columns of dataframe that contains NOISY sensor readings is :  (565, 16)\n",
      "Rows x Columns of dataframe that contains GOOD  sensor readings is :  (336, 16)\n"
     ]
    }
   ],
   "source": [
    "print('Rows x Columns of dataframe that contains NOISY sensor readings is : ', dfB.shape)\n",
    "print('Rows x Columns of dataframe that contains GOOD  sensor readings is : ', dfG.shape)"
   ]
  },
  {
   "cell_type": "code",
   "execution_count": 22,
   "metadata": {},
   "outputs": [
    {
     "name": "stdout",
     "output_type": "stream",
     "text": [
      "Rows x Columns of dataframe that contains ALL  sensor readings is :  (901, 16)\n"
     ]
    }
   ],
   "source": [
    "# Concatenate both the dataframes \n",
    "dfX = pd.concat([dfG,dfB],axis=0)\n",
    "print('Rows x Columns of dataframe that contains ALL  sensor readings is : ', dfX.shape)"
   ]
  },
  {
   "cell_type": "code",
   "execution_count": 23,
   "metadata": {},
   "outputs": [
    {
     "data": {
      "text/html": [
       "<div>\n",
       "<style scoped>\n",
       "    .dataframe tbody tr th:only-of-type {\n",
       "        vertical-align: middle;\n",
       "    }\n",
       "\n",
       "    .dataframe tbody tr th {\n",
       "        vertical-align: top;\n",
       "    }\n",
       "\n",
       "    .dataframe thead th {\n",
       "        text-align: right;\n",
       "    }\n",
       "</style>\n",
       "<table border=\"1\" class=\"dataframe\">\n",
       "  <thead>\n",
       "    <tr style=\"text-align: right;\">\n",
       "      <th></th>\n",
       "      <th>B0</th>\n",
       "      <th>B1</th>\n",
       "      <th>B2</th>\n",
       "      <th>B3</th>\n",
       "      <th>B4</th>\n",
       "      <th>B5</th>\n",
       "      <th>B6</th>\n",
       "      <th>B7</th>\n",
       "      <th>B8</th>\n",
       "      <th>B9</th>\n",
       "      <th>BA</th>\n",
       "      <th>BB</th>\n",
       "      <th>BC</th>\n",
       "      <th>BD</th>\n",
       "      <th>BE</th>\n",
       "      <th>CLASS</th>\n",
       "    </tr>\n",
       "  </thead>\n",
       "  <tbody>\n",
       "    <tr>\n",
       "      <th>0</th>\n",
       "      <td>0</td>\n",
       "      <td>0</td>\n",
       "      <td>0</td>\n",
       "      <td>0</td>\n",
       "      <td>0</td>\n",
       "      <td>0</td>\n",
       "      <td>0</td>\n",
       "      <td>0</td>\n",
       "      <td>23</td>\n",
       "      <td>9151</td>\n",
       "      <td>36208</td>\n",
       "      <td>11261</td>\n",
       "      <td>3531</td>\n",
       "      <td>826</td>\n",
       "      <td>0</td>\n",
       "      <td>good</td>\n",
       "    </tr>\n",
       "    <tr>\n",
       "      <th>1</th>\n",
       "      <td>0</td>\n",
       "      <td>0</td>\n",
       "      <td>0</td>\n",
       "      <td>0</td>\n",
       "      <td>0</td>\n",
       "      <td>0</td>\n",
       "      <td>0</td>\n",
       "      <td>244</td>\n",
       "      <td>1964</td>\n",
       "      <td>6545</td>\n",
       "      <td>28684</td>\n",
       "      <td>22732</td>\n",
       "      <td>831</td>\n",
       "      <td>0</td>\n",
       "      <td>0</td>\n",
       "      <td>good</td>\n",
       "    </tr>\n",
       "    <tr>\n",
       "      <th>2</th>\n",
       "      <td>0</td>\n",
       "      <td>0</td>\n",
       "      <td>0</td>\n",
       "      <td>0</td>\n",
       "      <td>0</td>\n",
       "      <td>0</td>\n",
       "      <td>0</td>\n",
       "      <td>156</td>\n",
       "      <td>5574</td>\n",
       "      <td>15114</td>\n",
       "      <td>20146</td>\n",
       "      <td>12175</td>\n",
       "      <td>5576</td>\n",
       "      <td>2259</td>\n",
       "      <td>0</td>\n",
       "      <td>good</td>\n",
       "    </tr>\n",
       "    <tr>\n",
       "      <th>3</th>\n",
       "      <td>0</td>\n",
       "      <td>0</td>\n",
       "      <td>0</td>\n",
       "      <td>0</td>\n",
       "      <td>0</td>\n",
       "      <td>0</td>\n",
       "      <td>197</td>\n",
       "      <td>1687</td>\n",
       "      <td>6950</td>\n",
       "      <td>11389</td>\n",
       "      <td>20488</td>\n",
       "      <td>10149</td>\n",
       "      <td>4390</td>\n",
       "      <td>5361</td>\n",
       "      <td>262</td>\n",
       "      <td>good</td>\n",
       "    </tr>\n",
       "    <tr>\n",
       "      <th>4</th>\n",
       "      <td>0</td>\n",
       "      <td>0</td>\n",
       "      <td>0</td>\n",
       "      <td>0</td>\n",
       "      <td>0</td>\n",
       "      <td>0</td>\n",
       "      <td>0</td>\n",
       "      <td>12</td>\n",
       "      <td>1585</td>\n",
       "      <td>12863</td>\n",
       "      <td>30257</td>\n",
       "      <td>12997</td>\n",
       "      <td>2288</td>\n",
       "      <td>998</td>\n",
       "      <td>0</td>\n",
       "      <td>good</td>\n",
       "    </tr>\n",
       "  </tbody>\n",
       "</table>\n",
       "</div>"
      ],
      "text/plain": [
       "   B0  B1  B2  B3  B4  B5   B6    B7    B8     B9     BA     BB    BC    BD  \\\n",
       "0   0   0   0   0   0   0    0     0    23   9151  36208  11261  3531   826   \n",
       "1   0   0   0   0   0   0    0   244  1964   6545  28684  22732   831     0   \n",
       "2   0   0   0   0   0   0    0   156  5574  15114  20146  12175  5576  2259   \n",
       "3   0   0   0   0   0   0  197  1687  6950  11389  20488  10149  4390  5361   \n",
       "4   0   0   0   0   0   0    0    12  1585  12863  30257  12997  2288   998   \n",
       "\n",
       "    BE CLASS  \n",
       "0    0  good  \n",
       "1    0  good  \n",
       "2    0  good  \n",
       "3  262  good  \n",
       "4    0  good  "
      ]
     },
     "execution_count": 23,
     "metadata": {},
     "output_type": "execute_result"
    }
   ],
   "source": [
    "dfX.head()"
   ]
  },
  {
   "cell_type": "code",
   "execution_count": 24,
   "metadata": {},
   "outputs": [],
   "source": [
    "# Shuffle the original Dataframe & copy to a new one & reset the index\n",
    "dfY = dfX.sample(frac=1).reset_index(drop=True)"
   ]
  },
  {
   "cell_type": "code",
   "execution_count": 25,
   "metadata": {},
   "outputs": [
    {
     "data": {
      "text/html": [
       "<div>\n",
       "<style scoped>\n",
       "    .dataframe tbody tr th:only-of-type {\n",
       "        vertical-align: middle;\n",
       "    }\n",
       "\n",
       "    .dataframe tbody tr th {\n",
       "        vertical-align: top;\n",
       "    }\n",
       "\n",
       "    .dataframe thead th {\n",
       "        text-align: right;\n",
       "    }\n",
       "</style>\n",
       "<table border=\"1\" class=\"dataframe\">\n",
       "  <thead>\n",
       "    <tr style=\"text-align: right;\">\n",
       "      <th></th>\n",
       "      <th>B0</th>\n",
       "      <th>B1</th>\n",
       "      <th>B2</th>\n",
       "      <th>B3</th>\n",
       "      <th>B4</th>\n",
       "      <th>B5</th>\n",
       "      <th>B6</th>\n",
       "      <th>B7</th>\n",
       "      <th>B8</th>\n",
       "      <th>B9</th>\n",
       "      <th>BA</th>\n",
       "      <th>BB</th>\n",
       "      <th>BC</th>\n",
       "      <th>BD</th>\n",
       "      <th>BE</th>\n",
       "      <th>CLASS</th>\n",
       "    </tr>\n",
       "  </thead>\n",
       "  <tbody>\n",
       "    <tr>\n",
       "      <th>0</th>\n",
       "      <td>0</td>\n",
       "      <td>0</td>\n",
       "      <td>0</td>\n",
       "      <td>0</td>\n",
       "      <td>0</td>\n",
       "      <td>0</td>\n",
       "      <td>0</td>\n",
       "      <td>0</td>\n",
       "      <td>0</td>\n",
       "      <td>0</td>\n",
       "      <td>61000</td>\n",
       "      <td>0</td>\n",
       "      <td>0</td>\n",
       "      <td>0</td>\n",
       "      <td>0</td>\n",
       "      <td>bad</td>\n",
       "    </tr>\n",
       "    <tr>\n",
       "      <th>1</th>\n",
       "      <td>0</td>\n",
       "      <td>0</td>\n",
       "      <td>0</td>\n",
       "      <td>0</td>\n",
       "      <td>0</td>\n",
       "      <td>0</td>\n",
       "      <td>0</td>\n",
       "      <td>0</td>\n",
       "      <td>78</td>\n",
       "      <td>5342</td>\n",
       "      <td>40808</td>\n",
       "      <td>12493</td>\n",
       "      <td>2035</td>\n",
       "      <td>244</td>\n",
       "      <td>0</td>\n",
       "      <td>good</td>\n",
       "    </tr>\n",
       "    <tr>\n",
       "      <th>2</th>\n",
       "      <td>0</td>\n",
       "      <td>10</td>\n",
       "      <td>312</td>\n",
       "      <td>328</td>\n",
       "      <td>527</td>\n",
       "      <td>704</td>\n",
       "      <td>852</td>\n",
       "      <td>1470</td>\n",
       "      <td>2527</td>\n",
       "      <td>4914</td>\n",
       "      <td>33421</td>\n",
       "      <td>8216</td>\n",
       "      <td>2832</td>\n",
       "      <td>3038</td>\n",
       "      <td>622</td>\n",
       "      <td>bad</td>\n",
       "    </tr>\n",
       "    <tr>\n",
       "      <th>3</th>\n",
       "      <td>0</td>\n",
       "      <td>0</td>\n",
       "      <td>0</td>\n",
       "      <td>0</td>\n",
       "      <td>0</td>\n",
       "      <td>0</td>\n",
       "      <td>0</td>\n",
       "      <td>0</td>\n",
       "      <td>0</td>\n",
       "      <td>251</td>\n",
       "      <td>56321</td>\n",
       "      <td>4428</td>\n",
       "      <td>0</td>\n",
       "      <td>0</td>\n",
       "      <td>0</td>\n",
       "      <td>bad</td>\n",
       "    </tr>\n",
       "    <tr>\n",
       "      <th>4</th>\n",
       "      <td>0</td>\n",
       "      <td>0</td>\n",
       "      <td>0</td>\n",
       "      <td>0</td>\n",
       "      <td>0</td>\n",
       "      <td>0</td>\n",
       "      <td>0</td>\n",
       "      <td>0</td>\n",
       "      <td>0</td>\n",
       "      <td>0</td>\n",
       "      <td>61000</td>\n",
       "      <td>0</td>\n",
       "      <td>0</td>\n",
       "      <td>0</td>\n",
       "      <td>0</td>\n",
       "      <td>bad</td>\n",
       "    </tr>\n",
       "  </tbody>\n",
       "</table>\n",
       "</div>"
      ],
      "text/plain": [
       "   B0  B1   B2   B3   B4   B5   B6    B7    B8    B9     BA     BB    BC  \\\n",
       "0   0   0    0    0    0    0    0     0     0     0  61000      0     0   \n",
       "1   0   0    0    0    0    0    0     0    78  5342  40808  12493  2035   \n",
       "2   0  10  312  328  527  704  852  1470  2527  4914  33421   8216  2832   \n",
       "3   0   0    0    0    0    0    0     0     0   251  56321   4428     0   \n",
       "4   0   0    0    0    0    0    0     0     0     0  61000      0     0   \n",
       "\n",
       "     BD   BE CLASS  \n",
       "0     0    0   bad  \n",
       "1   244    0  good  \n",
       "2  3038  622   bad  \n",
       "3     0    0   bad  \n",
       "4     0    0   bad  "
      ]
     },
     "execution_count": 25,
     "metadata": {},
     "output_type": "execute_result"
    }
   ],
   "source": [
    "dfY.head()"
   ]
  },
  {
   "cell_type": "markdown",
   "metadata": {},
   "source": [
    "### Prepare the data for exercising a ML classifier"
   ]
  },
  {
   "cell_type": "code",
   "execution_count": 26,
   "metadata": {},
   "outputs": [],
   "source": [
    "#######################################\n",
    "# FEATURE SELECTION (X, Y)\n",
    "#######################################\n",
    "\n",
    "# Select the following 15 features as X (array) - numerical data (binned)\n",
    "X = dfY[['B0','B1','B2','B3','B4','B5','B6','B7','B8','B9','BA','BB','BC','BD','BE']]\n",
    "# Select the corresponding feature which is the classification of sensor data as good or bad\n",
    "Y = dfY['CLASS']"
   ]
  },
  {
   "cell_type": "code",
   "execution_count": 27,
   "metadata": {},
   "outputs": [],
   "source": [
    "#######################################\n",
    "# SPLIT THE TRAINING & TESTING DATASETS\n",
    "#######################################\n",
    "\n",
    "# Import train_test_split function\n",
    "from sklearn.model_selection import train_test_split\n",
    "\n",
    "# Split the dataset as training & testing (80/20 split)\n",
    "X_trn, X_tst, Y_trn, Y_tst = train_test_split(X, Y, test_size=0.2, random_state=4)"
   ]
  },
  {
   "cell_type": "code",
   "execution_count": 28,
   "metadata": {},
   "outputs": [
    {
     "name": "stdout",
     "output_type": "stream",
     "text": [
      "\n",
      "Size of the training dataset is  (720, 15)\n",
      "\n",
      "Size of the testing  dataset is  (181, 15)\n"
     ]
    }
   ],
   "source": [
    "# Print the shape of the resulting datasets (dataframes)\n",
    "print(\"\\nSize of the training dataset is \", X_trn.shape)\n",
    "print(\"\\nSize of the testing  dataset is \", X_tst.shape)"
   ]
  },
  {
   "cell_type": "code",
   "execution_count": 29,
   "metadata": {},
   "outputs": [
    {
     "name": "stdout",
     "output_type": "stream",
     "text": [
      "\n",
      " The 15 features selected to create model are : \n",
      "\n"
     ]
    },
    {
     "data": {
      "text/html": [
       "<div>\n",
       "<style scoped>\n",
       "    .dataframe tbody tr th:only-of-type {\n",
       "        vertical-align: middle;\n",
       "    }\n",
       "\n",
       "    .dataframe tbody tr th {\n",
       "        vertical-align: top;\n",
       "    }\n",
       "\n",
       "    .dataframe thead th {\n",
       "        text-align: right;\n",
       "    }\n",
       "</style>\n",
       "<table border=\"1\" class=\"dataframe\">\n",
       "  <thead>\n",
       "    <tr style=\"text-align: right;\">\n",
       "      <th></th>\n",
       "      <th>B0</th>\n",
       "      <th>B1</th>\n",
       "      <th>B2</th>\n",
       "      <th>B3</th>\n",
       "      <th>B4</th>\n",
       "      <th>B5</th>\n",
       "      <th>B6</th>\n",
       "      <th>B7</th>\n",
       "      <th>B8</th>\n",
       "      <th>B9</th>\n",
       "      <th>BA</th>\n",
       "      <th>BB</th>\n",
       "      <th>BC</th>\n",
       "      <th>BD</th>\n",
       "      <th>BE</th>\n",
       "    </tr>\n",
       "  </thead>\n",
       "  <tbody>\n",
       "    <tr>\n",
       "      <th>215</th>\n",
       "      <td>0</td>\n",
       "      <td>0</td>\n",
       "      <td>0</td>\n",
       "      <td>0</td>\n",
       "      <td>0</td>\n",
       "      <td>40</td>\n",
       "      <td>403</td>\n",
       "      <td>3116</td>\n",
       "      <td>5907</td>\n",
       "      <td>10879</td>\n",
       "      <td>21686</td>\n",
       "      <td>15063</td>\n",
       "      <td>3585</td>\n",
       "      <td>321</td>\n",
       "      <td>0</td>\n",
       "    </tr>\n",
       "    <tr>\n",
       "      <th>401</th>\n",
       "      <td>0</td>\n",
       "      <td>0</td>\n",
       "      <td>0</td>\n",
       "      <td>0</td>\n",
       "      <td>0</td>\n",
       "      <td>101</td>\n",
       "      <td>472</td>\n",
       "      <td>982</td>\n",
       "      <td>2583</td>\n",
       "      <td>8238</td>\n",
       "      <td>19168</td>\n",
       "      <td>18517</td>\n",
       "      <td>7801</td>\n",
       "      <td>3068</td>\n",
       "      <td>70</td>\n",
       "    </tr>\n",
       "    <tr>\n",
       "      <th>413</th>\n",
       "      <td>0</td>\n",
       "      <td>0</td>\n",
       "      <td>45</td>\n",
       "      <td>28</td>\n",
       "      <td>112</td>\n",
       "      <td>204</td>\n",
       "      <td>278</td>\n",
       "      <td>907</td>\n",
       "      <td>2301</td>\n",
       "      <td>12665</td>\n",
       "      <td>20816</td>\n",
       "      <td>15368</td>\n",
       "      <td>6055</td>\n",
       "      <td>1902</td>\n",
       "      <td>134</td>\n",
       "    </tr>\n",
       "  </tbody>\n",
       "</table>\n",
       "</div>"
      ],
      "text/plain": [
       "     B0  B1  B2  B3   B4   B5   B6    B7    B8     B9     BA     BB    BC  \\\n",
       "215   0   0   0   0    0   40  403  3116  5907  10879  21686  15063  3585   \n",
       "401   0   0   0   0    0  101  472   982  2583   8238  19168  18517  7801   \n",
       "413   0   0  45  28  112  204  278   907  2301  12665  20816  15368  6055   \n",
       "\n",
       "       BD   BE  \n",
       "215   321    0  \n",
       "401  3068   70  \n",
       "413  1902  134  "
      ]
     },
     "execution_count": 29,
     "metadata": {},
     "output_type": "execute_result"
    }
   ],
   "source": [
    "# Print the head of training data (independent variables)\n",
    "print(\"\\n The 15 features selected to create model are : \\n\")\n",
    "X_trn.head(3)"
   ]
  },
  {
   "cell_type": "code",
   "execution_count": 30,
   "metadata": {},
   "outputs": [
    {
     "name": "stdout",
     "output_type": "stream",
     "text": [
      "\n",
      " The dependent variable used to fit the model : \n",
      "\n"
     ]
    },
    {
     "data": {
      "text/plain": [
       "215    bad\n",
       "401    bad\n",
       "413    bad\n",
       "Name: CLASS, dtype: object"
      ]
     },
     "execution_count": 30,
     "metadata": {},
     "output_type": "execute_result"
    }
   ],
   "source": [
    "print(\"\\n The dependent variable used to fit the model : \\n\") \n",
    "Y_trn.head(3)"
   ]
  },
  {
   "cell_type": "markdown",
   "metadata": {},
   "source": [
    "### Use Support Vector Machine (SVM) to classify the sensor data as good or bad(noisy)"
   ]
  },
  {
   "cell_type": "code",
   "execution_count": 31,
   "metadata": {},
   "outputs": [
    {
     "name": "stdout",
     "output_type": "stream",
     "text": [
      "\n",
      "\n",
      " The characteristics of instantiated model are : SVC(C=1.0, cache_size=200, class_weight=None, coef0=0.0,\n",
      "    decision_function_shape='ovr', degree=3, gamma='auto', kernel='rbf',\n",
      "    max_iter=-1, probability=False, random_state=None, shrinking=True,\n",
      "    tol=0.001, verbose=False)\n",
      "\n",
      "\n",
      " Classes used by the classifier are :  ['bad' 'good']\n",
      "\n",
      "\n",
      " Created a prediction set using the Support Vector Machine classifier \n",
      "\n"
     ]
    }
   ],
   "source": [
    "# Import Support Vector Machine from sklearn\n",
    "from sklearn import svm\n",
    "\n",
    "# Instantiate a classifier & use the default Radial Basis Function (RBF), a kernel method\n",
    "modelSVM = svm.SVC(kernel='rbf', gamma='auto')\n",
    "\n",
    "# Print the characteristics of the classifier (clf) model\n",
    "print(\"\\n\\n The characteristics of instantiated model are :\", modelSVM)\n",
    "\n",
    "# Fit the Training data to the classifier model (Y_trn) specifies the number of classes\n",
    "modelSVM.fit(X_trn, Y_trn)\n",
    "\n",
    "print( \"\\n\\n Classes used by the classifier are : \", modelSVM.classes_ )\n",
    "\n",
    "# Make the prediction\n",
    "Y_svm = modelSVM.predict(X_tst)\n",
    "print (\"\\n\\n Created a prediction set using the Support Vector Machine classifier \\n\")"
   ]
  },
  {
   "cell_type": "markdown",
   "metadata": {},
   "source": [
    "**Evaluate Accuracy of the Classifier (SVM model)**"
   ]
  },
  {
   "cell_type": "code",
   "execution_count": 32,
   "metadata": {},
   "outputs": [
    {
     "name": "stdout",
     "output_type": "stream",
     "text": [
      "\n",
      "\n",
      " Accuracy of the Support Vector Machine(SVM) model is:  0.6243093922651933\n"
     ]
    }
   ],
   "source": [
    "from sklearn import metrics\n",
    "from sklearn.metrics import classification_report\n",
    "\n",
    "\n",
    "# Compute Accuracy\n",
    "print(\"\\n\\n Accuracy of the Support Vector Machine(SVM) model is: \", \n",
    "        metrics.accuracy_score(Y_tst, Y_svm))"
   ]
  },
  {
   "cell_type": "markdown",
   "metadata": {},
   "source": [
    "### Use Logistic Regression (LoR) to classify the data to see if the model performs any better"
   ]
  },
  {
   "cell_type": "code",
   "execution_count": 33,
   "metadata": {},
   "outputs": [
    {
     "name": "stdout",
     "output_type": "stream",
     "text": [
      "\n",
      "\n",
      " The Logistic Regression Model Parameters are :  LogisticRegression(C=0.01, class_weight=None, dual=False, fit_intercept=True,\n",
      "                   intercept_scaling=1, l1_ratio=None, max_iter=100,\n",
      "                   multi_class='warn', n_jobs=None, penalty='l2',\n",
      "                   random_state=None, solver='liblinear', tol=0.0001, verbose=0,\n",
      "                   warm_start=False) \n",
      "\n",
      "\n",
      "\n",
      "\n",
      " First few of the predictictions are :  ['bad' 'bad' 'bad' 'good' 'good'] \n",
      "\n",
      "\n"
     ]
    }
   ],
   "source": [
    "from sklearn.linear_model import LogisticRegression\n",
    "\n",
    "modelLOR = LogisticRegression(C=0.01, solver='liblinear').fit(X_trn,Y_trn)\n",
    "print(\"\\n\\n The Logistic Regression Model Parameters are : \", modelLOR, \"\\n\\n\")\n",
    "\n",
    "# Make predictions\n",
    "Y_lor = modelLOR.predict(X_tst)\n",
    "print(\"\\n\\n First few of the predictictions are : \", Y_lor[:5], \"\\n\\n\")\n"
   ]
  },
  {
   "cell_type": "markdown",
   "metadata": {},
   "source": [
    "**Evaluate the accuracy of the classifier(LoR model)**"
   ]
  },
  {
   "cell_type": "code",
   "execution_count": 34,
   "metadata": {},
   "outputs": [
    {
     "name": "stdout",
     "output_type": "stream",
     "text": [
      "\n",
      "\n",
      " Accuracy of the Logistic Regression Model is:  0.7237569060773481\n"
     ]
    }
   ],
   "source": [
    "# Compute Accuracy\n",
    "print(\"\\n\\n Accuracy of the Logistic Regression Model is: \", \n",
    "        metrics.accuracy_score(Y_tst, Y_lor))"
   ]
  },
  {
   "cell_type": "markdown",
   "metadata": {},
   "source": [
    "**What we've accomplished thus far is to be able to use an ML classifiers (SVM & LoR) to classify the data as good data or bad data with ~62-72% accuracy! CLEARLY LOGISTIC REGRESSION IS A BETTER MODEL but we would need a Confusion Matrix to study the sensitivity & specificity of the model. There's more that can be done in the sense of fine-tuning the model, choosing a different model and comparing the accuracy**"
   ]
  },
  {
   "cell_type": "markdown",
   "metadata": {},
   "source": [
    "## Bonus Exercise - Use the current model to classify the data in each file as good or bad "
   ]
  },
  {
   "cell_type": "code",
   "execution_count": 36,
   "metadata": {},
   "outputs": [
    {
     "name": "stdout",
     "output_type": "stream",
     "text": [
      "Number of Sensor Reading Files ( questionable ) :  11\n"
     ]
    },
    {
     "data": {
      "text/html": [
       "<div>\n",
       "<style scoped>\n",
       "    .dataframe tbody tr th:only-of-type {\n",
       "        vertical-align: middle;\n",
       "    }\n",
       "\n",
       "    .dataframe tbody tr th {\n",
       "        vertical-align: top;\n",
       "    }\n",
       "\n",
       "    .dataframe thead th {\n",
       "        text-align: right;\n",
       "    }\n",
       "</style>\n",
       "<table border=\"1\" class=\"dataframe\">\n",
       "  <thead>\n",
       "    <tr style=\"text-align: right;\">\n",
       "      <th></th>\n",
       "      <th>B0</th>\n",
       "      <th>B1</th>\n",
       "      <th>B2</th>\n",
       "      <th>B3</th>\n",
       "      <th>B4</th>\n",
       "      <th>B5</th>\n",
       "      <th>B6</th>\n",
       "      <th>B7</th>\n",
       "      <th>B8</th>\n",
       "      <th>B9</th>\n",
       "      <th>BA</th>\n",
       "      <th>BB</th>\n",
       "      <th>BC</th>\n",
       "      <th>BD</th>\n",
       "      <th>BE</th>\n",
       "      <th>CLASS</th>\n",
       "    </tr>\n",
       "  </thead>\n",
       "  <tbody>\n",
       "    <tr>\n",
       "      <th>0</th>\n",
       "      <td>0</td>\n",
       "      <td>0</td>\n",
       "      <td>0</td>\n",
       "      <td>0</td>\n",
       "      <td>0</td>\n",
       "      <td>0</td>\n",
       "      <td>0</td>\n",
       "      <td>38</td>\n",
       "      <td>1434</td>\n",
       "      <td>5720</td>\n",
       "      <td>32979</td>\n",
       "      <td>20739</td>\n",
       "      <td>90</td>\n",
       "      <td>0</td>\n",
       "      <td>0</td>\n",
       "      <td>questionable</td>\n",
       "    </tr>\n",
       "    <tr>\n",
       "      <th>1</th>\n",
       "      <td>0</td>\n",
       "      <td>0</td>\n",
       "      <td>0</td>\n",
       "      <td>0</td>\n",
       "      <td>0</td>\n",
       "      <td>0</td>\n",
       "      <td>69</td>\n",
       "      <td>2146</td>\n",
       "      <td>2824</td>\n",
       "      <td>11424</td>\n",
       "      <td>31823</td>\n",
       "      <td>22024</td>\n",
       "      <td>5255</td>\n",
       "      <td>435</td>\n",
       "      <td>0</td>\n",
       "      <td>questionable</td>\n",
       "    </tr>\n",
       "    <tr>\n",
       "      <th>2</th>\n",
       "      <td>0</td>\n",
       "      <td>0</td>\n",
       "      <td>0</td>\n",
       "      <td>0</td>\n",
       "      <td>0</td>\n",
       "      <td>0</td>\n",
       "      <td>0</td>\n",
       "      <td>0</td>\n",
       "      <td>0</td>\n",
       "      <td>643</td>\n",
       "      <td>49505</td>\n",
       "      <td>352</td>\n",
       "      <td>0</td>\n",
       "      <td>0</td>\n",
       "      <td>0</td>\n",
       "      <td>questionable</td>\n",
       "    </tr>\n",
       "    <tr>\n",
       "      <th>3</th>\n",
       "      <td>0</td>\n",
       "      <td>0</td>\n",
       "      <td>0</td>\n",
       "      <td>0</td>\n",
       "      <td>0</td>\n",
       "      <td>0</td>\n",
       "      <td>40</td>\n",
       "      <td>409</td>\n",
       "      <td>4635</td>\n",
       "      <td>9455</td>\n",
       "      <td>27089</td>\n",
       "      <td>14480</td>\n",
       "      <td>3014</td>\n",
       "      <td>1378</td>\n",
       "      <td>0</td>\n",
       "      <td>questionable</td>\n",
       "    </tr>\n",
       "    <tr>\n",
       "      <th>4</th>\n",
       "      <td>0</td>\n",
       "      <td>0</td>\n",
       "      <td>0</td>\n",
       "      <td>0</td>\n",
       "      <td>0</td>\n",
       "      <td>0</td>\n",
       "      <td>0</td>\n",
       "      <td>0</td>\n",
       "      <td>0</td>\n",
       "      <td>0</td>\n",
       "      <td>60626</td>\n",
       "      <td>374</td>\n",
       "      <td>0</td>\n",
       "      <td>0</td>\n",
       "      <td>0</td>\n",
       "      <td>questionable</td>\n",
       "    </tr>\n",
       "    <tr>\n",
       "      <th>5</th>\n",
       "      <td>0</td>\n",
       "      <td>0</td>\n",
       "      <td>0</td>\n",
       "      <td>0</td>\n",
       "      <td>0</td>\n",
       "      <td>0</td>\n",
       "      <td>1</td>\n",
       "      <td>55</td>\n",
       "      <td>1147</td>\n",
       "      <td>8125</td>\n",
       "      <td>41439</td>\n",
       "      <td>8289</td>\n",
       "      <td>444</td>\n",
       "      <td>0</td>\n",
       "      <td>0</td>\n",
       "      <td>questionable</td>\n",
       "    </tr>\n",
       "    <tr>\n",
       "      <th>6</th>\n",
       "      <td>0</td>\n",
       "      <td>0</td>\n",
       "      <td>0</td>\n",
       "      <td>0</td>\n",
       "      <td>0</td>\n",
       "      <td>0</td>\n",
       "      <td>0</td>\n",
       "      <td>0</td>\n",
       "      <td>0</td>\n",
       "      <td>0</td>\n",
       "      <td>0</td>\n",
       "      <td>0</td>\n",
       "      <td>0</td>\n",
       "      <td>0</td>\n",
       "      <td>0</td>\n",
       "      <td>questionable</td>\n",
       "    </tr>\n",
       "    <tr>\n",
       "      <th>7</th>\n",
       "      <td>0</td>\n",
       "      <td>0</td>\n",
       "      <td>0</td>\n",
       "      <td>0</td>\n",
       "      <td>0</td>\n",
       "      <td>0</td>\n",
       "      <td>0</td>\n",
       "      <td>0</td>\n",
       "      <td>0</td>\n",
       "      <td>5021</td>\n",
       "      <td>29611</td>\n",
       "      <td>23395</td>\n",
       "      <td>2473</td>\n",
       "      <td>0</td>\n",
       "      <td>0</td>\n",
       "      <td>questionable</td>\n",
       "    </tr>\n",
       "    <tr>\n",
       "      <th>8</th>\n",
       "      <td>0</td>\n",
       "      <td>0</td>\n",
       "      <td>0</td>\n",
       "      <td>0</td>\n",
       "      <td>0</td>\n",
       "      <td>21</td>\n",
       "      <td>109</td>\n",
       "      <td>383</td>\n",
       "      <td>1818</td>\n",
       "      <td>7421</td>\n",
       "      <td>26402</td>\n",
       "      <td>16551</td>\n",
       "      <td>1668</td>\n",
       "      <td>449</td>\n",
       "      <td>46</td>\n",
       "      <td>questionable</td>\n",
       "    </tr>\n",
       "    <tr>\n",
       "      <th>9</th>\n",
       "      <td>0</td>\n",
       "      <td>0</td>\n",
       "      <td>0</td>\n",
       "      <td>7</td>\n",
       "      <td>8</td>\n",
       "      <td>6</td>\n",
       "      <td>15</td>\n",
       "      <td>76</td>\n",
       "      <td>905</td>\n",
       "      <td>12017</td>\n",
       "      <td>31074</td>\n",
       "      <td>15667</td>\n",
       "      <td>1097</td>\n",
       "      <td>128</td>\n",
       "      <td>0</td>\n",
       "      <td>questionable</td>\n",
       "    </tr>\n",
       "    <tr>\n",
       "      <th>10</th>\n",
       "      <td>0</td>\n",
       "      <td>0</td>\n",
       "      <td>0</td>\n",
       "      <td>0</td>\n",
       "      <td>0</td>\n",
       "      <td>0</td>\n",
       "      <td>24</td>\n",
       "      <td>694</td>\n",
       "      <td>6189</td>\n",
       "      <td>17863</td>\n",
       "      <td>15736</td>\n",
       "      <td>9524</td>\n",
       "      <td>5389</td>\n",
       "      <td>4834</td>\n",
       "      <td>613</td>\n",
       "      <td>questionable</td>\n",
       "    </tr>\n",
       "  </tbody>\n",
       "</table>\n",
       "</div>"
      ],
      "text/plain": [
       "    B0  B1  B2  B3  B4  B5   B6    B7    B8     B9     BA     BB    BC    BD  \\\n",
       "0    0   0   0   0   0   0    0    38  1434   5720  32979  20739    90     0   \n",
       "1    0   0   0   0   0   0   69  2146  2824  11424  31823  22024  5255   435   \n",
       "2    0   0   0   0   0   0    0     0     0    643  49505    352     0     0   \n",
       "3    0   0   0   0   0   0   40   409  4635   9455  27089  14480  3014  1378   \n",
       "4    0   0   0   0   0   0    0     0     0      0  60626    374     0     0   \n",
       "5    0   0   0   0   0   0    1    55  1147   8125  41439   8289   444     0   \n",
       "6    0   0   0   0   0   0    0     0     0      0      0      0     0     0   \n",
       "7    0   0   0   0   0   0    0     0     0   5021  29611  23395  2473     0   \n",
       "8    0   0   0   0   0  21  109   383  1818   7421  26402  16551  1668   449   \n",
       "9    0   0   0   7   8   6   15    76   905  12017  31074  15667  1097   128   \n",
       "10   0   0   0   0   0   0   24   694  6189  17863  15736   9524  5389  4834   \n",
       "\n",
       "     BE         CLASS  \n",
       "0     0  questionable  \n",
       "1     0  questionable  \n",
       "2     0  questionable  \n",
       "3     0  questionable  \n",
       "4     0  questionable  \n",
       "5     0  questionable  \n",
       "6     0  questionable  \n",
       "7     0  questionable  \n",
       "8    46  questionable  \n",
       "9     0  questionable  \n",
       "10  613  questionable  "
      ]
     },
     "execution_count": 36,
     "metadata": {},
     "output_type": "execute_result"
    }
   ],
   "source": [
    "#############################################################################\n",
    "# Call the above function & load the good & noisy data into separate frames\n",
    "#############################################################################\n",
    "dfQ = construct_dataframe('questionable')\n",
    "\n",
    "dfQ.head(11)"
   ]
  },
  {
   "cell_type": "code",
   "execution_count": 38,
   "metadata": {
    "scrolled": true
   },
   "outputs": [
    {
     "name": "stdout",
     "output_type": "stream",
     "text": [
      "\n",
      "\n",
      " First few of the predictictions are :  ['good' 'good' 'bad' 'good' 'bad' 'bad' 'bad' 'good' 'good' 'good' 'good'] \n",
      "\n",
      "\n"
     ]
    }
   ],
   "source": [
    "X_tst = dfQ[['B0','B1','B2','B3','B4','B5','B6','B7','B8','B9','BA','BB','BC','BD','BE']]\n",
    "\n",
    "# Make predictions\n",
    "Y_lor = modelLOR.predict(X_tst)\n",
    "print(\"\\n\\n The predicticted values are : \", Y_lor[:11], \"\\n\\n\")\n"
   ]
  },
  {
   "cell_type": "markdown",
   "metadata": {},
   "source": [
    "**According to the ML classifier, 7 out of 11 files in the questionable directory have good data & 4 have bad data**"
   ]
  },
  {
   "cell_type": "markdown",
   "metadata": {},
   "source": [
    "This notebook is a mininum viable deliverable & can be improved further  "
   ]
  },
  {
   "cell_type": "markdown",
   "metadata": {},
   "source": [
    "## This concludes the exercise  "
   ]
  },
  {
   "cell_type": "code",
   "execution_count": null,
   "metadata": {},
   "outputs": [],
   "source": []
  }
 ],
 "metadata": {
  "kernelspec": {
   "display_name": "Python 3",
   "language": "python",
   "name": "python3"
  },
  "language_info": {
   "codemirror_mode": {
    "name": "ipython",
    "version": 3
   },
   "file_extension": ".py",
   "mimetype": "text/x-python",
   "name": "python",
   "nbconvert_exporter": "python",
   "pygments_lexer": "ipython3",
   "version": "3.7.3"
  }
 },
 "nbformat": 4,
 "nbformat_minor": 2
}
