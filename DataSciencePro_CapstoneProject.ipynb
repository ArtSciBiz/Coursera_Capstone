{
 "cells": [
  {
   "cell_type": "markdown",
   "metadata": {},
   "source": [
    "# Visualizing the prescription rate of pain-killers (opioids) in America, in relation to Income, Housing, & Food \n",
    "\n",
    "\n",
    "### IBM Data Science Professional Certificate - Capstone Project - 2020/01/15\n"
   ]
  },
  {
   "cell_type": "markdown",
   "metadata": {},
   "source": [
    "## TABLE OF CONTENTS\n",
    "* [ABSTRACT](#Abstract)\n",
    "* [INTRODUCTION](#Introduction)\n",
    "* [DATA](#Data)\n",
    "* [METHODOLOGY](#Methodology)\n",
    "* [RESULTS](#Results)\n",
    "* [DISCUSSION](#Discussion)\n",
    "* [CONCLUSION](#Conclusion)"
   ]
  },
  {
   "cell_type": "markdown",
   "metadata": {},
   "source": [
    "## ABSTRACT <a name=\"Abstract\"></a>"
   ]
  },
  {
   "cell_type": "markdown",
   "metadata": {},
   "source": [
    "This project aims to visually explore the usage of pain-killer opioids in America. The intuition here is that those places in with the availability of a richer variety of food, particularly **plant based food** known to be of **low inflammation**, combined with a higher per-capita incomes & higher property values may be inversely related to the usage of prescription pain-killers(opioids). Data about the prescription rates, individual incomes & home values are gathered by county in each state, & using the geolocation data, heat maps are created to analyze & validate the intuition. "
   ]
  },
  {
   "cell_type": "markdown",
   "metadata": {},
   "source": [
    "## INTRODUCTION <a name=\"Introduction\"></a>"
   ]
  },
  {
   "cell_type": "markdown",
   "metadata": {},
   "source": [
    "In a recent significant congressional hearings on an unrelated political matter, the number of times the congressional representatives mentioned opioid crisis as an urgent problem that deserves a joint congressional action sounded more significant. The use of pain-killer opioids as a crisis particularly related to the prescription rates has been in the news for a few years now and it behooves one to ask why so many of us are in so much physical pain. \n",
    "\n",
    "**The aim of this project is to utilize location data to investigate and identify potential relationship(s) between the prevalent use of pain-killer opioid crisis, in relation to food, income & housing.** It’s assumed that the above essentials have some bearing on the opioid crisis, but a more thorough investigation to establish any causal links is outside the scope of this project. \n",
    "\n",
    "**Analysis:** This project relies on historical data from reputable sources to answer any questions and hence machine learning to identify the patterns, relationships and trends in historical data that are otherwise understood mostly only as anecdotal stories. The goal here is to show relationships & hence the use of clustering, a descriptive model. \n",
    "\n",
    "**Diagnosis:** Most problems in Data Science are classification problems. The analysis may help continue this line of investigation to perhaps predict how likely, a pain-killer will be prescribed based on access to better food, better income & better habitat.\n",
    "\n",
    "**Prediction:** Predicting the probabilities or the likelihood of any of the direct or indirect variables like the increased access to better food, better paying jobs & better habitat is outside the scope of the project and therefore any speculation about the trends & future trajectories. \n",
    "\n",
    "**Prescription:** Prescriptive solutions to the pain-killer opioid usage are also outside the scope of this project."
   ]
  },
  {
   "cell_type": "markdown",
   "metadata": {},
   "source": [
    "## Data<a name=\"Data\"></a> \n",
    "\n",
    "#### (1) Specify Data Requirements (2) Collect the Data (3) Understand the Data (4) Prepare the Data\n",
    "\n",
    "**Data requirements:** To answer the questions about the use of **prescription pain-killer opioids**, the prescription rates along with geolocation data is required. The geolocation based prescription data helps join other relevant geolocation information such as availability & type of food, personal income & home prices to make any comparisons & potential associations. \n",
    "\n",
    "**Data collection:** Multiple data sources will be utilized to find the associated information. For this particular project, most recent historical data about prescription rates & per-capita personal incomes, property prices will suffice for data analysis. All the data is available as downloadable files. Foremost the project recommends & stipulates use of data from FourSquare, accessed via a REST API. \n",
    "\n",
    "Finally, all the data collected is staged in the <a href=\"https://datascience-capstone-project.s3.us-south.cloud-object-storage.appdomain.cloud\">IBM public cloud object storage (COS), that’s also publicly available</a>.\n",
    "\n",
    "\n",
    "<a href=\"https://www.hhs.gov/opioids/about-the-epidemic/opioid-crisis-statistics/index.html\">United States Health & Human Services</a> provides information & <a href=\"https://www.cdc.gov/drugoverdose/data/index.html\">navigation links</a> to the pain-killer opioid prescription data, available from the **Centers for Disease Control (CDC)**. However the file is not downloadable but the table can be scraped  from the Web page. \n",
    "\n",
    "\n",
    "Thanks to the **US Bureau of Economic Affairs(BEA)**, we can obtain <a href=\"https://www.bea.gov/data/income-saving/personal-income-county-metro-and-other-areas\">personal income data by county, & by metropolitan areas</a>. Below is the map of income data by US counties for fiscal year spanning 2017-2018. \n",
    "\n",
    "Zillow is a popular & a reputable private sector organization that publishes the popular annual <a href=\"https://www.zillow.com/home-values/\">median home values</a>. The data is made available for download & analysis.  The data that will be analysed as a part of this exercise is from the year 2017. \n",
    "\n",
    "\n",
    "**FourSquare offers an API** to search venues across the United States using longitude and latitude. The idea is to use the main longitude & latitude intersection for each of the 3000+ counties in United States to visualize a heat map displaying the availability of affordable plant based food (vegetarian), ethnic, standard chain restaurant food & fast food color coded in just 4 categories shown below as an example. \n",
    "\n",
    "\n",
    "\n",
    "\n",
    "|Green                | Orange                    |Red                   | Dark Red\n",
    "|:--------------------|:--------------------------|:---------------------|:-----------------------\n",
    "|Vegetarian Restaurant|Chinese Restaurant         |Fish & Chips Shop     | Burger Joint\n",
    "|                     |Indian Restaurant          |American Restaurant   | Fast Food\n",
    "|                     |Japanese Restaurant        |Seafood Restaurant    | Pizza Place\n",
    "|                     |Mediteranian Restaurant    |Mexican Restaurant    | Wings Joint\n",
    "|                     |Burrito Place              |Italian Restaurant    | Fried Chicken\n",
    "|                     |Sandwich Place             |                      | Barbeque Joint\n",
    "\n",
    "\n",
    "**Data understanding:** As a first step to conduct data science, data needs to be visualized & understood to  ensure that it is of appropriate quality & quantity. Descriptive statistics is a quick way to get the standard measures of mean, median and mode, variance & standard deviation. Almost all data analysis tools from spreadsheets to python offer functions to execute descriptive statistics. Box plots are a great way to visualize the descriptive statistics. Seaborn package can be utilized to visualize the data. Then of course data can be sorted into bins to create histograms.  There are at least 3 main data sets & a cross-reference dataset that will be utilized in this project.  Let’s visualize each of the datasets separately. \n"
   ]
  },
  {
   "cell_type": "markdown",
   "metadata": {},
   "source": [
    "**Import the python libraries**"
   ]
  },
  {
   "cell_type": "code",
   "execution_count": 4,
   "metadata": {},
   "outputs": [
    {
     "name": "stdout",
     "output_type": "stream",
     "text": [
      "Hello Capstone Project Course!\n"
     ]
    }
   ],
   "source": [
    "import pandas as pd\n",
    "import numpy as np\n",
    "import scipy\n",
    "\n",
    "# Print a hello world message\n",
    "print(\"Hello Capstone Project Course!\")"
   ]
  },
  {
   "cell_type": "markdown",
   "metadata": {},
   "source": [
    "**Install & import packages for Data Visualizaton**"
   ]
  },
  {
   "cell_type": "code",
   "execution_count": 5,
   "metadata": {},
   "outputs": [],
   "source": [
    "%%capture\n",
    "! pip install seaborn"
   ]
  },
  {
   "cell_type": "code",
   "execution_count": 6,
   "metadata": {},
   "outputs": [],
   "source": [
    "import matplotlib.pyplot as plt\n",
    "import seaborn as sns\n",
    "%matplotlib inline "
   ]
  },
  {
   "cell_type": "markdown",
   "metadata": {},
   "source": [
    "### Understand Data - CDC's Pain-Killer Prescription Rates by U.S. county\n",
    "\n",
    "Quick visualization of pain-killer prescription rate table shows that data is gathered for for 2969 out of 3000+ counties, and missing data for about 14 reporting counties.  Box plot is a shows that the median **prescription rate for the counties is close to 75%, equivalent to stating that 3 in every 4 people** have been prescribed pain-killers. It looks like, there are a number of outliers who are prescribed above the maximum 150% in some counties \n"
   ]
  },
  {
   "cell_type": "code",
   "execution_count": 540,
   "metadata": {},
   "outputs": [
    {
     "name": "stdout",
     "output_type": "stream",
     "text": [
      "count    2955.000000\n",
      "mean       67.995838\n",
      "std        37.270946\n",
      "min         0.000000\n",
      "25%        44.600000\n",
      "50%        64.800000\n",
      "75%        88.250000\n",
      "max       396.100000\n",
      "Name: PrescriptionRate, dtype: float64\n",
      "\n",
      "**********\n",
      "Pain Killer Prescription DataFrame details:\n",
      "**********\n",
      "\n",
      "<class 'pandas.core.frame.DataFrame'>\n",
      "RangeIndex: 2955 entries, 0 to 2954\n",
      "Data columns (total 6 columns):\n",
      "StateNumber         2955 non-null int64\n",
      "StateCode           2955 non-null object\n",
      "CountyCode          2955 non-null int64\n",
      "County              2955 non-null object\n",
      "PrescriptionRate    2955 non-null float64\n",
      "PainClass           2955 non-null object\n",
      "dtypes: float64(1), int64(2), object(3)\n",
      "memory usage: 138.6+ KB\n",
      "None\n"
     ]
    },
    {
     "data": {
      "text/html": [
       "<div>\n",
       "<style scoped>\n",
       "    .dataframe tbody tr th:only-of-type {\n",
       "        vertical-align: middle;\n",
       "    }\n",
       "\n",
       "    .dataframe tbody tr th {\n",
       "        vertical-align: top;\n",
       "    }\n",
       "\n",
       "    .dataframe thead th {\n",
       "        text-align: right;\n",
       "    }\n",
       "</style>\n",
       "<table border=\"1\" class=\"dataframe\">\n",
       "  <thead>\n",
       "    <tr style=\"text-align: right;\">\n",
       "      <th></th>\n",
       "      <th>StateNumber</th>\n",
       "      <th>StateCode</th>\n",
       "      <th>CountyCode</th>\n",
       "      <th>County</th>\n",
       "      <th>PrescriptionRate</th>\n",
       "      <th>PainClass</th>\n",
       "    </tr>\n",
       "  </thead>\n",
       "  <tbody>\n",
       "    <tr>\n",
       "      <th>0</th>\n",
       "      <td>1</td>\n",
       "      <td>AL</td>\n",
       "      <td>1001</td>\n",
       "      <td>AUTAUGA</td>\n",
       "      <td>106.6</td>\n",
       "      <td>Painful</td>\n",
       "    </tr>\n",
       "    <tr>\n",
       "      <th>1</th>\n",
       "      <td>1</td>\n",
       "      <td>AL</td>\n",
       "      <td>1003</td>\n",
       "      <td>BALDWIN</td>\n",
       "      <td>106.7</td>\n",
       "      <td>Painful</td>\n",
       "    </tr>\n",
       "    <tr>\n",
       "      <th>2</th>\n",
       "      <td>1</td>\n",
       "      <td>AL</td>\n",
       "      <td>1005</td>\n",
       "      <td>BARBOUR</td>\n",
       "      <td>90.7</td>\n",
       "      <td>Painful</td>\n",
       "    </tr>\n",
       "    <tr>\n",
       "      <th>3</th>\n",
       "      <td>1</td>\n",
       "      <td>AL</td>\n",
       "      <td>1007</td>\n",
       "      <td>BIBB</td>\n",
       "      <td>80.6</td>\n",
       "      <td>Painful</td>\n",
       "    </tr>\n",
       "    <tr>\n",
       "      <th>4</th>\n",
       "      <td>1</td>\n",
       "      <td>AL</td>\n",
       "      <td>1009</td>\n",
       "      <td>BLOUNT</td>\n",
       "      <td>48.9</td>\n",
       "      <td>Painfree</td>\n",
       "    </tr>\n",
       "  </tbody>\n",
       "</table>\n",
       "</div>"
      ],
      "text/plain": [
       "   StateNumber StateCode  CountyCode   County  PrescriptionRate PainClass\n",
       "0            1        AL        1001  AUTAUGA             106.6   Painful\n",
       "1            1        AL        1003  BALDWIN             106.7   Painful\n",
       "2            1        AL        1005  BARBOUR              90.7   Painful\n",
       "3            1        AL        1007     BIBB              80.6   Painful\n",
       "4            1        AL        1009   BLOUNT              48.9  Painfree"
      ]
     },
     "execution_count": 540,
     "metadata": {},
     "output_type": "execute_result"
    }
   ],
   "source": [
    "# Define a DataFrame named prefixed with pkop to signify Prescription Rate of Opioids\n",
    "#pkpDataFrame = pd.read_csv('https://datascience-capstone-project.s3.us-south.cloud-object-storage.appdomain.cloud/USCountyPainKillerPrescribingRates2017.csv')\n",
    "\n",
    "# Create Pain-Killer-Prescription DataFrame (see pkp prrefix)\n",
    "pkpDataFrame = pd.read_csv('USCountyPainKillerPrescribingRates2017.csv')\n",
    "\n",
    "\n",
    "# Obtain the Descriptive Statistics of Prescription rates (Avg, Median, & Standard Deviation)\n",
    "print(pkpDataFrame['PrescriptionRate'].describe())\n",
    "\n",
    "# If prescription rate is more than 50 for every 100 people, classify the county as Painful (in pain)\n",
    "pkpDataFrame.loc[pkpDataFrame['PrescriptionRate'] > 50, 'PainClass'] = 'Painful'\n",
    "pkpDataFrame.loc[pkpDataFrame['PrescriptionRate'] <= 50, 'PainClass'] = 'Painfree'\n",
    "\n",
    "pkpDataFrame.to_csv('USPainKillerPrescribingRate2017Above50Percent.csv')\n",
    "\n",
    "\n",
    "# Print info about the data frame \n",
    "print(\"\\n**********\\nPain Killer Prescription DataFrame details:\\n**********\\n\")\n",
    "print(pkpDataFrame.info())\n",
    "\n",
    "\n",
    "pkpDataFrame.head()"
   ]
  },
  {
   "cell_type": "markdown",
   "metadata": {},
   "source": [
    "#### Let's visualize the Pain Killers Prescription Rates"
   ]
  },
  {
   "cell_type": "code",
   "execution_count": 541,
   "metadata": {
    "scrolled": false
   },
   "outputs": [
    {
     "data": {
      "text/plain": [
       "<matplotlib.axes._subplots.AxesSubplot at 0x1f63e4424e0>"
      ]
     },
     "execution_count": 541,
     "metadata": {},
     "output_type": "execute_result"
    },
    {
     "data": {
      "image/png": "[encoded data removed]",
      "text/plain": [
       "<Figure size 1440x360 with 1 Axes>"
      ]
     },
     "metadata": {},
     "output_type": "display_data"
    }
   ],
   "source": [
    "# Use pyplot/seaborn image use pyplot.figure to change the figure size. \n",
    "plt.figure(figsize=(20, 5))\n",
    "\n",
    "sns.set(style='whitegrid')\n",
    "sns.boxplot(x=\"PrescriptionRate\", data=pkpDataFrame)\n"
   ]
  },
  {
   "cell_type": "markdown",
   "metadata": {},
   "source": [
    "**Group Prescription Rate by State**"
   ]
  },
  {
   "cell_type": "code",
   "execution_count": 542,
   "metadata": {},
   "outputs": [
    {
     "data": {
      "text/html": [
       "<div>\n",
       "<style scoped>\n",
       "    .dataframe tbody tr th:only-of-type {\n",
       "        vertical-align: middle;\n",
       "    }\n",
       "\n",
       "    .dataframe tbody tr th {\n",
       "        vertical-align: top;\n",
       "    }\n",
       "\n",
       "    .dataframe thead th {\n",
       "        text-align: right;\n",
       "    }\n",
       "</style>\n",
       "<table border=\"1\" class=\"dataframe\">\n",
       "  <thead>\n",
       "    <tr style=\"text-align: right;\">\n",
       "      <th></th>\n",
       "      <th>PrescriptionRate</th>\n",
       "    </tr>\n",
       "    <tr>\n",
       "      <th>StateCode</th>\n",
       "      <th></th>\n",
       "    </tr>\n",
       "  </thead>\n",
       "  <tbody>\n",
       "    <tr>\n",
       "      <th>AK</th>\n",
       "      <td>47.841667</td>\n",
       "    </tr>\n",
       "    <tr>\n",
       "      <th>AL</th>\n",
       "      <td>99.552239</td>\n",
       "    </tr>\n",
       "    <tr>\n",
       "      <th>AR</th>\n",
       "      <td>98.872973</td>\n",
       "    </tr>\n",
       "    <tr>\n",
       "      <th>AZ</th>\n",
       "      <td>57.980000</td>\n",
       "    </tr>\n",
       "    <tr>\n",
       "      <th>CA</th>\n",
       "      <td>58.015789</td>\n",
       "    </tr>\n",
       "  </tbody>\n",
       "</table>\n",
       "</div>"
      ],
      "text/plain": [
       "           PrescriptionRate\n",
       "StateCode                  \n",
       "AK                47.841667\n",
       "AL                99.552239\n",
       "AR                98.872973\n",
       "AZ                57.980000\n",
       "CA                58.015789"
      ]
     },
     "execution_count": 542,
     "metadata": {},
     "output_type": "execute_result"
    }
   ],
   "source": [
    "pkp1DataFrame = pkpDataFrame[['StateCode', 'PrescriptionRate']]\n",
    "\n",
    "pkp1DataFrame = pkp1DataFrame.groupby(['StateCode'],as_index=False).mean()\n",
    "\n",
    "pkp1DataFrame.set_index('StateCode', inplace=True)\n",
    "\n",
    "pkp1DataFrame.head()"
   ]
  },
  {
   "cell_type": "code",
   "execution_count": 543,
   "metadata": {
    "scrolled": true
   },
   "outputs": [
    {
     "data": {
      "text/plain": [
       "Text(0.5, 1.0, 'State wise pain-killer prescription rates (2017)')"
      ]
     },
     "execution_count": 543,
     "metadata": {},
     "output_type": "execute_result"
    },
    {
     "data": {
      "image/png": "[encoded data removed]",
      "text/plain": [
       "<Figure size 1440x432 with 1 Axes>"
      ]
     },
     "metadata": {},
     "output_type": "display_data"
    }
   ],
   "source": [
    "# Plot the data (barchart)\n",
    "pkp1DataFrame.plot(kind='bar', width=0.5, figsize=(20, 6))\n",
    "plt.xlabel('State') # add to x-label to the plot\n",
    "plt.ylabel('Prescription Rate') # add y-label to the plot\n",
    "plt.title('State wise pain-killer prescription rates (2017)') # add title to the plot"
   ]
  },
  {
   "cell_type": "markdown",
   "metadata": {},
   "source": [
    "**It appears that more than 75% of states have pain killer prescription rates above 50%; use the threshold line to visualize**"
   ]
  },
  {
   "cell_type": "code",
   "execution_count": 544,
   "metadata": {
    "scrolled": true
   },
   "outputs": [
    {
     "data": {
      "text/plain": [
       "[<matplotlib.lines.Line2D at 0x1f63e876c88>]"
      ]
     },
     "execution_count": 544,
     "metadata": {},
     "output_type": "execute_result"
    },
    {
     "data": {
      "image/png": "[encoded data removed]",
      "text/plain": [
       "<Figure size 1440x432 with 1 Axes>"
      ]
     },
     "metadata": {},
     "output_type": "display_data"
    }
   ],
   "source": [
    "# input data for plotting\n",
    "threshold = 50\n",
    "y_values = np.array(pkp1DataFrame['PrescriptionRate'])\n",
    "\n",
    "#print(x_values)\n",
    "\n",
    "r = range(len(y_values))\n",
    "\n",
    "# split it up\n",
    "above_threshold = np.maximum(y_values - threshold, 0)\n",
    "below_threshold = np.minimum(y_values, threshold)\n",
    "\n",
    "# Plot using subplots to separate layers but determine the size of the plot\n",
    "fig, ax = plt.subplots(figsize=(20, 6))\n",
    "#ax.bar(r, below_threshold, 0.8, color=\"b\")\n",
    "#ax.bar(r, above_threshold, 0.8, color=\"r\", bottom=below_threshold)\n",
    "ax.bar(r, below_threshold, 0.5, color=\"blue\")\n",
    "ax.bar(r, above_threshold, 0.5, color=\"red\", bottom=below_threshold)\n",
    "\n",
    "\n",
    "# Use a horizontal line to indicate the threshold\n",
    "ax.plot([0, 50], [threshold, threshold], \"k--\")"
   ]
  },
  {
   "cell_type": "markdown",
   "metadata": {},
   "source": [
    "**The Outliers! New England States & Washington DC have the lowest Pain killer Prescription Rates** The southern states including Alabama, Arkansas, Georgia, Kentucky, Mississippi, Missouri, North Carolina, Oklohama, Tennessee, Texas & Virginia are interesting states with long whiskers and more than 50 prescriptions for every hundred people! "
   ]
  },
  {
   "cell_type": "code",
   "execution_count": 34,
   "metadata": {
    "scrolled": true
   },
   "outputs": [
    {
     "data": {
      "text/plain": [
       "<matplotlib.axes._subplots.AxesSubplot at 0x1f63774f7f0>"
      ]
     },
     "execution_count": 34,
     "metadata": {},
     "output_type": "execute_result"
    },
    {
     "data": {
      "image/png": "[encoded data removed]",
      "text/plain": [
       "<Figure size 1440x360 with 1 Axes>"
      ]
     },
     "metadata": {},
     "output_type": "display_data"
    }
   ],
   "source": [
    "pkp2DataFrame = pkpDataFrame[['StateCode', 'PrescriptionRate']]\n",
    "\n",
    "# Use pyplot/seaborn image use pyplot.figure to change the figure size. \n",
    "plt.figure(figsize=(20, 5))\n",
    "\n",
    "sns.set(style='whitegrid')\n",
    "sns.boxplot(x='StateCode', y='PrescriptionRate', data=pkp2DataFrame)\n"
   ]
  },
  {
   "cell_type": "markdown",
   "metadata": {},
   "source": [
    "### Understand Data - US Bureau of Economic Affairs - Income Per Capita by U.S. county"
   ]
  },
  {
   "cell_type": "code",
   "execution_count": 35,
   "metadata": {
    "scrolled": true
   },
   "outputs": [
    {
     "name": "stdout",
     "output_type": "stream",
     "text": [
      "StateCode          3080\n",
      "State              3080\n",
      "CountyCode         3080\n",
      "County             3080\n",
      "IncomePerCapita    3080\n",
      "dtype: int64\n"
     ]
    },
    {
     "data": {
      "text/html": [
       "<div>\n",
       "<style scoped>\n",
       "    .dataframe tbody tr th:only-of-type {\n",
       "        vertical-align: middle;\n",
       "    }\n",
       "\n",
       "    .dataframe tbody tr th {\n",
       "        vertical-align: top;\n",
       "    }\n",
       "\n",
       "    .dataframe thead th {\n",
       "        text-align: right;\n",
       "    }\n",
       "</style>\n",
       "<table border=\"1\" class=\"dataframe\">\n",
       "  <thead>\n",
       "    <tr style=\"text-align: right;\">\n",
       "      <th></th>\n",
       "      <th>StateCode</th>\n",
       "      <th>State</th>\n",
       "      <th>CountyCode</th>\n",
       "      <th>County</th>\n",
       "      <th>IncomePerCapita</th>\n",
       "    </tr>\n",
       "  </thead>\n",
       "  <tbody>\n",
       "    <tr>\n",
       "      <th>0</th>\n",
       "      <td>AL</td>\n",
       "      <td>Alabama</td>\n",
       "      <td>1001</td>\n",
       "      <td>Autauga</td>\n",
       "      <td>41618</td>\n",
       "    </tr>\n",
       "    <tr>\n",
       "      <th>1</th>\n",
       "      <td>AL</td>\n",
       "      <td>Alabama</td>\n",
       "      <td>1003</td>\n",
       "      <td>Baldwin</td>\n",
       "      <td>45596</td>\n",
       "    </tr>\n",
       "    <tr>\n",
       "      <th>2</th>\n",
       "      <td>AL</td>\n",
       "      <td>Alabama</td>\n",
       "      <td>1005</td>\n",
       "      <td>Barbour</td>\n",
       "      <td>35199</td>\n",
       "    </tr>\n",
       "    <tr>\n",
       "      <th>3</th>\n",
       "      <td>AL</td>\n",
       "      <td>Alabama</td>\n",
       "      <td>1007</td>\n",
       "      <td>Bibb</td>\n",
       "      <td>30254</td>\n",
       "    </tr>\n",
       "    <tr>\n",
       "      <th>4</th>\n",
       "      <td>AL</td>\n",
       "      <td>Alabama</td>\n",
       "      <td>1009</td>\n",
       "      <td>Blount</td>\n",
       "      <td>34976</td>\n",
       "    </tr>\n",
       "  </tbody>\n",
       "</table>\n",
       "</div>"
      ],
      "text/plain": [
       "  StateCode    State  CountyCode   County  IncomePerCapita\n",
       "0        AL  Alabama        1001  Autauga            41618\n",
       "1        AL  Alabama        1003  Baldwin            45596\n",
       "2        AL  Alabama        1005  Barbour            35199\n",
       "3        AL  Alabama        1007     Bibb            30254\n",
       "4        AL  Alabama        1009   Blount            34976"
      ]
     },
     "execution_count": 35,
     "metadata": {},
     "output_type": "execute_result"
    }
   ],
   "source": [
    "# Create Income-PerCapita DataFrame (see ipc prrefix)\n",
    "#ipcDataFrame = pd.read_csv(\"https://datascience-capstone-project.s3.us-south.cloud-object-storage.appdomain.cloud/USCountyIncomePerCapita2018.csv\")\n",
    "\n",
    "ipcDataFrame = pd.read_csv('USCountyIncomePerCapita2018.csv')\n",
    "print(ipcDataFrame.count())\n",
    "ipcDataFrame.head()"
   ]
  },
  {
   "cell_type": "markdown",
   "metadata": {},
   "source": [
    "The descriptive statistics output shows us the following."
   ]
  },
  {
   "cell_type": "markdown",
   "metadata": {},
   "source": [
    "**Obtain Descriptive Statistical Information about Income Data** "
   ]
  },
  {
   "cell_type": "code",
   "execution_count": 70,
   "metadata": {},
   "outputs": [
    {
     "data": {
      "text/plain": [
       "count      3080.000000\n",
       "mean      44112.225000\n",
       "std       12738.971561\n",
       "min       18541.000000\n",
       "25%       36557.750000\n",
       "50%       41961.000000\n",
       "75%       48748.500000\n",
       "max      251728.000000\n",
       "Name: IncomePC2018, dtype: float64"
      ]
     },
     "execution_count": 70,
     "metadata": {},
     "output_type": "execute_result"
    }
   ],
   "source": [
    "ipcDataFrame['IncomePC2018'].describe()"
   ]
  },
  {
   "cell_type": "markdown",
   "metadata": {},
   "source": [
    "It seems that the average per-capita income in the U.S., during 2017-2018 is roughly over $44,000 for all 3,080 counties listed in the table for all 50 states. It is quickly apparent that this line of investigation may after all be fruitful to make qualitative statements, as one can see a few of the states with income below average, all have high pain-killer prescription rates, & the District of Columbia, the northeastern states all have significantly higher levels of income & visibly lower pain-killer prescription rates. "
   ]
  },
  {
   "cell_type": "code",
   "execution_count": 51,
   "metadata": {
    "scrolled": false
   },
   "outputs": [
    {
     "data": {
      "text/html": [
       "<div>\n",
       "<style scoped>\n",
       "    .dataframe tbody tr th:only-of-type {\n",
       "        vertical-align: middle;\n",
       "    }\n",
       "\n",
       "    .dataframe tbody tr th {\n",
       "        vertical-align: top;\n",
       "    }\n",
       "\n",
       "    .dataframe thead th {\n",
       "        text-align: right;\n",
       "    }\n",
       "</style>\n",
       "<table border=\"1\" class=\"dataframe\">\n",
       "  <thead>\n",
       "    <tr style=\"text-align: right;\">\n",
       "      <th></th>\n",
       "      <th>IncomePerCapita</th>\n",
       "    </tr>\n",
       "    <tr>\n",
       "      <th>StateCode</th>\n",
       "      <th></th>\n",
       "    </tr>\n",
       "  </thead>\n",
       "  <tbody>\n",
       "    <tr>\n",
       "      <th>AK</th>\n",
       "      <td>62513.413793</td>\n",
       "    </tr>\n",
       "    <tr>\n",
       "      <th>AL</th>\n",
       "      <td>37063.179104</td>\n",
       "    </tr>\n",
       "    <tr>\n",
       "      <th>AR</th>\n",
       "      <td>35725.506667</td>\n",
       "    </tr>\n",
       "    <tr>\n",
       "      <th>AZ</th>\n",
       "      <td>37879.266667</td>\n",
       "    </tr>\n",
       "    <tr>\n",
       "      <th>CA</th>\n",
       "      <td>56852.448276</td>\n",
       "    </tr>\n",
       "  </tbody>\n",
       "</table>\n",
       "</div>"
      ],
      "text/plain": [
       "           IncomePerCapita\n",
       "StateCode                 \n",
       "AK            62513.413793\n",
       "AL            37063.179104\n",
       "AR            35725.506667\n",
       "AZ            37879.266667\n",
       "CA            56852.448276"
      ]
     },
     "execution_count": 51,
     "metadata": {},
     "output_type": "execute_result"
    }
   ],
   "source": [
    "ipc1DataFrame = ipcDataFrame[['StateCode', 'IncomePerCapita']]\n",
    "\n",
    "ipc1DataFrame = ipc1DataFrame.groupby(['StateCode'],as_index=False).mean()\n",
    "\n",
    "ipc1DataFrame.set_index('StateCode', inplace=True)\n",
    "\n",
    "ipc1DataFrame.head()\n"
   ]
  },
  {
   "cell_type": "code",
   "execution_count": 53,
   "metadata": {},
   "outputs": [
    {
     "data": {
      "text/plain": [
       "Text(0.5, 1.0, 'State Wide Income for the year 2018')"
      ]
     },
     "execution_count": 53,
     "metadata": {},
     "output_type": "execute_result"
    },
    {
     "data": {
      "image/png": "[encoded data removed]",
      "text/plain": [
       "<Figure size 1440x432 with 1 Axes>"
      ]
     },
     "metadata": {},
     "output_type": "display_data"
    }
   ],
   "source": [
    "# Plot the data (barchart)\n",
    "ipc1DataFrame.plot(kind='bar', figsize=(20, 6), color='green')\n",
    "\n",
    "plt.xlabel('StateCode') # add to x-label to the plot\n",
    "plt.ylabel('Income in US $') # add y-label to the plot\n",
    "plt.title('State Wide Income for the year 2018') # add title to the plot\n"
   ]
  },
  {
   "cell_type": "markdown",
   "metadata": {},
   "source": [
    "### Understand Data - Zillow Median Home Values by U.S. county"
   ]
  },
  {
   "cell_type": "code",
   "execution_count": 37,
   "metadata": {
    "scrolled": true
   },
   "outputs": [
    {
     "name": "stdout",
     "output_type": "stream",
     "text": [
      "StateCode           1979\n",
      "CountyName          1979\n",
      "MedianHousePrice    1979\n",
      "dtype: int64\n"
     ]
    },
    {
     "data": {
      "text/html": [
       "<div>\n",
       "<style scoped>\n",
       "    .dataframe tbody tr th:only-of-type {\n",
       "        vertical-align: middle;\n",
       "    }\n",
       "\n",
       "    .dataframe tbody tr th {\n",
       "        vertical-align: top;\n",
       "    }\n",
       "\n",
       "    .dataframe thead th {\n",
       "        text-align: right;\n",
       "    }\n",
       "</style>\n",
       "<table border=\"1\" class=\"dataframe\">\n",
       "  <thead>\n",
       "    <tr style=\"text-align: right;\">\n",
       "      <th></th>\n",
       "      <th>StateCode</th>\n",
       "      <th>CountyName</th>\n",
       "      <th>MedianHousePrice</th>\n",
       "    </tr>\n",
       "  </thead>\n",
       "  <tbody>\n",
       "    <tr>\n",
       "      <th>0</th>\n",
       "      <td>AK</td>\n",
       "      <td>Anchorage</td>\n",
       "      <td>306691.67</td>\n",
       "    </tr>\n",
       "    <tr>\n",
       "      <th>1</th>\n",
       "      <td>AK</td>\n",
       "      <td>Fairbanks North Star</td>\n",
       "      <td>193461.38</td>\n",
       "    </tr>\n",
       "    <tr>\n",
       "      <th>2</th>\n",
       "      <td>AK</td>\n",
       "      <td>Juneau</td>\n",
       "      <td>349950.00</td>\n",
       "    </tr>\n",
       "    <tr>\n",
       "      <th>3</th>\n",
       "      <td>AK</td>\n",
       "      <td>Kenai Peninsula</td>\n",
       "      <td>238358.50</td>\n",
       "    </tr>\n",
       "    <tr>\n",
       "      <th>4</th>\n",
       "      <td>AK</td>\n",
       "      <td>Kodiak Island</td>\n",
       "      <td>332500.00</td>\n",
       "    </tr>\n",
       "  </tbody>\n",
       "</table>\n",
       "</div>"
      ],
      "text/plain": [
       "  StateCode            CountyName  MedianHousePrice\n",
       "0        AK             Anchorage         306691.67\n",
       "1        AK  Fairbanks North Star         193461.38\n",
       "2        AK                Juneau         349950.00\n",
       "3        AK       Kenai Peninsula         238358.50\n",
       "4        AK         Kodiak Island         332500.00"
      ]
     },
     "execution_count": 37,
     "metadata": {},
     "output_type": "execute_result"
    }
   ],
   "source": [
    "#mhvDataFrame = pd.read_csv('https://datascience-capstone-project.s3.us-south.cloud-object-storage.appdomain.cloud/USCountyMedianHomeValueAvgByZipCode.csv')\n",
    "mhvDataFrame = pd.read_csv('USCountyMedianHomeValueAvgByZipCode.csv')\n",
    "print(mhvDataFrame.count())\n",
    "mhvDataFrame.head()"
   ]
  },
  {
   "cell_type": "markdown",
   "metadata": {},
   "source": [
    "**Zillow median home values:** Quick descriptive statistics report of the home values table indicates that data for 1979 counties were recorded and average median home value is roughly $225K, in the year 2017."
   ]
  },
  {
   "cell_type": "code",
   "execution_count": 38,
   "metadata": {},
   "outputs": [
    {
     "data": {
      "text/plain": [
       "count    1.979000e+03\n",
       "mean     2.251729e+05\n",
       "std      1.658781e+05\n",
       "min      5.000000e+04\n",
       "25%      1.399000e+05\n",
       "50%      1.855385e+05\n",
       "75%      2.640467e+05\n",
       "max      2.772500e+06\n",
       "Name: MedianHousePrice, dtype: float64"
      ]
     },
     "execution_count": 38,
     "metadata": {},
     "output_type": "execute_result"
    }
   ],
   "source": [
    "mhvDataFrame['MedianHousePrice'].describe()"
   ]
  },
  {
   "cell_type": "markdown",
   "metadata": {},
   "source": [
    "**Consolidate data by State & Median House Price**"
   ]
  },
  {
   "cell_type": "code",
   "execution_count": 40,
   "metadata": {
    "scrolled": true
   },
   "outputs": [
    {
     "data": {
      "text/html": [
       "<div>\n",
       "<style scoped>\n",
       "    .dataframe tbody tr th:only-of-type {\n",
       "        vertical-align: middle;\n",
       "    }\n",
       "\n",
       "    .dataframe tbody tr th {\n",
       "        vertical-align: top;\n",
       "    }\n",
       "\n",
       "    .dataframe thead th {\n",
       "        text-align: right;\n",
       "    }\n",
       "</style>\n",
       "<table border=\"1\" class=\"dataframe\">\n",
       "  <thead>\n",
       "    <tr style=\"text-align: right;\">\n",
       "      <th></th>\n",
       "      <th>MedianHousePrice</th>\n",
       "    </tr>\n",
       "    <tr>\n",
       "      <th>StateCode</th>\n",
       "      <th></th>\n",
       "    </tr>\n",
       "  </thead>\n",
       "  <tbody>\n",
       "    <tr>\n",
       "      <th>AK</th>\n",
       "      <td>297476.650000</td>\n",
       "    </tr>\n",
       "    <tr>\n",
       "      <th>AL</th>\n",
       "      <td>180574.334186</td>\n",
       "    </tr>\n",
       "    <tr>\n",
       "      <th>AR</th>\n",
       "      <td>143908.081220</td>\n",
       "    </tr>\n",
       "    <tr>\n",
       "      <th>AZ</th>\n",
       "      <td>247627.716923</td>\n",
       "    </tr>\n",
       "    <tr>\n",
       "      <th>CA</th>\n",
       "      <td>520442.412963</td>\n",
       "    </tr>\n",
       "  </tbody>\n",
       "</table>\n",
       "</div>"
      ],
      "text/plain": [
       "           MedianHousePrice\n",
       "StateCode                  \n",
       "AK            297476.650000\n",
       "AL            180574.334186\n",
       "AR            143908.081220\n",
       "AZ            247627.716923\n",
       "CA            520442.412963"
      ]
     },
     "execution_count": 40,
     "metadata": {},
     "output_type": "execute_result"
    }
   ],
   "source": [
    "# Consolidate median Home Value by Price\n",
    "mhv1DataFrame = mhvDataFrame[['StateCode', 'MedianHousePrice']]\n",
    "#ipcbsDataFrame.head()\n",
    "\n",
    "mhv1DataFrame = mhv1DataFrame.groupby(['StateCode'],as_index=False).mean()\n",
    "\n",
    "mhv1DataFrame.set_index('StateCode', inplace=True)\n",
    "\n",
    "mhv1DataFrame.head()"
   ]
  },
  {
   "cell_type": "code",
   "execution_count": 42,
   "metadata": {},
   "outputs": [
    {
     "data": {
      "text/plain": [
       "Text(0.5, 1.0, 'State Wide Median Home Values year 2017')"
      ]
     },
     "execution_count": 42,
     "metadata": {},
     "output_type": "execute_result"
    },
    {
     "data": {
      "image/png": "[encoded data removed]",
      "text/plain": [
       "<Figure size 1440x432 with 1 Axes>"
      ]
     },
     "metadata": {},
     "output_type": "display_data"
    }
   ],
   "source": [
    "# plot the data\n",
    "mhv1DataFrame.plot(kind='bar', figsize=(20, 6), color='blue')\n",
    "\n",
    "plt.xlabel('State') # add to x-label to the plot\n",
    "plt.ylabel('Median Home Value US $') # add y-label to the plot\n",
    "plt.title('State Wide Median Home Values year 2017') # add title to the plot"
   ]
  },
  {
   "cell_type": "markdown",
   "metadata": {},
   "source": [
    "**Also quickly visualize states that have higher than median home values**"
   ]
  },
  {
   "cell_type": "code",
   "execution_count": 46,
   "metadata": {},
   "outputs": [
    {
     "data": {
      "text/plain": [
       "[<matplotlib.lines.Line2D at 0x1f63826dd68>]"
      ]
     },
     "execution_count": 46,
     "metadata": {},
     "output_type": "execute_result"
    },
    {
     "data": {
      "image/png": "[encoded data removed]",
      "text/plain": [
       "<Figure size 1440x432 with 1 Axes>"
      ]
     },
     "metadata": {},
     "output_type": "display_data"
    }
   ],
   "source": [
    "\n",
    "# input data for plotting\n",
    "threshold = 225000.0\n",
    "y_values = np.array(mhv1DataFrame['MedianHousePrice'])\n",
    "\n",
    "#print(x_values)\n",
    "\n",
    "r = range(len(y_values))\n",
    "\n",
    "# split it up\n",
    "above_threshold = np.maximum(y_values - threshold, 0)\n",
    "below_threshold = np.minimum(y_values, threshold)\n",
    "\n",
    "# Plot using subplots to separate layers but determine the size of the plot\n",
    "fig, ax = plt.subplots(figsize=(20, 6))\n",
    "ax.bar(r, below_threshold, 0.5, color=\"red\")\n",
    "ax.bar(r, above_threshold, 0.5, color=\"blue\", bottom=below_threshold)\n",
    "\n",
    "\n",
    "# Use a horizontal line to indicate the threshold\n",
    "ax.plot([0, 50], [threshold, threshold], \"k--\")\n"
   ]
  },
  {
   "cell_type": "markdown",
   "metadata": {},
   "source": [
    "## METHODOLOGY <a name=\"Methodology\"></a>"
   ]
  },
  {
   "cell_type": "markdown",
   "metadata": {},
   "source": [
    "It seems to be common knowledge that pain is physiological aspect of life can be attributed to lifestyle which in turn seems to largely depend on food & fiscal wellness. But that's an **ASSUMPTION**, and we'll make a number of other assumptions both qualitative & quantitative, and will take the help of **Machine Learning** to validate the assumptions without torturing the data, at the same time doing the necessary & due diligence to find out the **story hidden in the data**. \n",
    "\n",
    "DataScience problems are also broadly categorized into classification or regression problems. Here in this project, we will utilize machine learning in an attempt to classify each county in the United States as either Painful or Painfree based a chosen threshold of prescription rate; all the counties that have a **pain-killer prescription rate of 50% or below will be categorized as painfree counties** & the rest as painful. To estimate the prescription rate is a larger undertaking but given the common knowledge about pain, it seems logical to investigate if there are parameters that could predict a geographical region as either painful or painfree.\n",
    "\n",
    "First we will have to ensure that all the baseline features are collected and the data is complete; for instance there are **over 3000 counties** that CDC has data about painkiller prescription rate; The bureau of economic affairs per capita income data on almost all of the counties, however, when it comes to **median home values** we have data about less than 2000 counties. So we have to estimate the median home values for the remaining counties. The reason why we **consider income & property values** is to catch the two important economic criteria for fiscal well being. What we mean is that those who have inherited wealth may have mostly capital gains income which is reinvested & may under report the income but factoring in the home values may help the data to be less skewed. We will first use **folium & choropleth maps** to visulize the datasets with relevance to geolocation. \n",
    "\n",
    "Secondly we will utilize an REST style Web services API to an external data source to retrieve geo location based information. **The department of helth & human services of which CDC is part of, also recommends a healthy serving of vegetables & fruits. Vegetarian food is known to lower inflammation**. So using **FourSquare API** we will then retrieve the **availabiliy of vegetarian food within 10 kilometer radius from the geographical center of a county(another assumption because some counties in the western states are too big & the geographical centers do not coincide with the business centers)**. \n",
    "\n",
    "Third and the perhaps the most important part of the project is where we will utilize a classical kernel method called **Support Vector Machine** to model the data and predict a county as either a painfree county or otherwise based on availability of vegetarian food, higher percapita income, & higher median home values, and evaluate the accuracy of the model using Training & Testing data sets."
   ]
  },
  {
   "cell_type": "markdown",
   "metadata": {},
   "source": [
    "### Let's first extrapolate the home values based on per-capita income using Linear Regression"
   ]
  },
  {
   "cell_type": "markdown",
   "metadata": {},
   "source": [
    "**Inner join the 1892 Zillow Homevalues with income per capita**"
   ]
  },
  {
   "cell_type": "code",
   "execution_count": 58,
   "metadata": {},
   "outputs": [
    {
     "name": "stdout",
     "output_type": "stream",
     "text": [
      "StateCode           1892\n",
      "CountyName          1892\n",
      "MedianHousePrice    1892\n",
      "State               1892\n",
      "CountyCode          1892\n",
      "County              1892\n",
      "IncomePerCapita     1892\n",
      "dtype: int64\n"
     ]
    },
    {
     "data": {
      "text/html": [
       "<div>\n",
       "<style scoped>\n",
       "    .dataframe tbody tr th:only-of-type {\n",
       "        vertical-align: middle;\n",
       "    }\n",
       "\n",
       "    .dataframe tbody tr th {\n",
       "        vertical-align: top;\n",
       "    }\n",
       "\n",
       "    .dataframe thead th {\n",
       "        text-align: right;\n",
       "    }\n",
       "</style>\n",
       "<table border=\"1\" class=\"dataframe\">\n",
       "  <thead>\n",
       "    <tr style=\"text-align: right;\">\n",
       "      <th></th>\n",
       "      <th>StateCode</th>\n",
       "      <th>CountyName</th>\n",
       "      <th>MedianHousePrice</th>\n",
       "      <th>State</th>\n",
       "      <th>CountyCode</th>\n",
       "      <th>County</th>\n",
       "      <th>IncomePerCapita</th>\n",
       "    </tr>\n",
       "  </thead>\n",
       "  <tbody>\n",
       "    <tr>\n",
       "      <th>0</th>\n",
       "      <td>AL</td>\n",
       "      <td>Autauga</td>\n",
       "      <td>183163.25</td>\n",
       "      <td>Alabama</td>\n",
       "      <td>1001</td>\n",
       "      <td>Autauga</td>\n",
       "      <td>41618</td>\n",
       "    </tr>\n",
       "    <tr>\n",
       "      <th>1</th>\n",
       "      <td>AL</td>\n",
       "      <td>Baldwin</td>\n",
       "      <td>255185.71</td>\n",
       "      <td>Alabama</td>\n",
       "      <td>1003</td>\n",
       "      <td>Baldwin</td>\n",
       "      <td>45596</td>\n",
       "    </tr>\n",
       "    <tr>\n",
       "      <th>2</th>\n",
       "      <td>AL</td>\n",
       "      <td>Barbour</td>\n",
       "      <td>195000.00</td>\n",
       "      <td>Alabama</td>\n",
       "      <td>1005</td>\n",
       "      <td>Barbour</td>\n",
       "      <td>35199</td>\n",
       "    </tr>\n",
       "    <tr>\n",
       "      <th>3</th>\n",
       "      <td>AL</td>\n",
       "      <td>Blount</td>\n",
       "      <td>154450.00</td>\n",
       "      <td>Alabama</td>\n",
       "      <td>1009</td>\n",
       "      <td>Blount</td>\n",
       "      <td>34976</td>\n",
       "    </tr>\n",
       "    <tr>\n",
       "      <th>4</th>\n",
       "      <td>AL</td>\n",
       "      <td>Butler</td>\n",
       "      <td>129900.00</td>\n",
       "      <td>Alabama</td>\n",
       "      <td>1013</td>\n",
       "      <td>Butler</td>\n",
       "      <td>36450</td>\n",
       "    </tr>\n",
       "  </tbody>\n",
       "</table>\n",
       "</div>"
      ],
      "text/plain": [
       "  StateCode CountyName  MedianHousePrice    State  CountyCode   County  \\\n",
       "0        AL    Autauga         183163.25  Alabama        1001  Autauga   \n",
       "1        AL    Baldwin         255185.71  Alabama        1003  Baldwin   \n",
       "2        AL    Barbour         195000.00  Alabama        1005  Barbour   \n",
       "3        AL     Blount         154450.00  Alabama        1009   Blount   \n",
       "4        AL     Butler         129900.00  Alabama        1013   Butler   \n",
       "\n",
       "   IncomePerCapita  \n",
       "0            41618  \n",
       "1            45596  \n",
       "2            35199  \n",
       "3            34976  \n",
       "4            36450  "
      ]
     },
     "execution_count": 58,
     "metadata": {},
     "output_type": "execute_result"
    }
   ],
   "source": [
    "df = pd.merge(mhvDataFrame, ipcDataFrame, left_on=['StateCode', 'CountyName'], right_on=['StateCode', 'County'], how='inner')\n",
    "\n",
    "df[['StateCode', 'CountyName', 'MedianHousePrice', 'IncomePerCapita']].to_csv('HomeValuesSpreadsheet.csv')\n",
    "\n",
    "print(df.count())\n",
    "\n",
    "df.head()\n"
   ]
  },
  {
   "cell_type": "markdown",
   "metadata": {},
   "source": [
    "### Predict Home Values using Income Data\n",
    "**Split records into Training & Testing datasets (for linear regression) using SciKit Learn**"
   ]
  },
  {
   "cell_type": "code",
   "execution_count": 59,
   "metadata": {},
   "outputs": [
    {
     "name": "stdout",
     "output_type": "stream",
     "text": [
      "\n",
      "The shape (rows, cols) of the training dataset is  (1513, 1)\n",
      "\n",
      "The shape (rows, cols) of the testing  dataset is  (379, 1)\n"
     ]
    }
   ],
   "source": [
    "#######################################\n",
    "# SPLIT THE TRAINING & TESTING DATASETS\n",
    "#######################################\n",
    "\n",
    "# Import train_test_split function\n",
    "from sklearn.model_selection import train_test_split\n",
    "\n",
    "X = df[['IncomePerCapita']]\n",
    "Y = df[['MedianHousePrice']]\n",
    "\n",
    "# Split the dataset as testing & training\n",
    "X_trn, X_tst, Y_trn, Y_tst = train_test_split(X, Y, test_size=0.2, random_state=4)\n",
    "\n",
    "# Print the shape of the resulting datasets (dataframes)\n",
    "print(\"\\nThe shape (rows, cols) of the training dataset is \", X_trn.shape)\n",
    "print(\"\\nThe shape (rows, cols) of the testing  dataset is \", X_tst.shape)\n"
   ]
  },
  {
   "cell_type": "markdown",
   "metadata": {},
   "source": [
    "**Visualize the TRAINING & TESTING data sets & see if there's a positive correlation between income & median home values**"
   ]
  },
  {
   "cell_type": "code",
   "execution_count": 60,
   "metadata": {},
   "outputs": [
    {
     "data": {
      "image/png": "[encoded data removed]",
      "text/plain": [
       "<Figure size 432x288 with 1 Axes>"
      ]
     },
     "metadata": {},
     "output_type": "display_data"
    }
   ],
   "source": [
    "plt.scatter(X_trn, Y_trn, color='b')\n",
    "\n",
    "plt.xlabel('Income Per Capita in US $')\n",
    "plt.ylabel('Median House Price in US $')\n",
    "plt.title('Regression plot using Training Dataset')\n",
    "plt.show()\n"
   ]
  },
  {
   "cell_type": "code",
   "execution_count": 61,
   "metadata": {},
   "outputs": [
    {
     "data": {
      "image/png": "[encoded data removed]",
      "text/plain": [
       "<Figure size 432x288 with 1 Axes>"
      ]
     },
     "metadata": {},
     "output_type": "display_data"
    }
   ],
   "source": [
    "plt.scatter(X_tst, Y_tst, color='r')\n",
    "\n",
    "plt.xlabel('Income Per Capita in US $')\n",
    "plt.ylabel('Median House Price in US $')\n",
    "plt.title('Regression plot using Test Dataset')\n",
    "plt.show()"
   ]
  },
  {
   "cell_type": "markdown",
   "metadata": {},
   "source": [
    "**Use Linear Regression model of (Sci-Kit Learn) estimate house values**"
   ]
  },
  {
   "cell_type": "code",
   "execution_count": 62,
   "metadata": {},
   "outputs": [
    {
     "name": "stdout",
     "output_type": "stream",
     "text": [
      "\n",
      "First few predicted house values : \n",
      " [[217600.20972926]\n",
      " [143987.61651969]\n",
      " [268139.07869379]\n",
      " [293614.94747187]\n",
      " [142120.32448034]]\n"
     ]
    },
    {
     "data": {
      "image/png": "[encoded data removed]",
      "text/plain": [
       "<Figure size 432x288 with 1 Axes>"
      ]
     },
     "metadata": {},
     "output_type": "display_data"
    }
   ],
   "source": [
    "from sklearn import linear_model\n",
    "\n",
    "# Instantiate Linear Regression Model\n",
    "regr = linear_model.LinearRegression()\n",
    "\n",
    "# Fit the LR model using the training dataset\n",
    "regr.fit(X_trn, Y_trn)\n",
    "\n",
    "Y_prd = regr.predict(X_tst)\n",
    "\n",
    "print('\\nFirst few predicted house values : \\n', Y_prd[0:5])\n",
    "\n",
    "plt.scatter(X, Y, color='r')\n",
    "\n",
    "plt.xlabel('Income Per Capita in US $')\n",
    "plt.ylabel('Median House Price in US $')\n",
    "plt.title('Regression plot using Test Dataset - Predicted Line')\n",
    "plt.plot(X_tst, Y_prd, '-b' )\n",
    "plt.show()"
   ]
  },
  {
   "cell_type": "markdown",
   "metadata": {},
   "source": [
    "### Utilize r2_score() of sklearn to compute the correlation coefficient\n",
    "\n",
    " $R^2$ = ( $ 1 - {\\frac{Residual Errors Squared}{Mean Errors Squared}}$ )\n",
    "\n",
    " $R^2$ = $ 1 - {\\frac{(Y_i - Y_f)^2 }{(Y_i - Y_m)^2}}$ \n",
    "\n",
    " Residual Errors Squared is $ (Y_i - Y_f)^2 $ , \n",
    "\n",
    " Mean Errors Squared     is $ (Y_i - Y_m)^2 $"
   ]
  },
  {
   "cell_type": "markdown",
   "metadata": {},
   "source": [
    "**Not the best but Median Home value is definitely correlated to the Income, which accounts for 72% of variation**"
   ]
  },
  {
   "cell_type": "code",
   "execution_count": 63,
   "metadata": {},
   "outputs": [
    {
     "name": "stdout",
     "output_type": "stream",
     "text": [
      "R Square : 0.50\n"
     ]
    }
   ],
   "source": [
    "from sklearn.metrics import r2_score\n",
    "# Compute R square using r2_score of SciKit Learn r2_score(true, predicted)\n",
    "print('R Square : %.2f' % r2_score(Y_tst, Y_prd))"
   ]
  },
  {
   "cell_type": "markdown",
   "metadata": {},
   "source": [
    "**Let's use the model to update the estimated median home values for all 3000+ counties** "
   ]
  },
  {
   "cell_type": "code",
   "execution_count": 64,
   "metadata": {
    "scrolled": false
   },
   "outputs": [
    {
     "name": "stdout",
     "output_type": "stream",
     "text": [
      "StateCode           3080\n",
      "State               3080\n",
      "CountyCode          3080\n",
      "County              3080\n",
      "IncomePerCapita     3080\n",
      "MedianHousePrice    3080\n",
      "dtype: int64\n"
     ]
    },
    {
     "name": "stderr",
     "output_type": "stream",
     "text": [
      "C:\\Users\\rahdi\\Apps\\Anaconda3\\lib\\site-packages\\ipykernel_launcher.py:11: SettingWithCopyWarning: \n",
      "A value is trying to be set on a copy of a slice from a DataFrame.\n",
      "Try using .loc[row_indexer,col_indexer] = value instead\n",
      "\n",
      "See the caveats in the documentation: http://pandas.pydata.org/pandas-docs/stable/indexing.html#indexing-view-versus-copy\n",
      "  # This is added back by InteractiveShellApp.init_path()\n"
     ]
    },
    {
     "data": {
      "text/html": [
       "<div>\n",
       "<style scoped>\n",
       "    .dataframe tbody tr th:only-of-type {\n",
       "        vertical-align: middle;\n",
       "    }\n",
       "\n",
       "    .dataframe tbody tr th {\n",
       "        vertical-align: top;\n",
       "    }\n",
       "\n",
       "    .dataframe thead th {\n",
       "        text-align: right;\n",
       "    }\n",
       "</style>\n",
       "<table border=\"1\" class=\"dataframe\">\n",
       "  <thead>\n",
       "    <tr style=\"text-align: right;\">\n",
       "      <th></th>\n",
       "      <th>StateCode</th>\n",
       "      <th>State</th>\n",
       "      <th>CountyCode</th>\n",
       "      <th>County</th>\n",
       "      <th>IncomePerCapita</th>\n",
       "      <th>MedianHousePrice</th>\n",
       "    </tr>\n",
       "  </thead>\n",
       "  <tbody>\n",
       "    <tr>\n",
       "      <th>0</th>\n",
       "      <td>AL</td>\n",
       "      <td>Alabama</td>\n",
       "      <td>1001.0</td>\n",
       "      <td>Autauga</td>\n",
       "      <td>41618.0</td>\n",
       "      <td>183163.25</td>\n",
       "    </tr>\n",
       "    <tr>\n",
       "      <th>1</th>\n",
       "      <td>AL</td>\n",
       "      <td>Alabama</td>\n",
       "      <td>1003.0</td>\n",
       "      <td>Baldwin</td>\n",
       "      <td>45596.0</td>\n",
       "      <td>255185.71</td>\n",
       "    </tr>\n",
       "    <tr>\n",
       "      <th>2</th>\n",
       "      <td>AL</td>\n",
       "      <td>Alabama</td>\n",
       "      <td>1005.0</td>\n",
       "      <td>Barbour</td>\n",
       "      <td>35199.0</td>\n",
       "      <td>195000.00</td>\n",
       "    </tr>\n",
       "    <tr>\n",
       "      <th>3</th>\n",
       "      <td>AL</td>\n",
       "      <td>Alabama</td>\n",
       "      <td>1009.0</td>\n",
       "      <td>Blount</td>\n",
       "      <td>34976.0</td>\n",
       "      <td>154450.00</td>\n",
       "    </tr>\n",
       "    <tr>\n",
       "      <th>4</th>\n",
       "      <td>AL</td>\n",
       "      <td>Alabama</td>\n",
       "      <td>1013.0</td>\n",
       "      <td>Butler</td>\n",
       "      <td>36450.0</td>\n",
       "      <td>129900.00</td>\n",
       "    </tr>\n",
       "  </tbody>\n",
       "</table>\n",
       "</div>"
      ],
      "text/plain": [
       "  StateCode    State  CountyCode   County  IncomePerCapita  MedianHousePrice\n",
       "0        AL  Alabama      1001.0  Autauga          41618.0         183163.25\n",
       "1        AL  Alabama      1003.0  Baldwin          45596.0         255185.71\n",
       "2        AL  Alabama      1005.0  Barbour          35199.0         195000.00\n",
       "3        AL  Alabama      1009.0   Blount          34976.0         154450.00\n",
       "4        AL  Alabama      1013.0   Butler          36450.0         129900.00"
      ]
     },
     "execution_count": 64,
     "metadata": {},
     "output_type": "execute_result"
    }
   ],
   "source": [
    "df = pd.merge(mhvDataFrame, ipcDataFrame, left_on=['StateCode', 'CountyName'], right_on=['StateCode', 'County'], how='right')\n",
    "df.drop('CountyName', axis=1, inplace=True)\n",
    "#print(df.count())\n",
    "#df.head()\n",
    "\n",
    "dfx = df.loc[df['MedianHousePrice'].isna()]\n",
    "\n",
    "X = np.asanyarray(dfx[['IncomePerCapita']])\n",
    "Y = regr.predict(X)\n",
    "\n",
    "dfx['MedianHousePrice'] = Y\n",
    "#dfx.head()\n",
    "\n",
    "# Update the DataFrame by attaching the calculated Median House Prices Column\n",
    "df.update(dfx)\n",
    "\n",
    "df = df[['StateCode', 'State', 'CountyCode', 'County', 'IncomePerCapita', 'MedianHousePrice']]\n",
    "print(df.count())\n",
    "\n",
    "df.head()"
   ]
  },
  {
   "cell_type": "markdown",
   "metadata": {},
   "source": [
    "\n",
    "#### Crate a DataFrame using 'inner join' to match as many of the 3000 counties & create records that have \n",
    "**(1) INCOME** \n",
    "**(2) MEDIAN HOME VALUE**"
   ]
  },
  {
   "cell_type": "code",
   "execution_count": 65,
   "metadata": {
    "scrolled": true
   },
   "outputs": [
    {
     "name": "stdout",
     "output_type": "stream",
     "text": [
      "StateCode           2847\n",
      "State               2847\n",
      "CountyCode_x        2847\n",
      "County_x            2847\n",
      "IncomePerCapita     2847\n",
      "MedianHousePrice    2847\n",
      "CountyName          2847\n",
      "StateNumber         2847\n",
      "CountyCode_y        2847\n",
      "County_y            2847\n",
      "PrescriptionRate    2847\n",
      "PainClass           2847\n",
      "dtype: int64\n"
     ]
    },
    {
     "data": {
      "text/html": [
       "<div>\n",
       "<style scoped>\n",
       "    .dataframe tbody tr th:only-of-type {\n",
       "        vertical-align: middle;\n",
       "    }\n",
       "\n",
       "    .dataframe tbody tr th {\n",
       "        vertical-align: top;\n",
       "    }\n",
       "\n",
       "    .dataframe thead th {\n",
       "        text-align: right;\n",
       "    }\n",
       "</style>\n",
       "<table border=\"1\" class=\"dataframe\">\n",
       "  <thead>\n",
       "    <tr style=\"text-align: right;\">\n",
       "      <th></th>\n",
       "      <th>StateCode</th>\n",
       "      <th>State</th>\n",
       "      <th>CountyCode_x</th>\n",
       "      <th>County_x</th>\n",
       "      <th>IncomePerCapita</th>\n",
       "      <th>MedianHousePrice</th>\n",
       "      <th>CountyName</th>\n",
       "      <th>StateNumber</th>\n",
       "      <th>CountyCode_y</th>\n",
       "      <th>County_y</th>\n",
       "      <th>PrescriptionRate</th>\n",
       "      <th>PainClass</th>\n",
       "    </tr>\n",
       "  </thead>\n",
       "  <tbody>\n",
       "    <tr>\n",
       "      <th>0</th>\n",
       "      <td>AL</td>\n",
       "      <td>Alabama</td>\n",
       "      <td>1001.0</td>\n",
       "      <td>Autauga</td>\n",
       "      <td>41618.0</td>\n",
       "      <td>183163.25</td>\n",
       "      <td>AUTAUGA</td>\n",
       "      <td>1</td>\n",
       "      <td>1001</td>\n",
       "      <td>AUTAUGA</td>\n",
       "      <td>106.6</td>\n",
       "      <td>Painful</td>\n",
       "    </tr>\n",
       "    <tr>\n",
       "      <th>1</th>\n",
       "      <td>AL</td>\n",
       "      <td>Alabama</td>\n",
       "      <td>1003.0</td>\n",
       "      <td>Baldwin</td>\n",
       "      <td>45596.0</td>\n",
       "      <td>255185.71</td>\n",
       "      <td>BALDWIN</td>\n",
       "      <td>1</td>\n",
       "      <td>1003</td>\n",
       "      <td>BALDWIN</td>\n",
       "      <td>106.7</td>\n",
       "      <td>Painful</td>\n",
       "    </tr>\n",
       "    <tr>\n",
       "      <th>2</th>\n",
       "      <td>AL</td>\n",
       "      <td>Alabama</td>\n",
       "      <td>1005.0</td>\n",
       "      <td>Barbour</td>\n",
       "      <td>35199.0</td>\n",
       "      <td>195000.00</td>\n",
       "      <td>BARBOUR</td>\n",
       "      <td>1</td>\n",
       "      <td>1005</td>\n",
       "      <td>BARBOUR</td>\n",
       "      <td>90.7</td>\n",
       "      <td>Painful</td>\n",
       "    </tr>\n",
       "    <tr>\n",
       "      <th>3</th>\n",
       "      <td>AL</td>\n",
       "      <td>Alabama</td>\n",
       "      <td>1009.0</td>\n",
       "      <td>Blount</td>\n",
       "      <td>34976.0</td>\n",
       "      <td>154450.00</td>\n",
       "      <td>BLOUNT</td>\n",
       "      <td>1</td>\n",
       "      <td>1009</td>\n",
       "      <td>BLOUNT</td>\n",
       "      <td>48.9</td>\n",
       "      <td>Painful</td>\n",
       "    </tr>\n",
       "    <tr>\n",
       "      <th>4</th>\n",
       "      <td>AL</td>\n",
       "      <td>Alabama</td>\n",
       "      <td>1013.0</td>\n",
       "      <td>Butler</td>\n",
       "      <td>36450.0</td>\n",
       "      <td>129900.00</td>\n",
       "      <td>BUTLER</td>\n",
       "      <td>1</td>\n",
       "      <td>1013</td>\n",
       "      <td>BUTLER</td>\n",
       "      <td>118.6</td>\n",
       "      <td>Painful</td>\n",
       "    </tr>\n",
       "  </tbody>\n",
       "</table>\n",
       "</div>"
      ],
      "text/plain": [
       "  StateCode    State  CountyCode_x County_x  IncomePerCapita  \\\n",
       "0        AL  Alabama        1001.0  Autauga          41618.0   \n",
       "1        AL  Alabama        1003.0  Baldwin          45596.0   \n",
       "2        AL  Alabama        1005.0  Barbour          35199.0   \n",
       "3        AL  Alabama        1009.0   Blount          34976.0   \n",
       "4        AL  Alabama        1013.0   Butler          36450.0   \n",
       "\n",
       "   MedianHousePrice CountyName  StateNumber  CountyCode_y County_y  \\\n",
       "0         183163.25    AUTAUGA            1          1001  AUTAUGA   \n",
       "1         255185.71    BALDWIN            1          1003  BALDWIN   \n",
       "2         195000.00    BARBOUR            1          1005  BARBOUR   \n",
       "3         154450.00     BLOUNT            1          1009   BLOUNT   \n",
       "4         129900.00     BUTLER            1          1013   BUTLER   \n",
       "\n",
       "   PrescriptionRate PainClass  \n",
       "0             106.6   Painful  \n",
       "1             106.7   Painful  \n",
       "2              90.7   Painful  \n",
       "3              48.9   Painful  \n",
       "4             118.6   Painful  "
      ]
     },
     "execution_count": 65,
     "metadata": {},
     "output_type": "execute_result"
    }
   ],
   "source": [
    "df['CountyName'] = df['County'].str.upper() \n",
    "df.head()\n",
    "# Inner Join the data frames, matching StateCode & CountyName\n",
    "dfy = pd.merge(df, pkpDataFrame, left_on=['StateCode', 'CountyName'], right_on=['StateCode','County'], how='inner')\n",
    "print(dfy.count())\n",
    "dfy.head()"
   ]
  },
  {
   "cell_type": "code",
   "execution_count": 66,
   "metadata": {
    "scrolled": true
   },
   "outputs": [
    {
     "name": "stdout",
     "output_type": "stream",
     "text": [
      "StateNumber         2847\n",
      "StateCode           2847\n",
      "State               2847\n",
      "CountyCode          2847\n",
      "County              2847\n",
      "IncomePerCapita     2847\n",
      "MedianHousePrice    2847\n",
      "PrescriptionRate    2847\n",
      "PainClass           2847\n",
      "dtype: int64\n",
      "AT THIS POINT WE HAVE A DATA FRAME FOR  2847  COUNTIES IN UNITED STATES\n"
     ]
    },
    {
     "data": {
      "text/html": [
       "<div>\n",
       "<style scoped>\n",
       "    .dataframe tbody tr th:only-of-type {\n",
       "        vertical-align: middle;\n",
       "    }\n",
       "\n",
       "    .dataframe tbody tr th {\n",
       "        vertical-align: top;\n",
       "    }\n",
       "\n",
       "    .dataframe thead th {\n",
       "        text-align: right;\n",
       "    }\n",
       "</style>\n",
       "<table border=\"1\" class=\"dataframe\">\n",
       "  <thead>\n",
       "    <tr style=\"text-align: right;\">\n",
       "      <th></th>\n",
       "      <th>StateNumber</th>\n",
       "      <th>StateCode</th>\n",
       "      <th>State</th>\n",
       "      <th>CountyCode</th>\n",
       "      <th>County</th>\n",
       "      <th>IncomePerCapita</th>\n",
       "      <th>MedianHousePrice</th>\n",
       "      <th>PrescriptionRate</th>\n",
       "      <th>PainClass</th>\n",
       "    </tr>\n",
       "  </thead>\n",
       "  <tbody>\n",
       "    <tr>\n",
       "      <th>0</th>\n",
       "      <td>1</td>\n",
       "      <td>AL</td>\n",
       "      <td>Alabama</td>\n",
       "      <td>1001.0</td>\n",
       "      <td>Autauga</td>\n",
       "      <td>41618.0</td>\n",
       "      <td>183163.25</td>\n",
       "      <td>106.6</td>\n",
       "      <td>Painful</td>\n",
       "    </tr>\n",
       "    <tr>\n",
       "      <th>1</th>\n",
       "      <td>1</td>\n",
       "      <td>AL</td>\n",
       "      <td>Alabama</td>\n",
       "      <td>1003.0</td>\n",
       "      <td>Baldwin</td>\n",
       "      <td>45596.0</td>\n",
       "      <td>255185.71</td>\n",
       "      <td>106.7</td>\n",
       "      <td>Painful</td>\n",
       "    </tr>\n",
       "    <tr>\n",
       "      <th>2</th>\n",
       "      <td>1</td>\n",
       "      <td>AL</td>\n",
       "      <td>Alabama</td>\n",
       "      <td>1005.0</td>\n",
       "      <td>Barbour</td>\n",
       "      <td>35199.0</td>\n",
       "      <td>195000.00</td>\n",
       "      <td>90.7</td>\n",
       "      <td>Painful</td>\n",
       "    </tr>\n",
       "    <tr>\n",
       "      <th>3</th>\n",
       "      <td>1</td>\n",
       "      <td>AL</td>\n",
       "      <td>Alabama</td>\n",
       "      <td>1009.0</td>\n",
       "      <td>Blount</td>\n",
       "      <td>34976.0</td>\n",
       "      <td>154450.00</td>\n",
       "      <td>48.9</td>\n",
       "      <td>Painful</td>\n",
       "    </tr>\n",
       "    <tr>\n",
       "      <th>4</th>\n",
       "      <td>1</td>\n",
       "      <td>AL</td>\n",
       "      <td>Alabama</td>\n",
       "      <td>1013.0</td>\n",
       "      <td>Butler</td>\n",
       "      <td>36450.0</td>\n",
       "      <td>129900.00</td>\n",
       "      <td>118.6</td>\n",
       "      <td>Painful</td>\n",
       "    </tr>\n",
       "  </tbody>\n",
       "</table>\n",
       "</div>"
      ],
      "text/plain": [
       "   StateNumber StateCode    State  CountyCode   County  IncomePerCapita  \\\n",
       "0            1        AL  Alabama      1001.0  Autauga          41618.0   \n",
       "1            1        AL  Alabama      1003.0  Baldwin          45596.0   \n",
       "2            1        AL  Alabama      1005.0  Barbour          35199.0   \n",
       "3            1        AL  Alabama      1009.0   Blount          34976.0   \n",
       "4            1        AL  Alabama      1013.0   Butler          36450.0   \n",
       "\n",
       "   MedianHousePrice  PrescriptionRate PainClass  \n",
       "0         183163.25             106.6   Painful  \n",
       "1         255185.71             106.7   Painful  \n",
       "2         195000.00              90.7   Painful  \n",
       "3         154450.00              48.9   Painful  \n",
       "4         129900.00             118.6   Painful  "
      ]
     },
     "execution_count": 66,
     "metadata": {},
     "output_type": "execute_result"
    }
   ],
   "source": [
    "# Drop the unnecessary columns\n",
    "dfy.drop(['CountyName', 'CountyCode_y', 'County_y'], axis=1, inplace=True )\n",
    "\n",
    "# Rename the columns to tidy up the dataframe\n",
    "dfy.rename(columns={\"CountyCode_x\":\"CountyCode\", \"County_x\":\"County\"},inplace=True)\n",
    "\n",
    "# Reorder columns to shift StateNumber in front of StateCode\n",
    "dfy = dfy[['StateNumber', 'StateCode', 'State', 'CountyCode', 'County', 'IncomePerCapita', 'MedianHousePrice', 'PrescriptionRate', 'PainClass']]\n",
    "\n",
    "print(dfy.count())\n",
    "\n",
    "print(\"AT THIS POINT WE HAVE A DATA FRAME FOR \",len(dfy),\" COUNTIES IN UNITED STATES\")\n",
    "\n",
    "dfy.head()"
   ]
  },
  {
   "cell_type": "markdown",
   "metadata": {},
   "source": [
    "### Prepare Data - Table to cross-reference county codes & geography (longitude + latitude)"
   ]
  },
  {
   "cell_type": "markdown",
   "metadata": {},
   "source": [
    "**Data preparation:** Data in the wild almost always contains missing or inconsistent data; there may be a need to join data using foreign keys as in this case & last but not least data almost always needs to be normalized to get a sense of proper scale when comparing two quantitative entities on scales of very different magnitudes. A cross reference dataset will be also utilized to cross-reference Fed. Information Processing Standards (FIPS) county code, to obtain geographic latitude and longitude information. The cross-reference data is provided by the U.S. Census Bureau as a tables called the U.S. Gazetteer Files, providing geographical details including the land area, latitude and longitude for each county."
   ]
  },
  {
   "cell_type": "markdown",
   "metadata": {},
   "source": [
    "**Attach Longitude & Latitude to each of the counties using US County Gazetteer to cross-reference geolocation names coordinates**"
   ]
  },
  {
   "cell_type": "code",
   "execution_count": 67,
   "metadata": {},
   "outputs": [
    {
     "name": "stdout",
     "output_type": "stream",
     "text": [
      "StateCode        3220\n",
      "CountyCode       3220\n",
      "ANSICODE         3220\n",
      "CountyName       3220\n",
      "LandAreaSqMi     3220\n",
      "WaterAreaSqMi    3220\n",
      "Latitude         3220\n",
      "Longitude        3220\n",
      "dtype: int64\n"
     ]
    },
    {
     "data": {
      "text/html": [
       "<div>\n",
       "<style scoped>\n",
       "    .dataframe tbody tr th:only-of-type {\n",
       "        vertical-align: middle;\n",
       "    }\n",
       "\n",
       "    .dataframe tbody tr th {\n",
       "        vertical-align: top;\n",
       "    }\n",
       "\n",
       "    .dataframe thead th {\n",
       "        text-align: right;\n",
       "    }\n",
       "</style>\n",
       "<table border=\"1\" class=\"dataframe\">\n",
       "  <thead>\n",
       "    <tr style=\"text-align: right;\">\n",
       "      <th></th>\n",
       "      <th>StateCode</th>\n",
       "      <th>CountyCode</th>\n",
       "      <th>ANSICODE</th>\n",
       "      <th>CountyName</th>\n",
       "      <th>LandAreaSqMi</th>\n",
       "      <th>WaterAreaSqMi</th>\n",
       "      <th>Latitude</th>\n",
       "      <th>Longitude</th>\n",
       "    </tr>\n",
       "  </thead>\n",
       "  <tbody>\n",
       "    <tr>\n",
       "      <th>0</th>\n",
       "      <td>AL</td>\n",
       "      <td>1001</td>\n",
       "      <td>161526</td>\n",
       "      <td>Autauga</td>\n",
       "      <td>594.444</td>\n",
       "      <td>9.926</td>\n",
       "      <td>32.532237</td>\n",
       "      <td>-86.646440</td>\n",
       "    </tr>\n",
       "    <tr>\n",
       "      <th>1</th>\n",
       "      <td>AL</td>\n",
       "      <td>1003</td>\n",
       "      <td>161527</td>\n",
       "      <td>Baldwin</td>\n",
       "      <td>1589.823</td>\n",
       "      <td>437.446</td>\n",
       "      <td>30.659218</td>\n",
       "      <td>-87.746067</td>\n",
       "    </tr>\n",
       "    <tr>\n",
       "      <th>2</th>\n",
       "      <td>AL</td>\n",
       "      <td>1005</td>\n",
       "      <td>161528</td>\n",
       "      <td>Barbour</td>\n",
       "      <td>885.008</td>\n",
       "      <td>19.507</td>\n",
       "      <td>31.870253</td>\n",
       "      <td>-85.405104</td>\n",
       "    </tr>\n",
       "    <tr>\n",
       "      <th>3</th>\n",
       "      <td>AL</td>\n",
       "      <td>1007</td>\n",
       "      <td>161529</td>\n",
       "      <td>Bibb</td>\n",
       "      <td>622.461</td>\n",
       "      <td>3.707</td>\n",
       "      <td>33.015893</td>\n",
       "      <td>-87.127148</td>\n",
       "    </tr>\n",
       "    <tr>\n",
       "      <th>4</th>\n",
       "      <td>AL</td>\n",
       "      <td>1009</td>\n",
       "      <td>161530</td>\n",
       "      <td>Blount</td>\n",
       "      <td>644.831</td>\n",
       "      <td>5.798</td>\n",
       "      <td>33.977358</td>\n",
       "      <td>-86.566440</td>\n",
       "    </tr>\n",
       "  </tbody>\n",
       "</table>\n",
       "</div>"
      ],
      "text/plain": [
       "  StateCode  CountyCode  ANSICODE CountyName LandAreaSqMi  WaterAreaSqMi  \\\n",
       "0        AL        1001    161526    Autauga      594.444          9.926   \n",
       "1        AL        1003    161527    Baldwin     1589.823        437.446   \n",
       "2        AL        1005    161528    Barbour      885.008         19.507   \n",
       "3        AL        1007    161529       Bibb      622.461          3.707   \n",
       "4        AL        1009    161530     Blount      644.831          5.798   \n",
       "\n",
       "    Latitude  Longitude  \n",
       "0  32.532237 -86.646440  \n",
       "1  30.659218 -87.746067  \n",
       "2  31.870253 -85.405104  \n",
       "3  33.015893 -87.127148  \n",
       "4  33.977358 -86.566440  "
      ]
     },
     "execution_count": 67,
     "metadata": {},
     "output_type": "execute_result"
    }
   ],
   "source": [
    "# Read the US Census Gazetteer file\n",
    "#xrfDataFrame = pd.read_csv(\"https://datascience-capstone-project.s3.us-south.cloud-object-storage.appdomain.cloud/USCountyGazetteer2019.csv\")\n",
    "xrfDataFrame = pd.read_csv('USCountyGazetteer2019.csv')\n",
    "print(xrfDataFrame.count())\n",
    "xrfDataFrame.head()"
   ]
  },
  {
   "cell_type": "code",
   "execution_count": 254,
   "metadata": {},
   "outputs": [
    {
     "data": {
      "text/html": [
       "<div>\n",
       "<style scoped>\n",
       "    .dataframe tbody tr th:only-of-type {\n",
       "        vertical-align: middle;\n",
       "    }\n",
       "\n",
       "    .dataframe tbody tr th {\n",
       "        vertical-align: top;\n",
       "    }\n",
       "\n",
       "    .dataframe thead th {\n",
       "        text-align: right;\n",
       "    }\n",
       "</style>\n",
       "<table border=\"1\" class=\"dataframe\">\n",
       "  <thead>\n",
       "    <tr style=\"text-align: right;\">\n",
       "      <th></th>\n",
       "      <th>CountyCode</th>\n",
       "      <th>ANSICODE</th>\n",
       "      <th>WaterAreaSqMi</th>\n",
       "      <th>Latitude</th>\n",
       "      <th>Longitude</th>\n",
       "    </tr>\n",
       "  </thead>\n",
       "  <tbody>\n",
       "    <tr>\n",
       "      <th>count</th>\n",
       "      <td>3220.000000</td>\n",
       "      <td>3.220000e+03</td>\n",
       "      <td>3220.000000</td>\n",
       "      <td>3220.000000</td>\n",
       "      <td>3220.000000</td>\n",
       "    </tr>\n",
       "    <tr>\n",
       "      <th>mean</th>\n",
       "      <td>31393.605280</td>\n",
       "      <td>9.628897e+05</td>\n",
       "      <td>82.616637</td>\n",
       "      <td>37.965388</td>\n",
       "      <td>-91.553504</td>\n",
       "    </tr>\n",
       "    <tr>\n",
       "      <th>std</th>\n",
       "      <td>16292.078954</td>\n",
       "      <td>5.174236e+05</td>\n",
       "      <td>471.226278</td>\n",
       "      <td>6.095978</td>\n",
       "      <td>14.149096</td>\n",
       "    </tr>\n",
       "    <tr>\n",
       "      <th>min</th>\n",
       "      <td>1001.000000</td>\n",
       "      <td>2.390100e+04</td>\n",
       "      <td>0.000000</td>\n",
       "      <td>17.948052</td>\n",
       "      <td>-164.188912</td>\n",
       "    </tr>\n",
       "    <tr>\n",
       "      <th>25%</th>\n",
       "      <td>19032.500000</td>\n",
       "      <td>4.849888e+05</td>\n",
       "      <td>2.704750</td>\n",
       "      <td>34.351125</td>\n",
       "      <td>-98.072444</td>\n",
       "    </tr>\n",
       "    <tr>\n",
       "      <th>50%</th>\n",
       "      <td>30024.000000</td>\n",
       "      <td>9.741585e+05</td>\n",
       "      <td>7.452500</td>\n",
       "      <td>38.215832</td>\n",
       "      <td>-89.943212</td>\n",
       "    </tr>\n",
       "    <tr>\n",
       "      <th>75%</th>\n",
       "      <td>46105.500000</td>\n",
       "      <td>1.419973e+06</td>\n",
       "      <td>23.252250</td>\n",
       "      <td>41.704658</td>\n",
       "      <td>-82.952177</td>\n",
       "    </tr>\n",
       "    <tr>\n",
       "      <th>max</th>\n",
       "      <td>72153.000000</td>\n",
       "      <td>2.516404e+06</td>\n",
       "      <td>10028.348000</td>\n",
       "      <td>69.449343</td>\n",
       "      <td>179.621188</td>\n",
       "    </tr>\n",
       "  </tbody>\n",
       "</table>\n",
       "</div>"
      ],
      "text/plain": [
       "         CountyCode      ANSICODE  WaterAreaSqMi     Latitude    Longitude\n",
       "count   3220.000000  3.220000e+03    3220.000000  3220.000000  3220.000000\n",
       "mean   31393.605280  9.628897e+05      82.616637    37.965388   -91.553504\n",
       "std    16292.078954  5.174236e+05     471.226278     6.095978    14.149096\n",
       "min     1001.000000  2.390100e+04       0.000000    17.948052  -164.188912\n",
       "25%    19032.500000  4.849888e+05       2.704750    34.351125   -98.072444\n",
       "50%    30024.000000  9.741585e+05       7.452500    38.215832   -89.943212\n",
       "75%    46105.500000  1.419973e+06      23.252250    41.704658   -82.952177\n",
       "max    72153.000000  2.516404e+06   10028.348000    69.449343   179.621188"
      ]
     },
     "execution_count": 254,
     "metadata": {},
     "output_type": "execute_result"
    }
   ],
   "source": [
    "# Descriptive statistics of all numeric values\n",
    "xrfDataFrame.describe()"
   ]
  },
  {
   "cell_type": "code",
   "execution_count": 68,
   "metadata": {
    "scrolled": false
   },
   "outputs": [
    {
     "name": "stdout",
     "output_type": "stream",
     "text": [
      "StateNumber         2847\n",
      "StateCode           2847\n",
      "State               2847\n",
      "CountyCode          2847\n",
      "County              2847\n",
      "IncomePerCapita     2847\n",
      "MedianHousePrice    2847\n",
      "PrescriptionRate    2847\n",
      "PainClass           2847\n",
      "dtype: int64\n"
     ]
    },
    {
     "data": {
      "text/html": [
       "<div>\n",
       "<style scoped>\n",
       "    .dataframe tbody tr th:only-of-type {\n",
       "        vertical-align: middle;\n",
       "    }\n",
       "\n",
       "    .dataframe tbody tr th {\n",
       "        vertical-align: top;\n",
       "    }\n",
       "\n",
       "    .dataframe thead th {\n",
       "        text-align: right;\n",
       "    }\n",
       "</style>\n",
       "<table border=\"1\" class=\"dataframe\">\n",
       "  <thead>\n",
       "    <tr style=\"text-align: right;\">\n",
       "      <th></th>\n",
       "      <th>StateNumber</th>\n",
       "      <th>StateCode</th>\n",
       "      <th>State</th>\n",
       "      <th>CountyCode</th>\n",
       "      <th>County</th>\n",
       "      <th>IncomePerCapita</th>\n",
       "      <th>MedianHousePrice</th>\n",
       "      <th>PrescriptionRate</th>\n",
       "      <th>PainClass</th>\n",
       "    </tr>\n",
       "  </thead>\n",
       "  <tbody>\n",
       "    <tr>\n",
       "      <th>0</th>\n",
       "      <td>1</td>\n",
       "      <td>AL</td>\n",
       "      <td>Alabama</td>\n",
       "      <td>1001.0</td>\n",
       "      <td>Autauga</td>\n",
       "      <td>41618.0</td>\n",
       "      <td>183163.25</td>\n",
       "      <td>106.6</td>\n",
       "      <td>Painful</td>\n",
       "    </tr>\n",
       "    <tr>\n",
       "      <th>1</th>\n",
       "      <td>1</td>\n",
       "      <td>AL</td>\n",
       "      <td>Alabama</td>\n",
       "      <td>1003.0</td>\n",
       "      <td>Baldwin</td>\n",
       "      <td>45596.0</td>\n",
       "      <td>255185.71</td>\n",
       "      <td>106.7</td>\n",
       "      <td>Painful</td>\n",
       "    </tr>\n",
       "    <tr>\n",
       "      <th>2</th>\n",
       "      <td>1</td>\n",
       "      <td>AL</td>\n",
       "      <td>Alabama</td>\n",
       "      <td>1005.0</td>\n",
       "      <td>Barbour</td>\n",
       "      <td>35199.0</td>\n",
       "      <td>195000.00</td>\n",
       "      <td>90.7</td>\n",
       "      <td>Painful</td>\n",
       "    </tr>\n",
       "    <tr>\n",
       "      <th>3</th>\n",
       "      <td>1</td>\n",
       "      <td>AL</td>\n",
       "      <td>Alabama</td>\n",
       "      <td>1009.0</td>\n",
       "      <td>Blount</td>\n",
       "      <td>34976.0</td>\n",
       "      <td>154450.00</td>\n",
       "      <td>48.9</td>\n",
       "      <td>Painful</td>\n",
       "    </tr>\n",
       "    <tr>\n",
       "      <th>4</th>\n",
       "      <td>1</td>\n",
       "      <td>AL</td>\n",
       "      <td>Alabama</td>\n",
       "      <td>1013.0</td>\n",
       "      <td>Butler</td>\n",
       "      <td>36450.0</td>\n",
       "      <td>129900.00</td>\n",
       "      <td>118.6</td>\n",
       "      <td>Painful</td>\n",
       "    </tr>\n",
       "  </tbody>\n",
       "</table>\n",
       "</div>"
      ],
      "text/plain": [
       "   StateNumber StateCode    State  CountyCode   County  IncomePerCapita  \\\n",
       "0            1        AL  Alabama      1001.0  Autauga          41618.0   \n",
       "1            1        AL  Alabama      1003.0  Baldwin          45596.0   \n",
       "2            1        AL  Alabama      1005.0  Barbour          35199.0   \n",
       "3            1        AL  Alabama      1009.0   Blount          34976.0   \n",
       "4            1        AL  Alabama      1013.0   Butler          36450.0   \n",
       "\n",
       "   MedianHousePrice  PrescriptionRate PainClass  \n",
       "0         183163.25             106.6   Painful  \n",
       "1         255185.71             106.7   Painful  \n",
       "2         195000.00              90.7   Painful  \n",
       "3         154450.00              48.9   Painful  \n",
       "4         129900.00             118.6   Painful  "
      ]
     },
     "execution_count": 68,
     "metadata": {},
     "output_type": "execute_result"
    }
   ],
   "source": [
    "print(dfy.count())\n",
    "dfy.head()"
   ]
  },
  {
   "cell_type": "code",
   "execution_count": 69,
   "metadata": {},
   "outputs": [
    {
     "name": "stdout",
     "output_type": "stream",
     "text": [
      "StateNumber         2847\n",
      "StateCode_x         2847\n",
      "State               2847\n",
      "CountyCode          2847\n",
      "County              2847\n",
      "IncomePerCapita     2847\n",
      "MedianHousePrice    2847\n",
      "PrescriptionRate    2847\n",
      "PainClass           2847\n",
      "StateCode_y         2847\n",
      "ANSICODE            2847\n",
      "CountyName          2847\n",
      "LandAreaSqMi        2847\n",
      "WaterAreaSqMi       2847\n",
      "Latitude            2847\n",
      "Longitude           2847\n",
      "dtype: int64\n"
     ]
    },
    {
     "data": {
      "text/html": [
       "<div>\n",
       "<style scoped>\n",
       "    .dataframe tbody tr th:only-of-type {\n",
       "        vertical-align: middle;\n",
       "    }\n",
       "\n",
       "    .dataframe tbody tr th {\n",
       "        vertical-align: top;\n",
       "    }\n",
       "\n",
       "    .dataframe thead th {\n",
       "        text-align: right;\n",
       "    }\n",
       "</style>\n",
       "<table border=\"1\" class=\"dataframe\">\n",
       "  <thead>\n",
       "    <tr style=\"text-align: right;\">\n",
       "      <th></th>\n",
       "      <th>StateNumber</th>\n",
       "      <th>StateCode_x</th>\n",
       "      <th>State</th>\n",
       "      <th>CountyCode</th>\n",
       "      <th>County</th>\n",
       "      <th>IncomePerCapita</th>\n",
       "      <th>MedianHousePrice</th>\n",
       "      <th>PrescriptionRate</th>\n",
       "      <th>PainClass</th>\n",
       "      <th>StateCode_y</th>\n",
       "      <th>ANSICODE</th>\n",
       "      <th>CountyName</th>\n",
       "      <th>LandAreaSqMi</th>\n",
       "      <th>WaterAreaSqMi</th>\n",
       "      <th>Latitude</th>\n",
       "      <th>Longitude</th>\n",
       "    </tr>\n",
       "  </thead>\n",
       "  <tbody>\n",
       "    <tr>\n",
       "      <th>0</th>\n",
       "      <td>1</td>\n",
       "      <td>AL</td>\n",
       "      <td>Alabama</td>\n",
       "      <td>1001.0</td>\n",
       "      <td>Autauga</td>\n",
       "      <td>41618.0</td>\n",
       "      <td>183163.25</td>\n",
       "      <td>106.6</td>\n",
       "      <td>Painful</td>\n",
       "      <td>AL</td>\n",
       "      <td>161526</td>\n",
       "      <td>Autauga</td>\n",
       "      <td>594.444</td>\n",
       "      <td>9.926</td>\n",
       "      <td>32.532237</td>\n",
       "      <td>-86.646440</td>\n",
       "    </tr>\n",
       "    <tr>\n",
       "      <th>1</th>\n",
       "      <td>1</td>\n",
       "      <td>AL</td>\n",
       "      <td>Alabama</td>\n",
       "      <td>1003.0</td>\n",
       "      <td>Baldwin</td>\n",
       "      <td>45596.0</td>\n",
       "      <td>255185.71</td>\n",
       "      <td>106.7</td>\n",
       "      <td>Painful</td>\n",
       "      <td>AL</td>\n",
       "      <td>161527</td>\n",
       "      <td>Baldwin</td>\n",
       "      <td>1589.823</td>\n",
       "      <td>437.446</td>\n",
       "      <td>30.659218</td>\n",
       "      <td>-87.746067</td>\n",
       "    </tr>\n",
       "    <tr>\n",
       "      <th>2</th>\n",
       "      <td>1</td>\n",
       "      <td>AL</td>\n",
       "      <td>Alabama</td>\n",
       "      <td>1005.0</td>\n",
       "      <td>Barbour</td>\n",
       "      <td>35199.0</td>\n",
       "      <td>195000.00</td>\n",
       "      <td>90.7</td>\n",
       "      <td>Painful</td>\n",
       "      <td>AL</td>\n",
       "      <td>161528</td>\n",
       "      <td>Barbour</td>\n",
       "      <td>885.008</td>\n",
       "      <td>19.507</td>\n",
       "      <td>31.870253</td>\n",
       "      <td>-85.405104</td>\n",
       "    </tr>\n",
       "    <tr>\n",
       "      <th>3</th>\n",
       "      <td>1</td>\n",
       "      <td>AL</td>\n",
       "      <td>Alabama</td>\n",
       "      <td>1009.0</td>\n",
       "      <td>Blount</td>\n",
       "      <td>34976.0</td>\n",
       "      <td>154450.00</td>\n",
       "      <td>48.9</td>\n",
       "      <td>Painful</td>\n",
       "      <td>AL</td>\n",
       "      <td>161530</td>\n",
       "      <td>Blount</td>\n",
       "      <td>644.831</td>\n",
       "      <td>5.798</td>\n",
       "      <td>33.977358</td>\n",
       "      <td>-86.566440</td>\n",
       "    </tr>\n",
       "    <tr>\n",
       "      <th>4</th>\n",
       "      <td>1</td>\n",
       "      <td>AL</td>\n",
       "      <td>Alabama</td>\n",
       "      <td>1013.0</td>\n",
       "      <td>Butler</td>\n",
       "      <td>36450.0</td>\n",
       "      <td>129900.00</td>\n",
       "      <td>118.6</td>\n",
       "      <td>Painful</td>\n",
       "      <td>AL</td>\n",
       "      <td>161532</td>\n",
       "      <td>Butler</td>\n",
       "      <td>776.839</td>\n",
       "      <td>1.043</td>\n",
       "      <td>31.751667</td>\n",
       "      <td>-86.681969</td>\n",
       "    </tr>\n",
       "  </tbody>\n",
       "</table>\n",
       "</div>"
      ],
      "text/plain": [
       "   StateNumber StateCode_x    State  CountyCode   County  IncomePerCapita  \\\n",
       "0            1          AL  Alabama      1001.0  Autauga          41618.0   \n",
       "1            1          AL  Alabama      1003.0  Baldwin          45596.0   \n",
       "2            1          AL  Alabama      1005.0  Barbour          35199.0   \n",
       "3            1          AL  Alabama      1009.0   Blount          34976.0   \n",
       "4            1          AL  Alabama      1013.0   Butler          36450.0   \n",
       "\n",
       "   MedianHousePrice  PrescriptionRate PainClass StateCode_y  ANSICODE  \\\n",
       "0         183163.25             106.6   Painful          AL    161526   \n",
       "1         255185.71             106.7   Painful          AL    161527   \n",
       "2         195000.00              90.7   Painful          AL    161528   \n",
       "3         154450.00              48.9   Painful          AL    161530   \n",
       "4         129900.00             118.6   Painful          AL    161532   \n",
       "\n",
       "  CountyName LandAreaSqMi  WaterAreaSqMi   Latitude  Longitude  \n",
       "0    Autauga      594.444          9.926  32.532237 -86.646440  \n",
       "1    Baldwin     1589.823        437.446  30.659218 -87.746067  \n",
       "2    Barbour      885.008         19.507  31.870253 -85.405104  \n",
       "3     Blount      644.831          5.798  33.977358 -86.566440  \n",
       "4     Butler      776.839          1.043  31.751667 -86.681969  "
      ]
     },
     "execution_count": 69,
     "metadata": {},
     "output_type": "execute_result"
    }
   ],
   "source": [
    "# Initialize a new DataFrame\n",
    "dfz = pd.DataFrame()\n",
    "\n",
    "# Attach Latitude & Longitude \n",
    "dfz = pd.merge(dfy, xrfDataFrame, left_on=['CountyCode'], right_on=['CountyCode'], how='inner')\n",
    "\n",
    "# Print the counts of the merged DataFrame & display the same\n",
    "print(dfz.count())\n",
    "dfz.head()"
   ]
  },
  {
   "cell_type": "markdown",
   "metadata": {},
   "source": [
    "### Use Cloropleth Maps to Visualize Income, Home Prices & Pain-Killer Prescription Rate (pain)"
   ]
  },
  {
   "cell_type": "markdown",
   "metadata": {},
   "source": [
    "A Choropleth map is a thematic map in which areas are shaded or patterned in proportion to the measurement of the statistical variable being displayed on the map, such as population density or per-capita income. \n",
    "\n",
    "Now, let's create our own `Choropleth` map of United States depicting Income, Home Prices & Pain Killer Prescription Rate. First Install the module xlrd\n",
    "\n",
    "```\n",
    "!conda install -c anaconda xlrd --yes\n",
    "```"
   ]
  },
  {
   "cell_type": "code",
   "execution_count": 18,
   "metadata": {},
   "outputs": [
    {
     "name": "stdout",
     "output_type": "stream",
     "text": [
      "Collecting package metadata (current_repodata.json): ...working... done\n",
      "Solving environment: ...working... done\n",
      "\n",
      "# All requested packages already installed.\n",
      "\n"
     ]
    }
   ],
   "source": [
    "!conda install -c anaconda xlrd --yes"
   ]
  },
  {
   "cell_type": "markdown",
   "metadata": {},
   "source": [
    "### Install folium module for maps"
   ]
  },
  {
   "cell_type": "code",
   "execution_count": 70,
   "metadata": {},
   "outputs": [
    {
     "name": "stdout",
     "output_type": "stream",
     "text": [
      "Collecting package metadata (current_repodata.json): ...working... done\n",
      "Solving environment: ...working... \n",
      "Warning: 2 possible package resolutions (only showing differing packages):\n",
      "  - anaconda/win-64::conda-4.8.1-py37_0\n",
      "  - defaults/win-64::conda-4.8.1-py37_0done\n",
      "\n",
      "## Package Plan ##\n",
      "\n",
      "  environment location: C:\\Users\\rahdi\\Apps\\Anaconda3\n",
      "\n",
      "  added / updated specs:\n",
      "    - folium=0.5.0\n",
      "\n",
      "\n",
      "The following packages will be downloaded:\n",
      "\n",
      "    package                    |            build\n",
      "    ---------------------------|-----------------\n",
      "    certifi-2019.11.28         |           py37_0         148 KB  conda-forge\n",
      "    ------------------------------------------------------------\n",
      "                                           Total:         148 KB\n",
      "\n",
      "The following packages will be UPDATED:\n",
      "\n",
      "  ca-certificates    anaconda::ca-certificates-2019.11.27-0 --> conda-forge::ca-certificates-2019.11.28-hecc5488_0\n",
      "\n",
      "The following packages will be SUPERSEDED by a higher-priority channel:\n",
      "\n",
      "  certifi                                          anaconda --> conda-forge\n",
      "  openssl                anaconda::openssl-1.1.1-he774522_0 --> conda-forge::openssl-1.1.1d-hfa6e2cd_0\n",
      "\n",
      "\n",
      "\n",
      "Downloading and Extracting Packages\n",
      "\n",
      "certifi-2019.11.28   | 148 KB    |            |   0% \n",
      "certifi-2019.11.28   | 148 KB    | #          |  11% \n",
      "certifi-2019.11.28   | 148 KB    | ########## | 100% \n",
      "Preparing transaction: ...working... done\n",
      "Verifying transaction: ...working... done\n",
      "Executing transaction: ...working... done\n",
      "Folium installed and imported!\n"
     ]
    }
   ],
   "source": [
    "!conda install -c conda-forge folium=0.5.0 --yes\n",
    "import folium\n",
    "\n",
    "print('Folium installed and imported!')"
   ]
  },
  {
   "cell_type": "markdown",
   "metadata": {},
   "source": [
    "### Verify folium installation - create a map of United States with 37.09 & -95.71 as the center coordinates"
   ]
  },
  {
   "cell_type": "code",
   "execution_count": null,
   "metadata": {},
   "outputs": [],
   "source": [
    "# First Create a Folium Map Object (fmo) of the USA; specify(longitude, latitude) in that order\n",
    "# US Coordinates are 37.0902° N, 95.7129° W  (West of 0 degree longitude is prefixed negative)\n",
    "\n",
    "fmoUSA = folium.Map(location=[37.0902, -95.7129], zoom_start=4)\n",
    "\n",
    "# display world map\n",
    "fmoUSA"
   ]
  },
  {
   "cell_type": "markdown",
   "metadata": {},
   "source": [
    "### Use Choropleth map to visualize the pain-killer prescription rate. "
   ]
  },
  {
   "cell_type": "code",
   "execution_count": null,
   "metadata": {},
   "outputs": [],
   "source": [
    "# Now Create a Chloropleth map using the folium map object  \n",
    "\n",
    "# create a numpy array of length 5 \n",
    "threshold_scale = np.linspace(dfy['PrescriptionRate'].min(),\n",
    "                              dfy['PrescriptionRate'].max(),\n",
    "                              6, dtype=int)\n",
    "\n",
    "threshold_scale = threshold_scale.tolist() # change the numpy array to a list\n",
    "threshold_scale[-1] = threshold_scale[-1] + 1 # ensure last value in the list is GT max presc rate\n",
    "\n",
    "# Reference the GEO JSON file (of USA Counties) located in the current directory\n",
    "us_geojson = r'gz_2010_us_050_00_500k.json' # geojson file\n",
    "#us_geojson = r'gz_2010_us_500_11_20m.json' # geojson file\n",
    "\n",
    "# Generate choropleth map using the Income Grade\n",
    "fmoUSA.choropleth(\n",
    "    geo_data=us_geojson,\n",
    "    data=dfy,\n",
    "    columns=['County', 'PrescriptionRate'],\n",
    "    key_on='feature.properties.NAME',\n",
    "    threshold_scale=threshold_scale,\n",
    "    fill_color='YlOrRd', \n",
    "    fill_opacity=0.7, \n",
    "    line_opacity=0.0,\n",
    "    legend_name='Prescription Rate across US Counties(per 100 people)',\n",
    "    reset=True\n",
    ")\n",
    "\n",
    "# display map\n",
    "fmoUSA"
   ]
  },
  {
   "cell_type": "code",
   "execution_count": 71,
   "metadata": {},
   "outputs": [
    {
     "name": "stdout",
     "output_type": "stream",
     "text": [
      "StateNumber         2847\n",
      "StateCode           2847\n",
      "State               2847\n",
      "CountyCode          2847\n",
      "County              2847\n",
      "Latitude            2847\n",
      "Longitude           2847\n",
      "IncomePerCapita     2847\n",
      "MedianHousePrice    2847\n",
      "PrescriptionRate    2847\n",
      "PainClass           2847\n",
      "dtype: int64\n"
     ]
    },
    {
     "data": {
      "text/html": [
       "<div>\n",
       "<style scoped>\n",
       "    .dataframe tbody tr th:only-of-type {\n",
       "        vertical-align: middle;\n",
       "    }\n",
       "\n",
       "    .dataframe tbody tr th {\n",
       "        vertical-align: top;\n",
       "    }\n",
       "\n",
       "    .dataframe thead th {\n",
       "        text-align: right;\n",
       "    }\n",
       "</style>\n",
       "<table border=\"1\" class=\"dataframe\">\n",
       "  <thead>\n",
       "    <tr style=\"text-align: right;\">\n",
       "      <th></th>\n",
       "      <th>StateNumber</th>\n",
       "      <th>StateCode</th>\n",
       "      <th>State</th>\n",
       "      <th>CountyCode</th>\n",
       "      <th>County</th>\n",
       "      <th>Latitude</th>\n",
       "      <th>Longitude</th>\n",
       "      <th>IncomePerCapita</th>\n",
       "      <th>MedianHousePrice</th>\n",
       "      <th>PrescriptionRate</th>\n",
       "      <th>PainClass</th>\n",
       "    </tr>\n",
       "  </thead>\n",
       "  <tbody>\n",
       "    <tr>\n",
       "      <th>0</th>\n",
       "      <td>1</td>\n",
       "      <td>AL</td>\n",
       "      <td>Alabama</td>\n",
       "      <td>1001.0</td>\n",
       "      <td>Autauga</td>\n",
       "      <td>32.532237</td>\n",
       "      <td>-86.646440</td>\n",
       "      <td>41618.0</td>\n",
       "      <td>183163.25</td>\n",
       "      <td>106.6</td>\n",
       "      <td>Painful</td>\n",
       "    </tr>\n",
       "    <tr>\n",
       "      <th>1</th>\n",
       "      <td>1</td>\n",
       "      <td>AL</td>\n",
       "      <td>Alabama</td>\n",
       "      <td>1003.0</td>\n",
       "      <td>Baldwin</td>\n",
       "      <td>30.659218</td>\n",
       "      <td>-87.746067</td>\n",
       "      <td>45596.0</td>\n",
       "      <td>255185.71</td>\n",
       "      <td>106.7</td>\n",
       "      <td>Painful</td>\n",
       "    </tr>\n",
       "    <tr>\n",
       "      <th>2</th>\n",
       "      <td>1</td>\n",
       "      <td>AL</td>\n",
       "      <td>Alabama</td>\n",
       "      <td>1005.0</td>\n",
       "      <td>Barbour</td>\n",
       "      <td>31.870253</td>\n",
       "      <td>-85.405104</td>\n",
       "      <td>35199.0</td>\n",
       "      <td>195000.00</td>\n",
       "      <td>90.7</td>\n",
       "      <td>Painful</td>\n",
       "    </tr>\n",
       "    <tr>\n",
       "      <th>3</th>\n",
       "      <td>1</td>\n",
       "      <td>AL</td>\n",
       "      <td>Alabama</td>\n",
       "      <td>1009.0</td>\n",
       "      <td>Blount</td>\n",
       "      <td>33.977358</td>\n",
       "      <td>-86.566440</td>\n",
       "      <td>34976.0</td>\n",
       "      <td>154450.00</td>\n",
       "      <td>48.9</td>\n",
       "      <td>Painful</td>\n",
       "    </tr>\n",
       "    <tr>\n",
       "      <th>4</th>\n",
       "      <td>1</td>\n",
       "      <td>AL</td>\n",
       "      <td>Alabama</td>\n",
       "      <td>1013.0</td>\n",
       "      <td>Butler</td>\n",
       "      <td>31.751667</td>\n",
       "      <td>-86.681969</td>\n",
       "      <td>36450.0</td>\n",
       "      <td>129900.00</td>\n",
       "      <td>118.6</td>\n",
       "      <td>Painful</td>\n",
       "    </tr>\n",
       "  </tbody>\n",
       "</table>\n",
       "</div>"
      ],
      "text/plain": [
       "   StateNumber StateCode    State  CountyCode   County   Latitude  Longitude  \\\n",
       "0            1        AL  Alabama      1001.0  Autauga  32.532237 -86.646440   \n",
       "1            1        AL  Alabama      1003.0  Baldwin  30.659218 -87.746067   \n",
       "2            1        AL  Alabama      1005.0  Barbour  31.870253 -85.405104   \n",
       "3            1        AL  Alabama      1009.0   Blount  33.977358 -86.566440   \n",
       "4            1        AL  Alabama      1013.0   Butler  31.751667 -86.681969   \n",
       "\n",
       "   IncomePerCapita  MedianHousePrice  PrescriptionRate PainClass  \n",
       "0          41618.0         183163.25             106.6   Painful  \n",
       "1          45596.0         255185.71             106.7   Painful  \n",
       "2          35199.0         195000.00              90.7   Painful  \n",
       "3          34976.0         154450.00              48.9   Painful  \n",
       "4          36450.0         129900.00             118.6   Painful  "
      ]
     },
     "execution_count": 71,
     "metadata": {},
     "output_type": "execute_result"
    }
   ],
   "source": [
    "# Drop the unnecessary columns\n",
    "dfz.drop(['StateCode_y', 'CountyName', 'LandAreaSqMi', 'WaterAreaSqMi', 'ANSICODE'], axis=1, inplace=True )\n",
    "\n",
    "# Rename the columns to tidy up the dataframe\n",
    "dfz.rename(columns={\"StateCode_x\":\"StateCode\"},inplace=True)\n",
    "\n",
    "# Reorder columns to shift StateNumber in front of StateCode\n",
    "dfz = dfz[['StateNumber', 'StateCode', 'State', 'CountyCode', 'County', 'Latitude','Longitude','IncomePerCapita', 'MedianHousePrice', 'PrescriptionRate', 'PainClass']]\n",
    "\n",
    "# Print the counts of the merged DataFrame & display the same\n",
    "print(dfz.count())\n",
    "dfz.head()\n"
   ]
  },
  {
   "cell_type": "markdown",
   "metadata": {},
   "source": [
    "### Use Four Square API to retrieve the type of food (restaurants) available in each of the counties "
   ]
  },
  {
   "cell_type": "markdown",
   "metadata": {},
   "source": [
    "**Set the variables for Four Square API credentials** "
   ]
  },
  {
   "cell_type": "code",
   "execution_count": 72,
   "metadata": {},
   "outputs": [],
   "source": [
    "FoodCategory = '4d4b7105d754a06374d81259'\n",
    "\n",
    "FastFood = '4bf58dd8d48988d16e941735'\n",
    "Barbeque = '4bf58dd8d48988d1df931735'\n",
    "American = '4bf58dd8d48988d14e941735'\n",
    "FriedFood = '4d4ae6fc7a7b7dea34424761'\n",
    "Burger = '4bf58dd8d48988d16c941735'\n",
    "Pizza = '4bf58dd8d48988d1ca941735'\n",
    "Wings = '4bf58dd8d48988d14c941735'\n",
    "Steak = '4bf58dd8d48988d1cc941735'\n",
    "\n",
    "Salad = '4bf58dd8d48988d1bd941735'\n",
    "Vegetarian = '4bf58dd8d48988d1d3941735'\n",
    "\n",
    "PotInflammatoryFood = [FastFood, Burger, Pizza, Wings, Steak]\n",
    "NonInflammatoryFood = [Salad, Vegetarian]\n"
   ]
  },
  {
   "cell_type": "code",
   "execution_count": 73,
   "metadata": {},
   "outputs": [],
   "source": [
    "import requests\n",
    "\n",
    "CLIENT_ID = '*********' # your Foursquare ID\n",
    "CLIENT_SECRET = '*********' # your Foursquare Secret\n",
    "VERSION = '20200110' # Foursquare API version\n",
    "RADIUS = 10000 # within 5000 meters (units) - FourSquare uses metric units\n",
    "LIMIT = 10  # get Top 10 venues\n",
    "#CATEGORY = FastFood+','+Barbeque+','+American+','+FriedFood+','+Burger+','+Pizza+','+Wings+','+Steak+','+Salad+','+Vegetarian\n",
    "#CATEGORY = FoodCategory\n",
    "CATEGORY = Vegetarian\n",
    "INTENT = 'browse'"
   ]
  },
  {
   "cell_type": "code",
   "execution_count": 74,
   "metadata": {},
   "outputs": [],
   "source": [
    "def getVenues(counties, states):\n",
    "\n",
    "    # Create a counter to track the number of locations that did not have the desired category\n",
    "    iNotFound = 0\n",
    "    # Create an empty list to store all the searches that did not result in successful search\n",
    "    venues_notfound =[]\n",
    "    \n",
    "    # Create an empty venue list that will be populated when this step completes execution. \n",
    "    venue_list=[]\n",
    "\n",
    "    # Loop thru for each county & state (together) & retriieve the category groups & items (using FourSquare explore)\n",
    "    for county, state in zip(counties, states):\n",
    "        name = county+','+state\n",
    "        #print(name)\n",
    "        # create the API request URL\n",
    "        url = 'https://api.foursquare.com/v2/venues/explore?&client_id={}&client_secret={}&v={}&radius={}&limit={}&near={}&categoryId={}&intent={}'.format(\n",
    "            CLIENT_ID, \n",
    "            CLIENT_SECRET, \n",
    "            VERSION, \n",
    "            RADIUS, \n",
    "            LIMIT,\n",
    "            name,\n",
    "            CATEGORY,\n",
    "            INTENT)\n",
    "            \n",
    "        #print(url)\n",
    "        # make the GET request\n",
    "        try:\n",
    "            # make the GET request\n",
    "            results = requests.get(url).json()[\"response\"]['groups'][0]['items']\n",
    "            #print(results)\n",
    "            # return only relevant information for each nearby venue\n",
    "\n",
    "            venue_list.append([(\n",
    "                name,\n",
    "                v['venue']['id'], \n",
    "                v['venue']['name'], \n",
    "                v['venue']['location']['lat'], \n",
    "                v['venue']['location']['lng'], \n",
    "                v['venue']['categories'][0]['id'],\n",
    "                v['venue']['categories'][0]['name']) for v in results])\n",
    "\n",
    "            # Create a DataFrame & return the same \n",
    "            fsqDataFrame = pd.DataFrame([item for i in venue_list for item in i])\n",
    "            fsqDataFrame.columns = ['VenueLocation',\n",
    "                  'VenueId', \n",
    "                  'VenueName', \n",
    "                  'VenueLongitude', \n",
    "                  'VenueLatitude', \n",
    "                  'VenueCategoryId', \n",
    "                  'VenueCategoryName']\n",
    "\n",
    "        except:\n",
    "            #print(\"Encountered an emtpy list of Restaurants!!! Moving on to next county\")\n",
    "            venues_notfound.append(['Location at ', name, ' returned an empty list!'])\n",
    "            \n",
    "            \n",
    "    #return(venue_list)\n",
    "    return(fsqDataFrame)"
   ]
  },
  {
   "cell_type": "markdown",
   "metadata": {},
   "source": [
    "**CAUTION!** \n",
    "\n",
    "**This step retrieves at least 10 restaurants for every one of the US counties within 10 kilometer radius of it's geographical center** "
   ]
  },
  {
   "cell_type": "code",
   "execution_count": 362,
   "metadata": {},
   "outputs": [
    {
     "name": "stdout",
     "output_type": "stream",
     "text": [
      "The shape of the DataFrame(rows, cols) is (2400, 7)\n"
     ]
    },
    {
     "data": {
      "text/html": [
       "<div>\n",
       "<style scoped>\n",
       "    .dataframe tbody tr th:only-of-type {\n",
       "        vertical-align: middle;\n",
       "    }\n",
       "\n",
       "    .dataframe tbody tr th {\n",
       "        vertical-align: top;\n",
       "    }\n",
       "\n",
       "    .dataframe thead th {\n",
       "        text-align: right;\n",
       "    }\n",
       "</style>\n",
       "<table border=\"1\" class=\"dataframe\">\n",
       "  <thead>\n",
       "    <tr style=\"text-align: right;\">\n",
       "      <th></th>\n",
       "      <th>VenueLocation</th>\n",
       "      <th>VenueId</th>\n",
       "      <th>VenueName</th>\n",
       "      <th>VenueLongitude</th>\n",
       "      <th>VenueLatitude</th>\n",
       "      <th>VenueCategoryId</th>\n",
       "      <th>VenueCategoryName</th>\n",
       "    </tr>\n",
       "  </thead>\n",
       "  <tbody>\n",
       "    <tr>\n",
       "      <th>0</th>\n",
       "      <td>Autauga,AL</td>\n",
       "      <td>4b6fbcc9f964a52040fb2ce3</td>\n",
       "      <td>El Rey Burrito Lounge</td>\n",
       "      <td>32.352165</td>\n",
       "      <td>-86.291249</td>\n",
       "      <td>4bf58dd8d48988d1d3941735</td>\n",
       "      <td>Vegetarian / Vegan Restaurant</td>\n",
       "    </tr>\n",
       "    <tr>\n",
       "      <th>1</th>\n",
       "      <td>Autauga,AL</td>\n",
       "      <td>4ef2911f8b81368cf8830701</td>\n",
       "      <td>Tofurkey</td>\n",
       "      <td>32.480875</td>\n",
       "      <td>-86.445736</td>\n",
       "      <td>4bf58dd8d48988d1d3941735</td>\n",
       "      <td>Vegetarian / Vegan Restaurant</td>\n",
       "    </tr>\n",
       "    <tr>\n",
       "      <th>2</th>\n",
       "      <td>Autauga,AL</td>\n",
       "      <td>4ef285476da16847cd3eff41</td>\n",
       "      <td>Veggies-on-a-stick</td>\n",
       "      <td>32.480831</td>\n",
       "      <td>-86.445726</td>\n",
       "      <td>4bf58dd8d48988d1d3941735</td>\n",
       "      <td>Vegetarian / Vegan Restaurant</td>\n",
       "    </tr>\n",
       "    <tr>\n",
       "      <th>3</th>\n",
       "      <td>Autauga,AL</td>\n",
       "      <td>4ef2789477c810388d068250</td>\n",
       "      <td>Cow A Bun Go</td>\n",
       "      <td>32.480869</td>\n",
       "      <td>-86.445395</td>\n",
       "      <td>4bf58dd8d48988d1d3941735</td>\n",
       "      <td>Vegetarian / Vegan Restaurant</td>\n",
       "    </tr>\n",
       "    <tr>\n",
       "      <th>4</th>\n",
       "      <td>Autauga,AL</td>\n",
       "      <td>4ed8e0699a5286d91d7079b3</td>\n",
       "      <td>Rawlife Foods</td>\n",
       "      <td>32.363412</td>\n",
       "      <td>-86.285223</td>\n",
       "      <td>4bf58dd8d48988d1d3941735</td>\n",
       "      <td>Vegetarian / Vegan Restaurant</td>\n",
       "    </tr>\n",
       "  </tbody>\n",
       "</table>\n",
       "</div>"
      ],
      "text/plain": [
       "  VenueLocation                   VenueId              VenueName  \\\n",
       "0    Autauga,AL  4b6fbcc9f964a52040fb2ce3  El Rey Burrito Lounge   \n",
       "1    Autauga,AL  4ef2911f8b81368cf8830701               Tofurkey   \n",
       "2    Autauga,AL  4ef285476da16847cd3eff41     Veggies-on-a-stick   \n",
       "3    Autauga,AL  4ef2789477c810388d068250           Cow A Bun Go   \n",
       "4    Autauga,AL  4ed8e0699a5286d91d7079b3          Rawlife Foods   \n",
       "\n",
       "   VenueLongitude  VenueLatitude           VenueCategoryId  \\\n",
       "0       32.352165     -86.291249  4bf58dd8d48988d1d3941735   \n",
       "1       32.480875     -86.445736  4bf58dd8d48988d1d3941735   \n",
       "2       32.480831     -86.445726  4bf58dd8d48988d1d3941735   \n",
       "3       32.480869     -86.445395  4bf58dd8d48988d1d3941735   \n",
       "4       32.363412     -86.285223  4bf58dd8d48988d1d3941735   \n",
       "\n",
       "               VenueCategoryName  \n",
       "0  Vegetarian / Vegan Restaurant  \n",
       "1  Vegetarian / Vegan Restaurant  \n",
       "2  Vegetarian / Vegan Restaurant  \n",
       "3  Vegetarian / Vegan Restaurant  \n",
       "4  Vegetarian / Vegan Restaurant  "
      ]
     },
     "execution_count": 362,
     "metadata": {},
     "output_type": "execute_result"
    }
   ],
   "source": [
    "#--------- Take just 5 Records for Unit Testing -------------------------\n",
    "#dff = dfz.head(5)\n",
    "#dff.head()\n",
    "\n",
    "# Execute the predefined function(invokes Four Square API) to get Venue Categories; read the results into a DataFrame\n",
    "#restaurant_categories = getVenues(counties=dff['County'], states=dff['StateCode'])\n",
    "#-------------------------------------------------------------------------\n",
    "\n",
    "\n",
    "#------------------------------ CAUTION! ------------------------------------------\n",
    "# Uncomment the line below to execute the complete search query for 3000 counties & save the file\n",
    "#restaurant_categories = getVenues(counties=dfz['County'], states=dfz['StateCode'])\n",
    "#restaurant_categories.to_csv('VegRestaurantsUSA.csv')\n",
    "#------------------------------------------------------------------------------------\n",
    "\n",
    "\n",
    "vegRestaurants = pd.read_csv('VegRestaurantsUSA.csv')\n",
    "vegRestaurants.drop(columns=['Unnamed: 0'], axis=1, inplace=True)\n",
    "\n",
    "print (\"The shape of the DataFrame(rows, cols) is\", vegRestaurants.shape)\n",
    "vegRestaurants.head()"
   ]
  },
  {
   "cell_type": "markdown",
   "metadata": {},
   "source": [
    "**Check to ensure that the FourSquare API has reliably returned only the selected/desired categories** "
   ]
  },
  {
   "cell_type": "code",
   "execution_count": 364,
   "metadata": {
    "scrolled": true
   },
   "outputs": [
    {
     "name": "stdout",
     "output_type": "stream",
     "text": [
      "There are 60 unique categories in the dataset\n",
      "\n",
      "['Vegetarian / Vegan Restaurant' 'Grocery Store' 'Sushi Restaurant'\n",
      " 'Supermarket' 'Thai Restaurant' 'Sandwich Place' 'Café'\n",
      " 'Indian Restaurant' 'Burger Joint' 'Mexican Restaurant'\n",
      " 'Asian Restaurant' 'Vietnamese Restaurant' 'Salad Place' 'Pizza Place'\n",
      " 'Italian Restaurant' 'Bar' 'American Restaurant' 'Pub'\n",
      " 'Mediterranean Restaurant' 'Brewery' 'Diner' 'Bakery' 'Soup Place'\n",
      " 'Moroccan Restaurant' 'Fast Food Restaurant' 'Farmers Market'\n",
      " 'Organic Grocery' 'Deli / Bodega' 'New American Restaurant'\n",
      " 'Chinese Restaurant' 'Restaurant' 'Burrito Place'\n",
      " 'Middle Eastern Restaurant' 'Breakfast Spot' 'Tea Room' 'Noodle House'\n",
      " 'Music Venue' 'Taco Place' 'Yoga Studio' 'Food Court' 'Buffet'\n",
      " 'Health Food Store' 'Gourmet Shop' 'Coffee Shop' 'Dumpling Restaurant'\n",
      " 'Japanese Restaurant' 'Gastropub' 'Juice Bar' 'Cajun / Creole Restaurant'\n",
      " 'Market' 'Belgian Restaurant' 'Falafel Restaurant' 'Winery'\n",
      " 'Afghan Restaurant' 'BBQ Joint' 'Farm' 'Bistro' 'Gluten-free Restaurant'\n",
      " 'Bed & Breakfast' 'Tapas Restaurant']\n"
     ]
    }
   ],
   "source": [
    "print('There are {} unique categories in the dataset\\n'.format(len(vegRestaurants['VenueCategoryName'].unique())))\n",
    "print(vegRestaurants['VenueCategoryName'].unique())"
   ]
  },
  {
   "cell_type": "markdown",
   "metadata": {},
   "source": [
    "**Clean the data frame to compensate for the bug(s) in FourSquareAPI (drop rows that are not Vegetarian Restaurants** "
   ]
  },
  {
   "cell_type": "code",
   "execution_count": 369,
   "metadata": {},
   "outputs": [
    {
     "name": "stdout",
     "output_type": "stream",
     "text": [
      "Total number of venues returned by the API Call: \n",
      "------------------------------------------------\n",
      "\n",
      "VenueLocation        2400\n",
      "VenueId              2400\n",
      "VenueName            2400\n",
      "VenueLongitude       2400\n",
      "VenueLatitude        2400\n",
      "VenueCategoryId      2400\n",
      "VenueCategoryName    2400\n",
      "dtype: int64\n",
      "\n",
      " Dropped restaurant categories that are not Vegetarian (API Bugs?)\n",
      "\n",
      "\n",
      "Correct number of venues returned by the API Call: \n",
      "--------------------------------------------------\n",
      "\n",
      "VenueLocation        2108\n",
      "VenueId              2108\n",
      "VenueName            2108\n",
      "VenueLongitude       2108\n",
      "VenueLatitude        2108\n",
      "VenueCategoryId      2108\n",
      "VenueCategoryName    2108\n",
      "dtype: int64\n"
     ]
    }
   ],
   "source": [
    "print(\"Total number of venues returned by the API Call: \\n------------------------------------------------\\n\")\n",
    "print(vegRestaurants.count())\n",
    "vegRestaurantsReal = vegRestaurants[vegRestaurants.VenueCategoryId == Vegetarian]\n",
    "print(\"\\n Dropped restaurant categories that are not Vegetarian (API Bugs?)\\n\\n\")\n",
    "\n",
    "\n",
    "# Print Total number of venues returned\n",
    "print(\"Correct number of venues returned by the API Call: \\n--------------------------------------------------\\n\")\n",
    "print(vegRestaurantsReal.count())\n"
   ]
  },
  {
   "cell_type": "markdown",
   "metadata": {},
   "source": [
    "**Group the Restaurants by County (at most each county will have 10 restaurants & 0 at the least)**"
   ]
  },
  {
   "cell_type": "code",
   "execution_count": 377,
   "metadata": {
    "scrolled": true
   },
   "outputs": [
    {
     "name": "stdout",
     "output_type": "stream",
     "text": [
      "Consolidated venue location, the shape (rows, columns) of Venue Counts DataFrame is:  (512, 2)\n"
     ]
    },
    {
     "data": {
      "text/html": [
       "<div>\n",
       "<style scoped>\n",
       "    .dataframe tbody tr th:only-of-type {\n",
       "        vertical-align: middle;\n",
       "    }\n",
       "\n",
       "    .dataframe tbody tr th {\n",
       "        vertical-align: top;\n",
       "    }\n",
       "\n",
       "    .dataframe thead th {\n",
       "        text-align: right;\n",
       "    }\n",
       "</style>\n",
       "<table border=\"1\" class=\"dataframe\">\n",
       "  <thead>\n",
       "    <tr style=\"text-align: right;\">\n",
       "      <th></th>\n",
       "      <th>VenueLocation</th>\n",
       "      <th>VenueCount</th>\n",
       "    </tr>\n",
       "  </thead>\n",
       "  <tbody>\n",
       "    <tr>\n",
       "      <th>0</th>\n",
       "      <td>Ada,ID</td>\n",
       "      <td>3</td>\n",
       "    </tr>\n",
       "    <tr>\n",
       "      <th>1</th>\n",
       "      <td>Adair,MO</td>\n",
       "      <td>1</td>\n",
       "    </tr>\n",
       "    <tr>\n",
       "      <th>2</th>\n",
       "      <td>Adams,IL</td>\n",
       "      <td>1</td>\n",
       "    </tr>\n",
       "    <tr>\n",
       "      <th>3</th>\n",
       "      <td>Adams,MS</td>\n",
       "      <td>5</td>\n",
       "    </tr>\n",
       "    <tr>\n",
       "      <th>4</th>\n",
       "      <td>Alachua,FL</td>\n",
       "      <td>9</td>\n",
       "    </tr>\n",
       "  </tbody>\n",
       "</table>\n",
       "</div>"
      ],
      "text/plain": [
       "  VenueLocation  VenueCount\n",
       "0        Ada,ID           3\n",
       "1      Adair,MO           1\n",
       "2      Adams,IL           1\n",
       "3      Adams,MS           5\n",
       "4    Alachua,FL           9"
      ]
     },
     "execution_count": 377,
     "metadata": {},
     "output_type": "execute_result"
    }
   ],
   "source": [
    "# Consolidate Venue Counts, grouped by Venue Location\n",
    "venue_counts = vegRestaurantsReal.groupby('VenueLocation').count().reset_index()\n",
    "\n",
    "# Drop the counts for columns\n",
    "venue_counts.drop(columns=['VenueId', 'VenueName', 'VenueLongitude', 'VenueLatitude', 'VenueCategoryName'], \n",
    "                  axis=1, inplace=True)\n",
    "\n",
    "# Rename the VenueCategoryId as simply VenueCount\n",
    "venue_counts.rename(columns={'VenueCategoryId':'VenueCount'}, inplace=True)\n",
    "\n",
    "print(\"Consolidated venue location, the shape (rows, columns) of Venue Counts DataFrame is: \", venue_counts.shape)\n",
    "venue_counts.head()"
   ]
  },
  {
   "cell_type": "markdown",
   "metadata": {},
   "source": [
    "One of the most **challenging aspects of Data Science is the ability to gather & wrangle the data**. At this point in the exercise it became clear that the API has not returned for all 3000 venues due to reasons not yet known.  But we have data on Veg Restaurants ranging from 1 to 10 for the counties returned & we'll proceed with the exercise.  "
   ]
  },
  {
   "cell_type": "markdown",
   "metadata": {},
   "source": [
    "**Refactor the column Venue Location to later (left)join this subset to the superset (DataFrame)**"
   ]
  },
  {
   "cell_type": "code",
   "execution_count": 399,
   "metadata": {
    "scrolled": true
   },
   "outputs": [
    {
     "name": "stdout",
     "output_type": "stream",
     "text": [
      "(512, 2)\n"
     ]
    },
    {
     "data": {
      "text/html": [
       "<div>\n",
       "<style scoped>\n",
       "    .dataframe tbody tr th:only-of-type {\n",
       "        vertical-align: middle;\n",
       "    }\n",
       "\n",
       "    .dataframe tbody tr th {\n",
       "        vertical-align: top;\n",
       "    }\n",
       "\n",
       "    .dataframe thead th {\n",
       "        text-align: right;\n",
       "    }\n",
       "</style>\n",
       "<table border=\"1\" class=\"dataframe\">\n",
       "  <thead>\n",
       "    <tr style=\"text-align: right;\">\n",
       "      <th></th>\n",
       "      <th>CountyName</th>\n",
       "      <th>StateCode</th>\n",
       "    </tr>\n",
       "  </thead>\n",
       "  <tbody>\n",
       "    <tr>\n",
       "      <th>0</th>\n",
       "      <td>Ada</td>\n",
       "      <td>ID</td>\n",
       "    </tr>\n",
       "    <tr>\n",
       "      <th>1</th>\n",
       "      <td>Adair</td>\n",
       "      <td>MO</td>\n",
       "    </tr>\n",
       "    <tr>\n",
       "      <th>2</th>\n",
       "      <td>Adams</td>\n",
       "      <td>IL</td>\n",
       "    </tr>\n",
       "    <tr>\n",
       "      <th>3</th>\n",
       "      <td>Adams</td>\n",
       "      <td>MS</td>\n",
       "    </tr>\n",
       "    <tr>\n",
       "      <th>4</th>\n",
       "      <td>Alachua</td>\n",
       "      <td>FL</td>\n",
       "    </tr>\n",
       "  </tbody>\n",
       "</table>\n",
       "</div>"
      ],
      "text/plain": [
       "  CountyName StateCode\n",
       "0        Ada        ID\n",
       "1      Adair        MO\n",
       "2      Adams        IL\n",
       "3      Adams        MS\n",
       "4    Alachua        FL"
      ]
     },
     "execution_count": 399,
     "metadata": {},
     "output_type": "execute_result"
    }
   ],
   "source": [
    "venues_refactored = venue_counts['VenueLocation'].str.split(\",\", n = 1, expand=True) \n",
    "print(venues_refactored.shape)\n",
    "venues_refactored.rename(columns={0:'CountyName', 1:'StateCode'}, inplace=True)\n",
    "venues_refactored.head()"
   ]
  },
  {
   "cell_type": "code",
   "execution_count": 400,
   "metadata": {},
   "outputs": [
    {
     "data": {
      "text/html": [
       "<div>\n",
       "<style scoped>\n",
       "    .dataframe tbody tr th:only-of-type {\n",
       "        vertical-align: middle;\n",
       "    }\n",
       "\n",
       "    .dataframe tbody tr th {\n",
       "        vertical-align: top;\n",
       "    }\n",
       "\n",
       "    .dataframe thead th {\n",
       "        text-align: right;\n",
       "    }\n",
       "</style>\n",
       "<table border=\"1\" class=\"dataframe\">\n",
       "  <thead>\n",
       "    <tr style=\"text-align: right;\">\n",
       "      <th></th>\n",
       "      <th>VenueLocation</th>\n",
       "      <th>VenueCount</th>\n",
       "      <th>CountyName</th>\n",
       "      <th>StateCode</th>\n",
       "    </tr>\n",
       "  </thead>\n",
       "  <tbody>\n",
       "    <tr>\n",
       "      <th>0</th>\n",
       "      <td>Ada,ID</td>\n",
       "      <td>3</td>\n",
       "      <td>Ada</td>\n",
       "      <td>ID</td>\n",
       "    </tr>\n",
       "    <tr>\n",
       "      <th>1</th>\n",
       "      <td>Adair,MO</td>\n",
       "      <td>1</td>\n",
       "      <td>Adair</td>\n",
       "      <td>MO</td>\n",
       "    </tr>\n",
       "    <tr>\n",
       "      <th>2</th>\n",
       "      <td>Adams,IL</td>\n",
       "      <td>1</td>\n",
       "      <td>Adams</td>\n",
       "      <td>IL</td>\n",
       "    </tr>\n",
       "    <tr>\n",
       "      <th>3</th>\n",
       "      <td>Adams,MS</td>\n",
       "      <td>5</td>\n",
       "      <td>Adams</td>\n",
       "      <td>MS</td>\n",
       "    </tr>\n",
       "    <tr>\n",
       "      <th>4</th>\n",
       "      <td>Alachua,FL</td>\n",
       "      <td>9</td>\n",
       "      <td>Alachua</td>\n",
       "      <td>FL</td>\n",
       "    </tr>\n",
       "    <tr>\n",
       "      <th>5</th>\n",
       "      <td>Alameda,CA</td>\n",
       "      <td>7</td>\n",
       "      <td>Alameda</td>\n",
       "      <td>CA</td>\n",
       "    </tr>\n",
       "    <tr>\n",
       "      <th>6</th>\n",
       "      <td>Allegany,MD</td>\n",
       "      <td>1</td>\n",
       "      <td>Allegany</td>\n",
       "      <td>MD</td>\n",
       "    </tr>\n",
       "    <tr>\n",
       "      <th>7</th>\n",
       "      <td>Allen,IN</td>\n",
       "      <td>2</td>\n",
       "      <td>Allen</td>\n",
       "      <td>IN</td>\n",
       "    </tr>\n",
       "    <tr>\n",
       "      <th>8</th>\n",
       "      <td>Allen,KY</td>\n",
       "      <td>2</td>\n",
       "      <td>Allen</td>\n",
       "      <td>KY</td>\n",
       "    </tr>\n",
       "    <tr>\n",
       "      <th>9</th>\n",
       "      <td>Alpena,MI</td>\n",
       "      <td>1</td>\n",
       "      <td>Alpena</td>\n",
       "      <td>MI</td>\n",
       "    </tr>\n",
       "    <tr>\n",
       "      <th>10</th>\n",
       "      <td>Anderson,KY</td>\n",
       "      <td>6</td>\n",
       "      <td>Anderson</td>\n",
       "      <td>KY</td>\n",
       "    </tr>\n",
       "    <tr>\n",
       "      <th>11</th>\n",
       "      <td>Androscoggin,ME</td>\n",
       "      <td>2</td>\n",
       "      <td>Androscoggin</td>\n",
       "      <td>ME</td>\n",
       "    </tr>\n",
       "    <tr>\n",
       "      <th>12</th>\n",
       "      <td>Anne Arundel,MD</td>\n",
       "      <td>10</td>\n",
       "      <td>Anne Arundel</td>\n",
       "      <td>MD</td>\n",
       "    </tr>\n",
       "    <tr>\n",
       "      <th>13</th>\n",
       "      <td>Anoka,MN</td>\n",
       "      <td>10</td>\n",
       "      <td>Anoka</td>\n",
       "      <td>MN</td>\n",
       "    </tr>\n",
       "    <tr>\n",
       "      <th>14</th>\n",
       "      <td>Antrim,MI</td>\n",
       "      <td>3</td>\n",
       "      <td>Antrim</td>\n",
       "      <td>MI</td>\n",
       "    </tr>\n",
       "    <tr>\n",
       "      <th>15</th>\n",
       "      <td>Appanoose,IA</td>\n",
       "      <td>1</td>\n",
       "      <td>Appanoose</td>\n",
       "      <td>IA</td>\n",
       "    </tr>\n",
       "    <tr>\n",
       "      <th>16</th>\n",
       "      <td>Ascension,LA</td>\n",
       "      <td>1</td>\n",
       "      <td>Ascension</td>\n",
       "      <td>LA</td>\n",
       "    </tr>\n",
       "    <tr>\n",
       "      <th>17</th>\n",
       "      <td>Atchison,KS</td>\n",
       "      <td>1</td>\n",
       "      <td>Atchison</td>\n",
       "      <td>KS</td>\n",
       "    </tr>\n",
       "    <tr>\n",
       "      <th>18</th>\n",
       "      <td>Autauga,AL</td>\n",
       "      <td>5</td>\n",
       "      <td>Autauga</td>\n",
       "      <td>AL</td>\n",
       "    </tr>\n",
       "    <tr>\n",
       "      <th>19</th>\n",
       "      <td>Baker,FL</td>\n",
       "      <td>1</td>\n",
       "      <td>Baker</td>\n",
       "      <td>FL</td>\n",
       "    </tr>\n",
       "  </tbody>\n",
       "</table>\n",
       "</div>"
      ],
      "text/plain": [
       "      VenueLocation  VenueCount    CountyName StateCode\n",
       "0            Ada,ID           3           Ada        ID\n",
       "1          Adair,MO           1         Adair        MO\n",
       "2          Adams,IL           1         Adams        IL\n",
       "3          Adams,MS           5         Adams        MS\n",
       "4        Alachua,FL           9       Alachua        FL\n",
       "5        Alameda,CA           7       Alameda        CA\n",
       "6       Allegany,MD           1      Allegany        MD\n",
       "7          Allen,IN           2         Allen        IN\n",
       "8          Allen,KY           2         Allen        KY\n",
       "9         Alpena,MI           1        Alpena        MI\n",
       "10      Anderson,KY           6      Anderson        KY\n",
       "11  Androscoggin,ME           2  Androscoggin        ME\n",
       "12  Anne Arundel,MD          10  Anne Arundel        MD\n",
       "13         Anoka,MN          10         Anoka        MN\n",
       "14        Antrim,MI           3        Antrim        MI\n",
       "15     Appanoose,IA           1     Appanoose        IA\n",
       "16     Ascension,LA           1     Ascension        LA\n",
       "17      Atchison,KS           1      Atchison        KS\n",
       "18       Autauga,AL           5       Autauga        AL\n",
       "19         Baker,FL           1         Baker        FL"
      ]
     },
     "execution_count": 400,
     "metadata": {},
     "output_type": "execute_result"
    }
   ],
   "source": [
    "# Create an new empty DataFrame called dfx (track the variables) \n",
    "dfx = pd.DataFrame\n",
    "\n",
    "# Join the dataframes on default index\n",
    "dfy = dfx.join(venue_counts, venues_refactored)\n",
    "\n",
    "#print(\"Shape (rows, cols) of the venue counts DataFrame is :\", venue_counts.shape)\n",
    "dfy.head(20)\n"
   ]
  },
  {
   "cell_type": "code",
   "execution_count": 387,
   "metadata": {},
   "outputs": [
    {
     "data": {
      "text/html": [
       "<div>\n",
       "<style scoped>\n",
       "    .dataframe tbody tr th:only-of-type {\n",
       "        vertical-align: middle;\n",
       "    }\n",
       "\n",
       "    .dataframe tbody tr th {\n",
       "        vertical-align: top;\n",
       "    }\n",
       "\n",
       "    .dataframe thead th {\n",
       "        text-align: right;\n",
       "    }\n",
       "</style>\n",
       "<table border=\"1\" class=\"dataframe\">\n",
       "  <thead>\n",
       "    <tr style=\"text-align: right;\">\n",
       "      <th></th>\n",
       "      <th>StateNumber</th>\n",
       "      <th>StateCode</th>\n",
       "      <th>State</th>\n",
       "      <th>CountyCode</th>\n",
       "      <th>County</th>\n",
       "      <th>Latitude</th>\n",
       "      <th>Longitude</th>\n",
       "      <th>IncomePerCapita</th>\n",
       "      <th>MedianHousePrice</th>\n",
       "      <th>PrescriptionRate</th>\n",
       "      <th>PainClass</th>\n",
       "    </tr>\n",
       "  </thead>\n",
       "  <tbody>\n",
       "    <tr>\n",
       "      <th>0</th>\n",
       "      <td>1</td>\n",
       "      <td>AL</td>\n",
       "      <td>Alabama</td>\n",
       "      <td>1001.0</td>\n",
       "      <td>Autauga</td>\n",
       "      <td>32.532237</td>\n",
       "      <td>-86.646440</td>\n",
       "      <td>41618.0</td>\n",
       "      <td>183163.25</td>\n",
       "      <td>106.6</td>\n",
       "      <td>Painful</td>\n",
       "    </tr>\n",
       "    <tr>\n",
       "      <th>1</th>\n",
       "      <td>1</td>\n",
       "      <td>AL</td>\n",
       "      <td>Alabama</td>\n",
       "      <td>1003.0</td>\n",
       "      <td>Baldwin</td>\n",
       "      <td>30.659218</td>\n",
       "      <td>-87.746067</td>\n",
       "      <td>45596.0</td>\n",
       "      <td>255185.71</td>\n",
       "      <td>106.7</td>\n",
       "      <td>Painful</td>\n",
       "    </tr>\n",
       "    <tr>\n",
       "      <th>2</th>\n",
       "      <td>1</td>\n",
       "      <td>AL</td>\n",
       "      <td>Alabama</td>\n",
       "      <td>1005.0</td>\n",
       "      <td>Barbour</td>\n",
       "      <td>31.870253</td>\n",
       "      <td>-85.405104</td>\n",
       "      <td>35199.0</td>\n",
       "      <td>195000.00</td>\n",
       "      <td>90.7</td>\n",
       "      <td>Painful</td>\n",
       "    </tr>\n",
       "    <tr>\n",
       "      <th>3</th>\n",
       "      <td>1</td>\n",
       "      <td>AL</td>\n",
       "      <td>Alabama</td>\n",
       "      <td>1009.0</td>\n",
       "      <td>Blount</td>\n",
       "      <td>33.977358</td>\n",
       "      <td>-86.566440</td>\n",
       "      <td>34976.0</td>\n",
       "      <td>154450.00</td>\n",
       "      <td>48.9</td>\n",
       "      <td>Painful</td>\n",
       "    </tr>\n",
       "    <tr>\n",
       "      <th>4</th>\n",
       "      <td>1</td>\n",
       "      <td>AL</td>\n",
       "      <td>Alabama</td>\n",
       "      <td>1013.0</td>\n",
       "      <td>Butler</td>\n",
       "      <td>31.751667</td>\n",
       "      <td>-86.681969</td>\n",
       "      <td>36450.0</td>\n",
       "      <td>129900.00</td>\n",
       "      <td>118.6</td>\n",
       "      <td>Painful</td>\n",
       "    </tr>\n",
       "  </tbody>\n",
       "</table>\n",
       "</div>"
      ],
      "text/plain": [
       "   StateNumber StateCode    State  CountyCode   County   Latitude  Longitude  \\\n",
       "0            1        AL  Alabama      1001.0  Autauga  32.532237 -86.646440   \n",
       "1            1        AL  Alabama      1003.0  Baldwin  30.659218 -87.746067   \n",
       "2            1        AL  Alabama      1005.0  Barbour  31.870253 -85.405104   \n",
       "3            1        AL  Alabama      1009.0   Blount  33.977358 -86.566440   \n",
       "4            1        AL  Alabama      1013.0   Butler  31.751667 -86.681969   \n",
       "\n",
       "   IncomePerCapita  MedianHousePrice  PrescriptionRate PainClass  \n",
       "0          41618.0         183163.25             106.6   Painful  \n",
       "1          45596.0         255185.71             106.7   Painful  \n",
       "2          35199.0         195000.00              90.7   Painful  \n",
       "3          34976.0         154450.00              48.9   Painful  \n",
       "4          36450.0         129900.00             118.6   Painful  "
      ]
     },
     "execution_count": 387,
     "metadata": {},
     "output_type": "execute_result"
    }
   ],
   "source": [
    "dfz.head()"
   ]
  },
  {
   "cell_type": "code",
   "execution_count": 412,
   "metadata": {
    "scrolled": true
   },
   "outputs": [
    {
     "data": {
      "text/html": [
       "<div>\n",
       "<style scoped>\n",
       "    .dataframe tbody tr th:only-of-type {\n",
       "        vertical-align: middle;\n",
       "    }\n",
       "\n",
       "    .dataframe tbody tr th {\n",
       "        vertical-align: top;\n",
       "    }\n",
       "\n",
       "    .dataframe thead th {\n",
       "        text-align: right;\n",
       "    }\n",
       "</style>\n",
       "<table border=\"1\" class=\"dataframe\">\n",
       "  <thead>\n",
       "    <tr style=\"text-align: right;\">\n",
       "      <th></th>\n",
       "      <th>State</th>\n",
       "      <th>County</th>\n",
       "      <th>IncomePerCapita</th>\n",
       "      <th>MedianHousePrice</th>\n",
       "      <th>VegRestaurants</th>\n",
       "      <th>PrescriptionRate</th>\n",
       "      <th>PainClass</th>\n",
       "    </tr>\n",
       "  </thead>\n",
       "  <tbody>\n",
       "    <tr>\n",
       "      <th>0</th>\n",
       "      <td>Alabama</td>\n",
       "      <td>Autauga</td>\n",
       "      <td>41618.0</td>\n",
       "      <td>183163.25</td>\n",
       "      <td>5</td>\n",
       "      <td>106.6</td>\n",
       "      <td>Painful</td>\n",
       "    </tr>\n",
       "    <tr>\n",
       "      <th>1</th>\n",
       "      <td>Alabama</td>\n",
       "      <td>Baldwin</td>\n",
       "      <td>45596.0</td>\n",
       "      <td>255185.71</td>\n",
       "      <td>5</td>\n",
       "      <td>106.7</td>\n",
       "      <td>Painful</td>\n",
       "    </tr>\n",
       "    <tr>\n",
       "      <th>2</th>\n",
       "      <td>Alabama</td>\n",
       "      <td>Clay</td>\n",
       "      <td>33530.0</td>\n",
       "      <td>229000.00</td>\n",
       "      <td>6</td>\n",
       "      <td>112.2</td>\n",
       "      <td>Painful</td>\n",
       "    </tr>\n",
       "    <tr>\n",
       "      <th>3</th>\n",
       "      <td>Alabama</td>\n",
       "      <td>Colbert</td>\n",
       "      <td>38378.0</td>\n",
       "      <td>142616.67</td>\n",
       "      <td>1</td>\n",
       "      <td>186.0</td>\n",
       "      <td>Painful</td>\n",
       "    </tr>\n",
       "    <tr>\n",
       "      <th>4</th>\n",
       "      <td>Alabama</td>\n",
       "      <td>Elmore</td>\n",
       "      <td>42269.0</td>\n",
       "      <td>179305.40</td>\n",
       "      <td>6</td>\n",
       "      <td>109.4</td>\n",
       "      <td>Painful</td>\n",
       "    </tr>\n",
       "    <tr>\n",
       "      <th>5</th>\n",
       "      <td>Alabama</td>\n",
       "      <td>Etowah</td>\n",
       "      <td>36918.0</td>\n",
       "      <td>149900.00</td>\n",
       "      <td>1</td>\n",
       "      <td>130.5</td>\n",
       "      <td>Painful</td>\n",
       "    </tr>\n",
       "    <tr>\n",
       "      <th>6</th>\n",
       "      <td>Alabama</td>\n",
       "      <td>Jefferson</td>\n",
       "      <td>54730.0</td>\n",
       "      <td>203667.77</td>\n",
       "      <td>6</td>\n",
       "      <td>104.2</td>\n",
       "      <td>Painful</td>\n",
       "    </tr>\n",
       "    <tr>\n",
       "      <th>7</th>\n",
       "      <td>Alabama</td>\n",
       "      <td>Lauderdale</td>\n",
       "      <td>37151.0</td>\n",
       "      <td>201560.00</td>\n",
       "      <td>1</td>\n",
       "      <td>104.7</td>\n",
       "      <td>Painful</td>\n",
       "    </tr>\n",
       "    <tr>\n",
       "      <th>8</th>\n",
       "      <td>Alabama</td>\n",
       "      <td>Lawrence</td>\n",
       "      <td>34125.0</td>\n",
       "      <td>129900.00</td>\n",
       "      <td>1</td>\n",
       "      <td>98.8</td>\n",
       "      <td>Painful</td>\n",
       "    </tr>\n",
       "    <tr>\n",
       "      <th>9</th>\n",
       "      <td>Alabama</td>\n",
       "      <td>Lee</td>\n",
       "      <td>38036.0</td>\n",
       "      <td>239078.57</td>\n",
       "      <td>5</td>\n",
       "      <td>58.5</td>\n",
       "      <td>Painful</td>\n",
       "    </tr>\n",
       "    <tr>\n",
       "      <th>10</th>\n",
       "      <td>Alabama</td>\n",
       "      <td>Limestone</td>\n",
       "      <td>42546.0</td>\n",
       "      <td>184633.33</td>\n",
       "      <td>6</td>\n",
       "      <td>68.3</td>\n",
       "      <td>Painful</td>\n",
       "    </tr>\n",
       "    <tr>\n",
       "      <th>11</th>\n",
       "      <td>Alabama</td>\n",
       "      <td>Madison</td>\n",
       "      <td>51445.0</td>\n",
       "      <td>219543.17</td>\n",
       "      <td>5</td>\n",
       "      <td>100.5</td>\n",
       "      <td>Painful</td>\n",
       "    </tr>\n",
       "    <tr>\n",
       "      <th>12</th>\n",
       "      <td>Alabama</td>\n",
       "      <td>Marshall</td>\n",
       "      <td>36044.0</td>\n",
       "      <td>159430.00</td>\n",
       "      <td>2</td>\n",
       "      <td>163.9</td>\n",
       "      <td>Painful</td>\n",
       "    </tr>\n",
       "    <tr>\n",
       "      <th>13</th>\n",
       "      <td>Alabama</td>\n",
       "      <td>Mobile</td>\n",
       "      <td>38243.0</td>\n",
       "      <td>142357.22</td>\n",
       "      <td>4</td>\n",
       "      <td>118.4</td>\n",
       "      <td>Painful</td>\n",
       "    </tr>\n",
       "    <tr>\n",
       "      <th>14</th>\n",
       "      <td>Alabama</td>\n",
       "      <td>Montgomery</td>\n",
       "      <td>43688.0</td>\n",
       "      <td>125411.11</td>\n",
       "      <td>6</td>\n",
       "      <td>81.2</td>\n",
       "      <td>Painful</td>\n",
       "    </tr>\n",
       "    <tr>\n",
       "      <th>15</th>\n",
       "      <td>Alabama</td>\n",
       "      <td>Morgan</td>\n",
       "      <td>39991.0</td>\n",
       "      <td>178716.67</td>\n",
       "      <td>2</td>\n",
       "      <td>117.7</td>\n",
       "      <td>Painful</td>\n",
       "    </tr>\n",
       "    <tr>\n",
       "      <th>16</th>\n",
       "      <td>Alabama</td>\n",
       "      <td>Russell</td>\n",
       "      <td>33104.0</td>\n",
       "      <td>128250.00</td>\n",
       "      <td>4</td>\n",
       "      <td>103.4</td>\n",
       "      <td>Painful</td>\n",
       "    </tr>\n",
       "    <tr>\n",
       "      <th>17</th>\n",
       "      <td>Alabama</td>\n",
       "      <td>Tuscaloosa</td>\n",
       "      <td>38822.0</td>\n",
       "      <td>221223.93</td>\n",
       "      <td>4</td>\n",
       "      <td>99.9</td>\n",
       "      <td>Painful</td>\n",
       "    </tr>\n",
       "    <tr>\n",
       "      <th>18</th>\n",
       "      <td>Alabama</td>\n",
       "      <td>Walker</td>\n",
       "      <td>40197.0</td>\n",
       "      <td>167400.00</td>\n",
       "      <td>1</td>\n",
       "      <td>216.1</td>\n",
       "      <td>Painful</td>\n",
       "    </tr>\n",
       "    <tr>\n",
       "      <th>19</th>\n",
       "      <td>Alabama</td>\n",
       "      <td>Winston</td>\n",
       "      <td>35430.0</td>\n",
       "      <td>277175.00</td>\n",
       "      <td>1</td>\n",
       "      <td>155.1</td>\n",
       "      <td>Painful</td>\n",
       "    </tr>\n",
       "  </tbody>\n",
       "</table>\n",
       "</div>"
      ],
      "text/plain": [
       "      State      County  IncomePerCapita  MedianHousePrice  VegRestaurants  \\\n",
       "0   Alabama     Autauga          41618.0         183163.25               5   \n",
       "1   Alabama     Baldwin          45596.0         255185.71               5   \n",
       "2   Alabama        Clay          33530.0         229000.00               6   \n",
       "3   Alabama     Colbert          38378.0         142616.67               1   \n",
       "4   Alabama      Elmore          42269.0         179305.40               6   \n",
       "5   Alabama      Etowah          36918.0         149900.00               1   \n",
       "6   Alabama   Jefferson          54730.0         203667.77               6   \n",
       "7   Alabama  Lauderdale          37151.0         201560.00               1   \n",
       "8   Alabama    Lawrence          34125.0         129900.00               1   \n",
       "9   Alabama         Lee          38036.0         239078.57               5   \n",
       "10  Alabama   Limestone          42546.0         184633.33               6   \n",
       "11  Alabama     Madison          51445.0         219543.17               5   \n",
       "12  Alabama    Marshall          36044.0         159430.00               2   \n",
       "13  Alabama      Mobile          38243.0         142357.22               4   \n",
       "14  Alabama  Montgomery          43688.0         125411.11               6   \n",
       "15  Alabama      Morgan          39991.0         178716.67               2   \n",
       "16  Alabama     Russell          33104.0         128250.00               4   \n",
       "17  Alabama  Tuscaloosa          38822.0         221223.93               4   \n",
       "18  Alabama      Walker          40197.0         167400.00               1   \n",
       "19  Alabama     Winston          35430.0         277175.00               1   \n",
       "\n",
       "    PrescriptionRate PainClass  \n",
       "0              106.6   Painful  \n",
       "1              106.7   Painful  \n",
       "2              112.2   Painful  \n",
       "3              186.0   Painful  \n",
       "4              109.4   Painful  \n",
       "5              130.5   Painful  \n",
       "6              104.2   Painful  \n",
       "7              104.7   Painful  \n",
       "8               98.8   Painful  \n",
       "9               58.5   Painful  \n",
       "10              68.3   Painful  \n",
       "11             100.5   Painful  \n",
       "12             163.9   Painful  \n",
       "13             118.4   Painful  \n",
       "14              81.2   Painful  \n",
       "15             117.7   Painful  \n",
       "16             103.4   Painful  \n",
       "17              99.9   Painful  \n",
       "18             216.1   Painful  \n",
       "19             155.1   Painful  "
      ]
     },
     "execution_count": 412,
     "metadata": {},
     "output_type": "execute_result"
    }
   ],
   "source": [
    "df = pd.merge(dfz, dfy, left_on=['StateCode', 'County'], right_on=['StateCode', 'CountyName'], how='right')\n",
    "df.drop(columns=['VenueLocation', 'CountyName'], inplace=True)\n",
    "df.rename(columns={'VenueCount':'VegRestaurants'}, inplace=True)\n",
    "df['VegRestaurants'].fillna(0, inplace=True)\n",
    "df[['State', 'County', 'IncomePerCapita', 'MedianHousePrice', 'VegRestaurants', 'PrescriptionRate', 'PainClass']].to_csv('USPainKillerPrescriptionRateDataSet.csv')\n",
    "df[['State', 'County', 'IncomePerCapita', 'MedianHousePrice', 'VegRestaurants', 'PrescriptionRate', 'PainClass']].head(20)\n"
   ]
  },
  {
   "cell_type": "markdown",
   "metadata": {},
   "source": [
    "Visualize the **histogram** of features to get a rough idea (notice that Prescription rate resembles income)"
   ]
  },
  {
   "cell_type": "code",
   "execution_count": 520,
   "metadata": {},
   "outputs": [
    {
     "data": {
      "text/plain": [
       "array([[<matplotlib.axes._subplots.AxesSubplot object at 0x000001F63FF433C8>,\n",
       "        <matplotlib.axes._subplots.AxesSubplot object at 0x000001F63E3CBCF8>],\n",
       "       [<matplotlib.axes._subplots.AxesSubplot object at 0x000001F63E4AE6D8>,\n",
       "        <matplotlib.axes._subplots.AxesSubplot object at 0x000001F63E598278>]],\n",
       "      dtype=object)"
      ]
     },
     "execution_count": 520,
     "metadata": {},
     "output_type": "execute_result"
    },
    {
     "data": {
      "image/png": "[encoded data removed]",
      "text/plain": [
       "<Figure size 432x288 with 4 Axes>"
      ]
     },
     "metadata": {},
     "output_type": "display_data"
    }
   ],
   "source": [
    "df[['IncomePerCapita', 'MedianHousePrice', 'VegRestaurants', 'PrescriptionRate']].hist()"
   ]
  },
  {
   "cell_type": "code",
   "execution_count": 457,
   "metadata": {
    "scrolled": true
   },
   "outputs": [
    {
     "data": {
      "image/png": "[encoded data removed]",
      "text/plain": [
       "<Figure size 432x288 with 1 Axes>"
      ]
     },
     "metadata": {},
     "output_type": "display_data"
    }
   ],
   "source": [
    "plt.scatter(df.IncomePerCapita, df.PrescriptionRate, color='green')\n",
    "plt.xlabel('Per-capita income in US $)')\n",
    "plt.ylabel('Prescription Rate(per 100 people')\n",
    "plt.title(\"Visualize Prescription Rate as a function of Income\")\n",
    "plt.show()"
   ]
  },
  {
   "cell_type": "code",
   "execution_count": 458,
   "metadata": {},
   "outputs": [
    {
     "data": {
      "image/png": "[encoded data removed]",
      "text/plain": [
       "<Figure size 432x288 with 1 Axes>"
      ]
     },
     "metadata": {},
     "output_type": "display_data"
    }
   ],
   "source": [
    "plt.scatter(df.MedianHousePrice, df.PrescriptionRate, color='blue')\n",
    "plt.xlabel('Median Home Values in US $')\n",
    "plt.ylabel('Prescription Rate(per 100 people)')\n",
    "plt.title(\"Visualize Prescription Rate as a function of Property Values\")\n",
    "plt.show()"
   ]
  },
  {
   "cell_type": "code",
   "execution_count": 509,
   "metadata": {
    "scrolled": false
   },
   "outputs": [
    {
     "data": {
      "image/png": "[encoded data removed]",
      "text/plain": [
       "<Figure size 432x288 with 1 Axes>"
      ]
     },
     "metadata": {},
     "output_type": "display_data"
    }
   ],
   "source": [
    "plt.scatter(df.VegRestaurants,df.PrescriptionRate, color='green')\n",
    "plt.xlabel('Number of Vegetarian Restaurants')\n",
    "plt.ylabel('Prescription Rate(per 100 people)')\n",
    "plt.title(\"Visualize Prescription Rate as a function of Low Inflammation Food\")\n",
    "plt.show()"
   ]
  },
  {
   "cell_type": "markdown",
   "metadata": {},
   "source": [
    "**Select the features to build a classifier model**"
   ]
  },
  {
   "cell_type": "code",
   "execution_count": 499,
   "metadata": {},
   "outputs": [
    {
     "data": {
      "text/html": [
       "<div>\n",
       "<style scoped>\n",
       "    .dataframe tbody tr th:only-of-type {\n",
       "        vertical-align: middle;\n",
       "    }\n",
       "\n",
       "    .dataframe tbody tr th {\n",
       "        vertical-align: top;\n",
       "    }\n",
       "\n",
       "    .dataframe thead th {\n",
       "        text-align: right;\n",
       "    }\n",
       "</style>\n",
       "<table border=\"1\" class=\"dataframe\">\n",
       "  <thead>\n",
       "    <tr style=\"text-align: right;\">\n",
       "      <th></th>\n",
       "      <th>IncomePerCapita</th>\n",
       "      <th>MedianHousePrice</th>\n",
       "      <th>VegRestaurants</th>\n",
       "    </tr>\n",
       "  </thead>\n",
       "  <tbody>\n",
       "    <tr>\n",
       "      <th>0</th>\n",
       "      <td>41618</td>\n",
       "      <td>183163.25</td>\n",
       "      <td>5</td>\n",
       "    </tr>\n",
       "    <tr>\n",
       "      <th>1</th>\n",
       "      <td>45596</td>\n",
       "      <td>255185.71</td>\n",
       "      <td>5</td>\n",
       "    </tr>\n",
       "    <tr>\n",
       "      <th>2</th>\n",
       "      <td>33530</td>\n",
       "      <td>229000.00</td>\n",
       "      <td>6</td>\n",
       "    </tr>\n",
       "    <tr>\n",
       "      <th>3</th>\n",
       "      <td>38378</td>\n",
       "      <td>142616.67</td>\n",
       "      <td>1</td>\n",
       "    </tr>\n",
       "    <tr>\n",
       "      <th>4</th>\n",
       "      <td>42269</td>\n",
       "      <td>179305.40</td>\n",
       "      <td>6</td>\n",
       "    </tr>\n",
       "  </tbody>\n",
       "</table>\n",
       "</div>"
      ],
      "text/plain": [
       "   IncomePerCapita  MedianHousePrice  VegRestaurants\n",
       "0            41618         183163.25               5\n",
       "1            45596         255185.71               5\n",
       "2            33530         229000.00               6\n",
       "3            38378         142616.67               1\n",
       "4            42269         179305.40               6"
      ]
     },
     "execution_count": 499,
     "metadata": {},
     "output_type": "execute_result"
    }
   ],
   "source": [
    "#######################################\n",
    "# FEATURE SELECTION (X, Y)\n",
    "#######################################\n",
    "\n",
    "# Select the (1) Income, (2) Median House Value, (3) Number of Veg Resturants as independent array of variables X\n",
    "#X = df[['IncomePerCapita','MedianHousePrice','VegRestaurants']]\n",
    "X = df[['IncomePerCapita','MedianHousePrice', 'VegRestaurants']]\n",
    "X.head()"
   ]
  },
  {
   "cell_type": "code",
   "execution_count": 500,
   "metadata": {
    "scrolled": true
   },
   "outputs": [
    {
     "data": {
      "text/plain": [
       "0    Painful\n",
       "1    Painful\n",
       "2    Painful\n",
       "3    Painful\n",
       "4    Painful\n",
       "Name: PainClass, dtype: object"
      ]
     },
     "execution_count": 500,
     "metadata": {},
     "output_type": "execute_result"
    }
   ],
   "source": [
    "# Select PainClass as either Painfull or Painfree (binary classification as predictor variable)\n",
    "Y = df['PainClass']\n",
    "Y.head()"
   ]
  },
  {
   "cell_type": "markdown",
   "metadata": {},
   "source": [
    "**Split the data into training & testing datasets 80/20 split**"
   ]
  },
  {
   "cell_type": "code",
   "execution_count": 501,
   "metadata": {},
   "outputs": [
    {
     "name": "stdout",
     "output_type": "stream",
     "text": [
      "\n",
      "The shape (rows, cols) of the training dataset is  (409, 3)\n",
      "\n",
      "The shape (rows, cols) of the testing  dataset is  (103, 3)\n",
      "\n",
      " The features selected to create model are : \n",
      "      IncomePerCapita  MedianHousePrice  VegRestaurants\n",
      "436            40036         140333.33               1\n",
      "129            36997         186304.25               3\n",
      "375            52984         264590.00              10\n",
      "\n",
      " The dependent variable used to fit the model : \n",
      " 436     Painful\n",
      "129     Painful\n",
      "375    PainFree\n",
      "Name: PainClass, dtype: object\n"
     ]
    }
   ],
   "source": [
    "#######################################\n",
    "# SPLIT THE TRAINING & TESTING DATASETS\n",
    "#######################################\n",
    "\n",
    "# Import train_test_split function\n",
    "from sklearn.model_selection import train_test_split\n",
    "\n",
    "# Split the dataset as testing & training\n",
    "X_trn, X_tst, Y_trn, Y_tst = train_test_split(X, Y, test_size=0.2, random_state=4)\n",
    "\n",
    "# Print the shape of the resulting datasets (dataframes)\n",
    "print(\"\\nThe shape (rows, cols) of the training dataset is \", X_trn.shape)\n",
    "print(\"\\nThe shape (rows, cols) of the testing  dataset is \", X_tst.shape)\n",
    "\n",
    "print(\"\\n The features selected to create model are : \\n\", X_trn.head(3))\n",
    "print(\"\\n The dependent variable used to fit the model : \\n\", Y_trn.head(3))"
   ]
  },
  {
   "cell_type": "markdown",
   "metadata": {},
   "source": [
    "## RESULTS <a name=\"Results\"></a>"
   ]
  },
  {
   "cell_type": "markdown",
   "metadata": {},
   "source": [
    "**Model building** -  Guideline question: How can I best model the data, visualize the data to steer my investigation. \n",
    "\n",
    "**Model evaluation** - Guideline question: What kind of model is appropriate to analyze the data & does the model answer the question\n",
    "Lorem ipsum dolor sit amet, consectetuer adipiscing elit, sed diam nonummy nibh euismod tincidunt ut laoreet dolore magna aliquam erat volutpat.\n",
    "\n",
    "**Model deployment** - Guideline question: Can the model be put into practice. \n",
    "\n",
    "**Incorporating feedback** - Guideline question: Can we get constructive feedback to answer the question. \n",
    "\n",
    "\n",
    "Using the Support Vector Machine (SVM) model and the test data (independent variables) that the model has not seen, I made predictions & compared with actual class; the model was able to predict a Painful county with 72% accuracy; however the model was unable to make any predictions about Painfree counties based on the features. As a sanity check, I then recreated the model with just 2 features, income and habitat and retested the model and surprisingly it performed the same suggesting that food may not after all factor into the high rate of prescription pain-killers, not to say much about pain & inflammation itself.\n",
    "\n",
    "The exercise was somewhat surprising and intriguing at the same time. If indeed the availability of food does not play a role in inflammation, chances are that the prescription of painkillers are not really for treating inflammation, perhaps even abused as recreational drugs or anti-depressants. Although the results are inadequate to make a conclusion, the methods are sound and it implores us to revisit this problem, which I definitely would like to. "
   ]
  },
  {
   "cell_type": "markdown",
   "metadata": {},
   "source": [
    "#### Support Vector Machines (SVM)\n",
    "Utilize Support Vector Machines (SVM), a **kernel method** to see if there's an **optimal boundary** between the sets of datapoints that collectively describe pain as a combination of income, property value, & non-inflammatory food(vegetarian)"
   ]
  },
  {
   "cell_type": "code",
   "execution_count": 502,
   "metadata": {},
   "outputs": [
    {
     "name": "stdout",
     "output_type": "stream",
     "text": [
      "\n",
      "\n",
      " The characteristics of instantiated model are : SVC(C=1.0, cache_size=200, class_weight=None, coef0=0.0,\n",
      "    decision_function_shape='ovr', degree=3, gamma='auto', kernel='rbf',\n",
      "    max_iter=-1, probability=False, random_state=None, shrinking=True,\n",
      "    tol=0.001, verbose=False)\n",
      "\n",
      "\n",
      " Classes used by the classifier are :  ['PainFree' 'Painful']\n",
      "\n",
      "\n",
      " Created a prediction set using the Support Vector Machine classifier \n",
      "\n"
     ]
    }
   ],
   "source": [
    "# Import Support Vector Machine from sklearn\n",
    "from sklearn import svm\n",
    "\n",
    "# Instantiate a classifier & use the default Radial Basis Function (RBF), a kernel method\n",
    "modelSVM = svm.SVC(kernel='rbf', gamma='auto')\n",
    "\n",
    "# Print the characteristics of the classifier (modelSVM) model\n",
    "print(\"\\n\\n The characteristics of instantiated model are :\", modelSVM)\n",
    "\n",
    "# Fit the Training data to the classifier model (Y_trn) specifies the number of classes\n",
    "modelSVM.fit(X_trn, Y_trn)\n",
    "\n",
    "print( \"\\n\\n Classes used by the classifier are : \", modelSVM.classes_ )\n",
    "\n",
    "# Make the prediction\n",
    "Y_svm = modelSVM.predict(X_tst)\n",
    "print (\"\\n\\n Created a prediction set using the Support Vector Machine classifier \\n\")"
   ]
  },
  {
   "cell_type": "code",
   "execution_count": 503,
   "metadata": {},
   "outputs": [
    {
     "name": "stdout",
     "output_type": "stream",
     "text": [
      "\n",
      "\n",
      " Accuracy of the Support Vector Machine(SVM) model is:  0.7184466019417476\n"
     ]
    }
   ],
   "source": [
    "from sklearn import metrics\n",
    "from sklearn.metrics import classification_report\n",
    "\n",
    "\n",
    "# Compute Accuracy\n",
    "print(\"\\n\\n Accuracy of the Support Vector Machine(SVM) model is: \", \n",
    "        metrics.accuracy_score(Y_tst, Y_svm))"
   ]
  },
  {
   "cell_type": "code",
   "execution_count": 504,
   "metadata": {},
   "outputs": [],
   "source": [
    "######################################################\n",
    "### DEFINE A FUNCTION TO PLOT THE CONFUSION MATRIX ###\n",
    "######################################################\n",
    "\n",
    "def plot_confusion_matrix(cm, classes,\n",
    "                          normalize=False,\n",
    "                          title='Confusion matrix',\n",
    "                          cmap=plt.cm.Blues):\n",
    "    \"\"\"\n",
    "    This function prints and plots the confusion matrix.\n",
    "    Normalization can be applied by setting `normalize=True`.\n",
    "    \"\"\"\n",
    "    if normalize:\n",
    "        cm = cm.astype('float') / cm.sum(axis=1)[:, np.newaxis]\n",
    "        print(\"Normalized confusion matrix\")\n",
    "    else:\n",
    "        print('Confusion matrix, without normalization')\n",
    "\n",
    "    print(cm)\n",
    "\n",
    "    plt.imshow(cm, interpolation='nearest', cmap=cmap)\n",
    "    plt.title(title)\n",
    "    plt.colorbar()\n",
    "    tick_marks = np.arange(len(classes))\n",
    "    plt.xticks(tick_marks, classes, rotation=45)\n",
    "    plt.yticks(tick_marks, classes)\n",
    "\n",
    "    fmt = '.2f' if normalize else 'd'\n",
    "    thresh = cm.max() / 2.\n",
    "    for i, j in itertools.product(range(cm.shape[0]), range(cm.shape[1])):\n",
    "        plt.text(j, i, format(cm[i, j], fmt),\n",
    "                 horizontalalignment=\"center\",\n",
    "                 color=\"white\" if cm[i, j] > thresh else \"black\")\n",
    "\n",
    "    plt.tight_layout()\n",
    "    plt.ylabel('True label')\n",
    "    plt.xlabel('Predicted label')"
   ]
  },
  {
   "cell_type": "code",
   "execution_count": 528,
   "metadata": {},
   "outputs": [
    {
     "name": "stdout",
     "output_type": "stream",
     "text": [
      "Confusion matrix, without normalization\n",
      "[[74  0]\n",
      " [ 0  0]]\n",
      "\n",
      "\n",
      " The Accuracy score of the model is (TP + FN)/80 :  0.925\n"
     ]
    },
    {
     "data": {
      "image/png": "[encoded data removed]",
      "text/plain": [
       "<Figure size 432x288 with 2 Axes>"
      ]
     },
     "metadata": {},
     "output_type": "display_data"
    }
   ],
   "source": [
    "# Import Confusion Matrix & Classification Report from Sci-Kit Learn & Iteration tools\n",
    "from sklearn.metrics import confusion_matrix\n",
    "import itertools\n",
    "\n",
    "###########################################\n",
    "### COMPUTE & PLOT THE CONFUSION MATRIX ###\n",
    "###########################################\n",
    "\n",
    "# Compute confusion matrix\n",
    "cnf_matrix = confusion_matrix(Y_tst, Y_svm, labels=['Painful','Painfree'])\n",
    "np.set_printoptions(precision=2)\n",
    "\n",
    "# Plot non-normalized confusion matrix\n",
    "plt.figure()\n",
    "\n",
    "plot_confusion_matrix(cnf_matrix, classes=['Painful', 'PainFree'],\n",
    "                      normalize= False,  title='Confusion Matrix - Predicting Pain\\n\\n(MBEHARA-2020)\\n')\n",
    "\n",
    "print(\"\\n\\n The Accuracy score of the model is (TP + FN)/80 : \", (cnf_matrix[0][0]+cnf_matrix[1][1])/80)"
   ]
  },
  {
   "cell_type": "code",
   "execution_count": 506,
   "metadata": {},
   "outputs": [
    {
     "name": "stdout",
     "output_type": "stream",
     "text": [
      "\n",
      "\n",
      " Classification Report of the Support Vector Machine (SVM) \n",
      "----------------------------------------------------------\n",
      "                precision    recall  f1-score   support\n",
      "\n",
      "    PainFree       0.00      0.00      0.00        29\n",
      "     Painful       0.72      1.00      0.84        74\n",
      "\n",
      "    accuracy                           0.72       103\n",
      "   macro avg       0.36      0.50      0.42       103\n",
      "weighted avg       0.52      0.72      0.60       103\n",
      "\n"
     ]
    },
    {
     "name": "stderr",
     "output_type": "stream",
     "text": [
      "C:\\Users\\rahdi\\Apps\\Anaconda3\\lib\\site-packages\\sklearn\\metrics\\classification.py:1437: UndefinedMetricWarning: Precision and F-score are ill-defined and being set to 0.0 in labels with no predicted samples.\n",
      "  'precision', 'predicted', average, warn_for)\n"
     ]
    }
   ],
   "source": [
    "print(\"\\n\\n Classification Report of the Support Vector Machine (SVM) \\n----------------------------------------------------------\\n \", \n",
    "       classification_report(Y_tst, Y_svm))"
   ]
  },
  {
   "cell_type": "code",
   "execution_count": 527,
   "metadata": {},
   "outputs": [
    {
     "name": "stdout",
     "output_type": "stream",
     "text": [
      "\n",
      " Jaccard Similarity Score - Support Vector Machine (SVM)  :  0.7184466019417476\n"
     ]
    },
    {
     "name": "stderr",
     "output_type": "stream",
     "text": [
      "C:\\Users\\rahdi\\Apps\\Anaconda3\\lib\\site-packages\\sklearn\\metrics\\classification.py:635: DeprecationWarning: jaccard_similarity_score has been deprecated and replaced with jaccard_score. It will be removed in version 0.23. This implementation has surprising behavior for binary and multiclass classification tasks.\n",
      "  'and multiclass classification tasks.', DeprecationWarning)\n"
     ]
    }
   ],
   "source": [
    "#from sklearn.metrics import jaccard_similarity_score\n",
    "from sklearn.metrics import jaccard_similarity_score\n",
    "print(\"\\n Jaccard Similarity Score - Support Vector Machine (SVM)  : \", jaccard_similarity_score(Y_tst, Y_svm))\n"
   ]
  },
  {
   "cell_type": "markdown",
   "metadata": {},
   "source": [
    "## DISCUSSION <a name=\"Discussion\"></a>"
   ]
  },
  {
   "cell_type": "markdown",
   "metadata": {},
   "source": [
    "The ability to digitally record data and the ubiquity of the same, combined with the availability of very sophisticated open source software allows more of us to apply complex scientific methods to investigate a great variety of real world issues. Before diving in and applying analytical techniques to data there is a tremendous amount of legwork to get all the data right in the desired format ready for analysis. This effort is referred to in our business as data wrangling. While it was surprising to learn that income and house values alone can classify if the pain killer prescription rate is above or below 50%, it also invites one to look closely and carefully at some of the assumptions made and how data is normalized. The Four Square API returned 2400 vegetarian restaurants, but also returned other types of restaurants, with an over all accuracy of 88%. The API did not retrieve all the restaurants, perhaps due to overloading or perhaps due to unavailability of data for some counties. This alone requires to return to this study and perhaps pick just one state, a state that is more interesting to investigate the problem. The state of Virginia seems to be one of the more interesting states that has long whiskers indicating the long range of minimum and maximum values and many outliers.   "
   ]
  },
  {
   "cell_type": "markdown",
   "metadata": {},
   "source": [
    "## CONCLUSION <a name=\"Conclusion\"></a>"
   ]
  },
  {
   "cell_type": "markdown",
   "metadata": {},
   "source": [
    "This has been a useful exercise that served as a warmup for a more rigorous work. We did validate that-\n",
    "\n",
    "(1) Economically depressed counties have a high prescription rate of pain-killers (above the threshold of 50 prescriptions per 100 persons), and it’s predictable\n",
    "\n",
    "(2) Areas that have 6 or more vegetarian restaurants, all have a prescription rate of below 100%, and 5 or less indicated the opposite\n",
    "\n",
    "(3) Perhaps the prescription of pain-killers after all have not much to do with treating pain itself\n",
    "\n",
    "This case is far from settled and the next step for us is to gather more data, and investigate a more interesting state such as Virginia to find out more about the factors that may be contributing to high prescription rate of pain-killers."
   ]
  },
  {
   "cell_type": "markdown",
   "metadata": {},
   "source": [
    "# ***"
   ]
  },
  {
   "cell_type": "code",
   "execution_count": null,
   "metadata": {},
   "outputs": [],
   "source": []
  }
 ],
 "metadata": {
  "kernelspec": {
   "display_name": "Python 3",
   "language": "python",
   "name": "python3"
  },
  "language_info": {
   "codemirror_mode": {
    "name": "ipython",
    "version": 3
   },
   "file_extension": ".py",
   "mimetype": "text/x-python",
   "name": "python",
   "nbconvert_exporter": "python",
   "pygments_lexer": "ipython3",
   "version": "3.7.3"
  }
 },
 "nbformat": 4,
 "nbformat_minor": 2
}
