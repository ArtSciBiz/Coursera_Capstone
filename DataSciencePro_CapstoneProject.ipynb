{
 "cells": [
  {
   "cell_type": "markdown",
   "metadata": {},
   "source": [
    "# Jupyter Notebook for IBM Data Science Capstone Project  "
   ]
  },
  {
   "cell_type": "markdown",
   "metadata": {},
   "source": [
    "### Import the python libraries"
   ]
  },
  {
   "cell_type": "code",
   "execution_count": 22,
   "metadata": {},
   "outputs": [
    {
     "name": "stdout",
     "output_type": "stream",
     "text": [
      "Hello Capstone Project Course!\n"
     ]
    }
   ],
   "source": [
    "import pandas as pd\n",
    "import numpy as np\n",
    "import scipy\n",
    "\n",
    "# Print a hello world message\n",
    "print(\"Hello Capstone Project Course!\")"
   ]
  },
  {
   "cell_type": "markdown",
   "metadata": {},
   "source": [
    "**Install & import packages for Data Visualizaton**"
   ]
  },
  {
   "cell_type": "code",
   "execution_count": 27,
   "metadata": {},
   "outputs": [],
   "source": [
    "%%capture\n",
    "! pip install seaborn"
   ]
  },
  {
   "cell_type": "code",
   "execution_count": 28,
   "metadata": {},
   "outputs": [],
   "source": [
    "import matplotlib.pyplot as plt\n",
    "import seaborn as sns\n",
    "%matplotlib inline "
   ]
  },
  {
   "cell_type": "markdown",
   "metadata": {},
   "source": [
    "### Methodology (Data Analysis) \n",
    "#### (1) Specify Data Requirements  (2) Collect the Data (3) Understand the Data (4) Prepare the Data\n"
   ]
  },
  {
   "cell_type": "markdown",
   "metadata": {},
   "source": [
    "#### Understand Data - Prescription Rates"
   ]
  },
  {
   "cell_type": "code",
   "execution_count": 47,
   "metadata": {},
   "outputs": [
    {
     "name": "stdout",
     "output_type": "stream",
     "text": [
      "<class 'pandas.core.frame.DataFrame'>\n",
      "RangeIndex: 2969 entries, 0 to 2968\n",
      "Data columns (total 4 columns):\n",
      "CountyName          2969 non-null object\n",
      "StateCode           2969 non-null object\n",
      "CountyCode          2969 non-null int64\n",
      "PrescriptionRate    2955 non-null float64\n",
      "dtypes: float64(1), int64(1), object(2)\n",
      "memory usage: 92.9+ KB\n"
     ]
    }
   ],
   "source": [
    "# Define a DataFrame named prefixed with pkop to signify Prescription Rate of Opioids\n",
    "proDataFrame = pd.read_csv('https://datascience-capstone-project.s3.us-south.cloud-object-storage.appdomain.cloud/USCountyPainKillerPrescribingRates2017.csv')\n",
    "proDataFrame.head()\n",
    "\n",
    "proDataFrame.info()"
   ]
  },
  {
   "cell_type": "code",
   "execution_count": 48,
   "metadata": {
    "scrolled": false
   },
   "outputs": [
    {
     "data": {
      "text/plain": [
       "<matplotlib.axes._subplots.AxesSubplot at 0x12be4dba5c0>"
      ]
     },
     "execution_count": 48,
     "metadata": {},
     "output_type": "execute_result"
    },
    {
     "data": {
      "image/png": "[encoded data removed]",
      "text/plain": [
       "<Figure size 432x288 with 1 Axes>"
      ]
     },
     "metadata": {},
     "output_type": "display_data"
    }
   ],
   "source": [
    "sns.set(style='whitegrid')\n",
    "sns.boxplot(x=\"PrescriptionRate\", data=proDataFrame)\n"
   ]
  },
  {
   "cell_type": "markdown",
   "metadata": {},
   "source": [
    "#### Understand Data - Income Per Capita"
   ]
  },
  {
   "cell_type": "code",
   "execution_count": 49,
   "metadata": {},
   "outputs": [
    {
     "data": {
      "text/html": [
       "<div>\n",
       "<style scoped>\n",
       "    .dataframe tbody tr th:only-of-type {\n",
       "        vertical-align: middle;\n",
       "    }\n",
       "\n",
       "    .dataframe tbody tr th {\n",
       "        vertical-align: top;\n",
       "    }\n",
       "\n",
       "    .dataframe thead th {\n",
       "        text-align: right;\n",
       "    }\n",
       "</style>\n",
       "<table border=\"1\" class=\"dataframe\">\n",
       "  <thead>\n",
       "    <tr style=\"text-align: right;\">\n",
       "      <th></th>\n",
       "      <th>State</th>\n",
       "      <th>StateCode</th>\n",
       "      <th>County</th>\n",
       "      <th>CountyCode</th>\n",
       "      <th>IncomePC2018</th>\n",
       "    </tr>\n",
       "  </thead>\n",
       "  <tbody>\n",
       "    <tr>\n",
       "      <th>0</th>\n",
       "      <td>Alabama</td>\n",
       "      <td>AL</td>\n",
       "      <td>Autauga</td>\n",
       "      <td>1001</td>\n",
       "      <td>41618</td>\n",
       "    </tr>\n",
       "    <tr>\n",
       "      <th>1</th>\n",
       "      <td>Alabama</td>\n",
       "      <td>AL</td>\n",
       "      <td>Baldwin</td>\n",
       "      <td>1003</td>\n",
       "      <td>45596</td>\n",
       "    </tr>\n",
       "    <tr>\n",
       "      <th>2</th>\n",
       "      <td>Alabama</td>\n",
       "      <td>AL</td>\n",
       "      <td>Barbour</td>\n",
       "      <td>1005</td>\n",
       "      <td>35199</td>\n",
       "    </tr>\n",
       "    <tr>\n",
       "      <th>3</th>\n",
       "      <td>Alabama</td>\n",
       "      <td>AL</td>\n",
       "      <td>Bibb</td>\n",
       "      <td>1007</td>\n",
       "      <td>30254</td>\n",
       "    </tr>\n",
       "    <tr>\n",
       "      <th>4</th>\n",
       "      <td>Alabama</td>\n",
       "      <td>AL</td>\n",
       "      <td>Blount</td>\n",
       "      <td>1009</td>\n",
       "      <td>34976</td>\n",
       "    </tr>\n",
       "  </tbody>\n",
       "</table>\n",
       "</div>"
      ],
      "text/plain": [
       "     State StateCode   County  CountyCode  IncomePC2018\n",
       "0  Alabama        AL  Autauga        1001         41618\n",
       "1  Alabama        AL  Baldwin        1003         45596\n",
       "2  Alabama        AL  Barbour        1005         35199\n",
       "3  Alabama        AL     Bibb        1007         30254\n",
       "4  Alabama        AL   Blount        1009         34976"
      ]
     },
     "execution_count": 49,
     "metadata": {},
     "output_type": "execute_result"
    }
   ],
   "source": [
    "ipcDataFrame = pd.read_csv(\"https://datascience-capstone-project.s3.us-south.cloud-object-storage.appdomain.cloud/USCountyIncomePerCapita2018.csv\")\n",
    "ipcDataFrame.head()"
   ]
  },
  {
   "cell_type": "code",
   "execution_count": 51,
   "metadata": {},
   "outputs": [
    {
     "data": {
      "text/plain": [
       "count      3080.000000\n",
       "mean      44112.225000\n",
       "std       12738.971561\n",
       "min       18541.000000\n",
       "25%       36557.750000\n",
       "50%       41961.000000\n",
       "75%       48748.500000\n",
       "max      251728.000000\n",
       "Name: IncomePC2018, dtype: float64"
      ]
     },
     "execution_count": 51,
     "metadata": {},
     "output_type": "execute_result"
    }
   ],
   "source": [
    "ipcDataFrame['IncomePC2018'].describe()"
   ]
  },
  {
   "cell_type": "code",
   "execution_count": 73,
   "metadata": {},
   "outputs": [
    {
     "data": {
      "text/html": [
       "<div>\n",
       "<style scoped>\n",
       "    .dataframe tbody tr th:only-of-type {\n",
       "        vertical-align: middle;\n",
       "    }\n",
       "\n",
       "    .dataframe tbody tr th {\n",
       "        vertical-align: top;\n",
       "    }\n",
       "\n",
       "    .dataframe thead th {\n",
       "        text-align: right;\n",
       "    }\n",
       "</style>\n",
       "<table border=\"1\" class=\"dataframe\">\n",
       "  <thead>\n",
       "    <tr style=\"text-align: right;\">\n",
       "      <th></th>\n",
       "      <th>IncomePC2018</th>\n",
       "    </tr>\n",
       "    <tr>\n",
       "      <th>State</th>\n",
       "      <th></th>\n",
       "    </tr>\n",
       "  </thead>\n",
       "  <tbody>\n",
       "    <tr>\n",
       "      <th>Alabama</th>\n",
       "      <td>37063.179104</td>\n",
       "    </tr>\n",
       "    <tr>\n",
       "      <th>Alaska</th>\n",
       "      <td>62513.413793</td>\n",
       "    </tr>\n",
       "    <tr>\n",
       "      <th>Arizona</th>\n",
       "      <td>37879.266667</td>\n",
       "    </tr>\n",
       "    <tr>\n",
       "      <th>Arkansas</th>\n",
       "      <td>35725.506667</td>\n",
       "    </tr>\n",
       "    <tr>\n",
       "      <th>California</th>\n",
       "      <td>56852.448276</td>\n",
       "    </tr>\n",
       "  </tbody>\n",
       "</table>\n",
       "</div>"
      ],
      "text/plain": [
       "            IncomePC2018\n",
       "State                   \n",
       "Alabama     37063.179104\n",
       "Alaska      62513.413793\n",
       "Arizona     37879.266667\n",
       "Arkansas    35725.506667\n",
       "California  56852.448276"
      ]
     },
     "execution_count": 73,
     "metadata": {},
     "output_type": "execute_result"
    }
   ],
   "source": [
    "ipcbsDataFrame = ipcDataFrame[['State', 'IncomePC2018']]\n",
    "#ipcbsDataFrame.head()\n",
    "\n",
    "ipcgbsDataFrame = ipcbsDataFrame.groupby(['State'],as_index=False).mean()\n",
    "\n",
    "ipcgbsDataFrame.set_index('State', inplace=True)\n",
    "\n",
    "ipcgbsDataFrame.head()\n"
   ]
  },
  {
   "cell_type": "code",
   "execution_count": 75,
   "metadata": {},
   "outputs": [
    {
     "data": {
      "text/plain": [
       "Text(0.5, 1.0, 'State Wide Income for the year 2018')"
      ]
     },
     "execution_count": 75,
     "metadata": {},
     "output_type": "execute_result"
    },
    {
     "data": {
      "image/png": "[encoded data removed]",
      "text/plain": [
       "<Figure size 1440x432 with 1 Axes>"
      ]
     },
     "metadata": {},
     "output_type": "display_data"
    }
   ],
   "source": [
    "# Plot the data (barchart)\n",
    "ipcgbsDataFrame.plot(kind='bar', figsize=(20, 6))\n",
    "\n",
    "plt.xlabel('State') # add to x-label to the plot\n",
    "plt.ylabel('Income in US $') # add y-label to the plot\n",
    "plt.title('State Wide Income for the year 2018') # add title to the plot\n"
   ]
  },
  {
   "cell_type": "code",
   "execution_count": 44,
   "metadata": {},
   "outputs": [
    {
     "data": {
      "text/html": [
       "<div>\n",
       "<style scoped>\n",
       "    .dataframe tbody tr th:only-of-type {\n",
       "        vertical-align: middle;\n",
       "    }\n",
       "\n",
       "    .dataframe tbody tr th {\n",
       "        vertical-align: top;\n",
       "    }\n",
       "\n",
       "    .dataframe thead th {\n",
       "        text-align: right;\n",
       "    }\n",
       "</style>\n",
       "<table border=\"1\" class=\"dataframe\">\n",
       "  <thead>\n",
       "    <tr style=\"text-align: right;\">\n",
       "      <th></th>\n",
       "      <th>StateCode</th>\n",
       "      <th>County</th>\n",
       "      <th>MedianHousePrice</th>\n",
       "    </tr>\n",
       "  </thead>\n",
       "  <tbody>\n",
       "    <tr>\n",
       "      <th>0</th>\n",
       "      <td>AK</td>\n",
       "      <td>Anchorage</td>\n",
       "      <td>306691.67</td>\n",
       "    </tr>\n",
       "    <tr>\n",
       "      <th>1</th>\n",
       "      <td>AK</td>\n",
       "      <td>Fairbanks North Star</td>\n",
       "      <td>193461.38</td>\n",
       "    </tr>\n",
       "    <tr>\n",
       "      <th>2</th>\n",
       "      <td>AK</td>\n",
       "      <td>Juneau</td>\n",
       "      <td>349950.00</td>\n",
       "    </tr>\n",
       "    <tr>\n",
       "      <th>3</th>\n",
       "      <td>AK</td>\n",
       "      <td>Kenai Peninsula</td>\n",
       "      <td>238358.50</td>\n",
       "    </tr>\n",
       "    <tr>\n",
       "      <th>4</th>\n",
       "      <td>AK</td>\n",
       "      <td>Kodiak Island</td>\n",
       "      <td>332500.00</td>\n",
       "    </tr>\n",
       "  </tbody>\n",
       "</table>\n",
       "</div>"
      ],
      "text/plain": [
       "  StateCode                 County  MedianHousePrice\n",
       "0        AK             Anchorage          306691.67\n",
       "1        AK  Fairbanks North Star          193461.38\n",
       "2        AK                Juneau          349950.00\n",
       "3        AK       Kenai Peninsula          238358.50\n",
       "4        AK         Kodiak Island          332500.00"
      ]
     },
     "execution_count": 44,
     "metadata": {},
     "output_type": "execute_result"
    }
   ],
   "source": [
    "mhvDataFrame = pd.read_csv('https://datascience-capstone-project.s3.us-south.cloud-object-storage.appdomain.cloud/USCountyMedianHomeValueAvgByZipCode.csv')\n",
    "mhvDataFrame.head()"
   ]
  },
  {
   "cell_type": "code",
   "execution_count": 76,
   "metadata": {},
   "outputs": [
    {
     "data": {
      "text/plain": [
       "count    1.979000e+03\n",
       "mean     2.251729e+05\n",
       "std      1.658781e+05\n",
       "min      5.000000e+04\n",
       "25%      1.399000e+05\n",
       "50%      1.855385e+05\n",
       "75%      2.640467e+05\n",
       "max      2.772500e+06\n",
       "Name: MedianHousePrice, dtype: float64"
      ]
     },
     "execution_count": 76,
     "metadata": {},
     "output_type": "execute_result"
    }
   ],
   "source": [
    "mhvDataFrame['MedianHousePrice'].describe()"
   ]
  },
  {
   "cell_type": "markdown",
   "metadata": {},
   "source": [
    "**Consolidate data by State & Median House Price**"
   ]
  },
  {
   "cell_type": "code",
   "execution_count": 79,
   "metadata": {
    "scrolled": true
   },
   "outputs": [
    {
     "data": {
      "text/html": [
       "<div>\n",
       "<style scoped>\n",
       "    .dataframe tbody tr th:only-of-type {\n",
       "        vertical-align: middle;\n",
       "    }\n",
       "\n",
       "    .dataframe tbody tr th {\n",
       "        vertical-align: top;\n",
       "    }\n",
       "\n",
       "    .dataframe thead th {\n",
       "        text-align: right;\n",
       "    }\n",
       "</style>\n",
       "<table border=\"1\" class=\"dataframe\">\n",
       "  <thead>\n",
       "    <tr style=\"text-align: right;\">\n",
       "      <th></th>\n",
       "      <th>MedianHousePrice</th>\n",
       "    </tr>\n",
       "    <tr>\n",
       "      <th>StateCode</th>\n",
       "      <th></th>\n",
       "    </tr>\n",
       "  </thead>\n",
       "  <tbody>\n",
       "    <tr>\n",
       "      <th>AK</th>\n",
       "      <td>297476.650000</td>\n",
       "    </tr>\n",
       "    <tr>\n",
       "      <th>AL</th>\n",
       "      <td>180574.334186</td>\n",
       "    </tr>\n",
       "    <tr>\n",
       "      <th>AR</th>\n",
       "      <td>143908.081220</td>\n",
       "    </tr>\n",
       "    <tr>\n",
       "      <th>AZ</th>\n",
       "      <td>247627.716923</td>\n",
       "    </tr>\n",
       "    <tr>\n",
       "      <th>CA</th>\n",
       "      <td>520442.412963</td>\n",
       "    </tr>\n",
       "  </tbody>\n",
       "</table>\n",
       "</div>"
      ],
      "text/plain": [
       "           MedianHousePrice\n",
       "StateCode                  \n",
       "AK            297476.650000\n",
       "AL            180574.334186\n",
       "AR            143908.081220\n",
       "AZ            247627.716923\n",
       "CA            520442.412963"
      ]
     },
     "execution_count": 79,
     "metadata": {},
     "output_type": "execute_result"
    }
   ],
   "source": [
    "# Consolidate median Home Value by Price\n",
    "mhvbpDataFrame = mhvDataFrame[['StateCode', 'MedianHousePrice']]\n",
    "#ipcbsDataFrame.head()\n",
    "\n",
    "mhvbpgDataFrame = mhvbpDataFrame.groupby(['StateCode'],as_index=False).mean()\n",
    "\n",
    "mhvbpgDataFrame.set_index('StateCode', inplace=True)\n",
    "\n",
    "mhvbpgDataFrame.head()"
   ]
  },
  {
   "cell_type": "code",
   "execution_count": 80,
   "metadata": {},
   "outputs": [
    {
     "data": {
      "text/plain": [
       "Text(0.5, 1.0, 'State Wide Median Home Values year 2017')"
      ]
     },
     "execution_count": 80,
     "metadata": {},
     "output_type": "execute_result"
    },
    {
     "data": {
      "image/png": "[encoded data removed]",
      "text/plain": [
       "<Figure size 1440x432 with 1 Axes>"
      ]
     },
     "metadata": {},
     "output_type": "display_data"
    }
   ],
   "source": [
    "# plot the data\n",
    "mhvbpgDataFrame.plot(kind='bar', figsize=(20, 6))\n",
    "\n",
    "plt.xlabel('State') # add to x-label to the plot\n",
    "plt.ylabel('Median Home Value US $') # add y-label to the plot\n",
    "plt.title('State Wide Median Home Values year 2017') # add title to the plot"
   ]
  },
  {
   "cell_type": "markdown",
   "metadata": {},
   "source": [
    "#### Prepare Data - cross-reference table"
   ]
  },
  {
   "cell_type": "code",
   "execution_count": 45,
   "metadata": {
    "scrolled": true
   },
   "outputs": [
    {
     "data": {
      "text/html": [
       "<div>\n",
       "<style scoped>\n",
       "    .dataframe tbody tr th:only-of-type {\n",
       "        vertical-align: middle;\n",
       "    }\n",
       "\n",
       "    .dataframe tbody tr th {\n",
       "        vertical-align: top;\n",
       "    }\n",
       "\n",
       "    .dataframe thead th {\n",
       "        text-align: right;\n",
       "    }\n",
       "</style>\n",
       "<table border=\"1\" class=\"dataframe\">\n",
       "  <thead>\n",
       "    <tr style=\"text-align: right;\">\n",
       "      <th></th>\n",
       "      <th>StateCode</th>\n",
       "      <th>CountyCode</th>\n",
       "      <th>ANSICODE</th>\n",
       "      <th>CountyName</th>\n",
       "      <th>LandAreaSqMi</th>\n",
       "      <th>WaterAreaSqMi</th>\n",
       "      <th>Latitude</th>\n",
       "      <th>Longitude</th>\n",
       "    </tr>\n",
       "  </thead>\n",
       "  <tbody>\n",
       "    <tr>\n",
       "      <th>0</th>\n",
       "      <td>AL</td>\n",
       "      <td>1001</td>\n",
       "      <td>161526</td>\n",
       "      <td>Autauga</td>\n",
       "      <td>594.444</td>\n",
       "      <td>9.926</td>\n",
       "      <td>32.532237</td>\n",
       "      <td>-86.646440</td>\n",
       "    </tr>\n",
       "    <tr>\n",
       "      <th>1</th>\n",
       "      <td>AL</td>\n",
       "      <td>1003</td>\n",
       "      <td>161527</td>\n",
       "      <td>Baldwin</td>\n",
       "      <td>1589.823</td>\n",
       "      <td>437.446</td>\n",
       "      <td>30.659218</td>\n",
       "      <td>-87.746067</td>\n",
       "    </tr>\n",
       "    <tr>\n",
       "      <th>2</th>\n",
       "      <td>AL</td>\n",
       "      <td>1005</td>\n",
       "      <td>161528</td>\n",
       "      <td>Barbour</td>\n",
       "      <td>885.008</td>\n",
       "      <td>19.507</td>\n",
       "      <td>31.870253</td>\n",
       "      <td>-85.405104</td>\n",
       "    </tr>\n",
       "    <tr>\n",
       "      <th>3</th>\n",
       "      <td>AL</td>\n",
       "      <td>1007</td>\n",
       "      <td>161529</td>\n",
       "      <td>Bibb</td>\n",
       "      <td>622.461</td>\n",
       "      <td>3.707</td>\n",
       "      <td>33.015893</td>\n",
       "      <td>-87.127148</td>\n",
       "    </tr>\n",
       "    <tr>\n",
       "      <th>4</th>\n",
       "      <td>AL</td>\n",
       "      <td>1009</td>\n",
       "      <td>161530</td>\n",
       "      <td>Blount</td>\n",
       "      <td>644.831</td>\n",
       "      <td>5.798</td>\n",
       "      <td>33.977358</td>\n",
       "      <td>-86.566440</td>\n",
       "    </tr>\n",
       "  </tbody>\n",
       "</table>\n",
       "</div>"
      ],
      "text/plain": [
       "  StateCode  CountyCode  ANSICODE CountyName LandAreaSqMi  WaterAreaSqMi  \\\n",
       "0        AL        1001    161526    Autauga      594.444          9.926   \n",
       "1        AL        1003    161527    Baldwin     1589.823        437.446   \n",
       "2        AL        1005    161528    Barbour      885.008         19.507   \n",
       "3        AL        1007    161529       Bibb      622.461          3.707   \n",
       "4        AL        1009    161530     Blount      644.831          5.798   \n",
       "\n",
       "    Latitude  Longitude  \n",
       "0  32.532237 -86.646440  \n",
       "1  30.659218 -87.746067  \n",
       "2  31.870253 -85.405104  \n",
       "3  33.015893 -87.127148  \n",
       "4  33.977358 -86.566440  "
      ]
     },
     "execution_count": 45,
     "metadata": {},
     "output_type": "execute_result"
    }
   ],
   "source": [
    "xrfDataFrame = pd.read_csv(\"https://datascience-capstone-project.s3.us-south.cloud-object-storage.appdomain.cloud/USCountyGazetteer2019.csv\")\n",
    "xrfDataFrame.head()"
   ]
  },
  {
   "cell_type": "code",
   "execution_count": null,
   "metadata": {},
   "outputs": [],
   "source": []
  }
 ],
 "metadata": {
  "kernelspec": {
   "display_name": "Python 3",
   "language": "python",
   "name": "python3"
  },
  "language_info": {
   "codemirror_mode": {
    "name": "ipython",
    "version": 3
   },
   "file_extension": ".py",
   "mimetype": "text/x-python",
   "name": "python",
   "nbconvert_exporter": "python",
   "pygments_lexer": "ipython3",
   "version": "3.7.3"
  }
 },
 "nbformat": 4,
 "nbformat_minor": 2
}
