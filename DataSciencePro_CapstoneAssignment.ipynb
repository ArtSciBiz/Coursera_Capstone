{
 "cells": [
  {
   "cell_type": "markdown",
   "metadata": {},
   "source": [
    "# Segmenting & Clustering Neighborhoods in Toronto"
   ]
  },
  {
   "cell_type": "markdown",
   "metadata": {},
   "source": [
    "## Part 1 of 3 - Retrieve & normalize data"
   ]
  },
  {
   "cell_type": "markdown",
   "metadata": {},
   "source": [
    "**The data is available as a Wikipedia HTML page & the page source reveals a Table Structure (Column headings & data for each row)**\n",
    "\n",
    "```\n",
    "<tbody>\n",
    "<tr>\n",
    "<th>Postcode</th>\n",
    "<th>Borough</th>\n",
    "<th>Neighborhood\n",
    "</th>\n",
    "</tr>\n",
    "\n",
    "................\n",
    "\n",
    "<tr>\n",
    "<td>M3A</td>\n",
    "<td><a href=\"/wiki/North_York\" title=\"North York\">North York</a></td>\n",
    "<td><a href=\"/wiki/Parkwoods\" title=\"Parkwoods\">Parkwoods</a>\n",
    "</td>\n",
    "</tr>\n",
    "\n",
    "<tr>\n",
    "<td>M4A</td>\n",
    "<td><a href=\"/wiki/North_York\" title=\"North York\">North York</a></td>\n",
    "<td><a href=\"/wiki/Victoria_Village\" title=\"Victoria Village\">Victoria Village</a>\n",
    "</td>\n",
    "</tr>\n",
    "\n",
    "................\n",
    "\n",
    "</tbody>\n",
    "\n",
    "```"
   ]
  },
  {
   "cell_type": "code",
   "execution_count": 147,
   "metadata": {},
   "outputs": [],
   "source": [
    "# import the libraries\n",
    "import requests                     # Import requsts library that allows us to invoke a Web service\n",
    "from bs4 import BeautifulSoup       # Utilize BeautifulSoup to parse & select data \n",
    "import pandas as pd                 # Utilize pandas DataFrame to store the retrieved table from Web scraping\n",
    "\n",
    "# retrieve data using requests.get('url')\n",
    "data = requests.get('https://en.wikipedia.org/wiki/List_of_postal_codes_of_Canada:_M')\n"
   ]
  },
  {
   "cell_type": "markdown",
   "metadata": {},
   "source": [
    "**Utilize BeautifulSoup HTML parser to retrieve the markup document & store it in a 'soup' variable**"
   ]
  },
  {
   "cell_type": "code",
   "execution_count": 345,
   "metadata": {},
   "outputs": [],
   "source": [
    "# load the data into a soup variable\n",
    "soup = BeautifulSoup(data.text, 'html.parser')  # Copy the HTML document to a soup variable\n",
    "tbody  = soup.find('tbody')                     # Use the embedded table body (HTML tag tbody) & retrieve the table\n",
    "\n",
    "# Optionally print the tbody to console to visualize the HTML representation of the table\n",
    "#print(tbody)"
   ]
  },
  {
   "cell_type": "markdown",
   "metadata": {},
   "source": [
    "**Iterate thru the body of the table & retrieve all the rows**"
   ]
  },
  {
   "cell_type": "code",
   "execution_count": 359,
   "metadata": {},
   "outputs": [
    {
     "name": "stdout",
     "output_type": "stream",
     "text": [
      "\n",
      "Total number of rows retrieved from the HTML table =  288\n"
     ]
    }
   ],
   "source": [
    "# Create a list called table[] to store the extracted values from the HTML table\n",
    "table = []\n",
    "\n",
    "# Copy the headings & data to the table\n",
    "#for tr in tbody.find_all('tr'):\n",
    "#    headings = [th.text for th in tr.find_all('th')]\n",
    "#    table.append(headings)\n",
    "#    values   = [tr.text for td in tr.find_all('td')]\n",
    "#    table.append(values)\n",
    "\n",
    "for tr in tbody.find_all('tr'):\n",
    "    values   = [tr.text for td in tr.find_all('td')]  # Retrieve column values using HTML table data tag\n",
    "    #values   = [tr.text for td in tr.find_all('a')]  # Retrieve column values using HTML attribute tag\n",
    "    table.append(values)\n",
    "\n",
    "# Display the number of rows retrieved from the table\n",
    "print(\"\\nTotal number of rows retrieved from the HTML table = \", len(table))\n",
    "\n",
    "# Optionally print the raw table to the console \n",
    "#print(table)"
   ]
  },
  {
   "cell_type": "markdown",
   "metadata": {},
   "source": [
    "**Cleanup the Table; Remove Empty lists, substitute newline '\\n' characters with commas**"
   ]
  },
  {
   "cell_type": "code",
   "execution_count": 358,
   "metadata": {},
   "outputs": [
    {
     "name": "stdout",
     "output_type": "stream",
     "text": [
      "\n",
      "Total number of rows retained from the HTML table =  287\n",
      "\n",
      "Total number of rows in the cleaned version table =  287\n"
     ]
    }
   ],
   "source": [
    "# Remove empty lists, tuples, zeroes, strings\n",
    "table = [x for x in table if x != []]\n",
    "\n",
    "# Print the cleaned table to the console\n",
    "print(\"\\nTotal number of rows retained from the HTML table = \", len(table))\n",
    "#print(table)\n",
    "\n",
    "# Create \n",
    "cleanTable = []\n",
    "\n",
    "#for lst in table:\n",
    "#    for element in lst:\n",
    "#        if element not in cleanTable:\n",
    "#                cleanTable.append(element)\n",
    "\n",
    "for i in range(len(table)):\n",
    "#    #print(table[i][0])\n",
    "    cleanTable.append([str.replace(table[i][0], '\\n', ',')])\n",
    "\n",
    "# Print the cleaned table to the console\n",
    "print(\"\\nTotal number of rows in the cleaned version table = \", len(cleanTable))\n",
    "#print(cleanTable)\n"
   ]
  },
  {
   "cell_type": "markdown",
   "metadata": {},
   "source": [
    "**Copy the cleaned table (list of lists) to a DataFrame & clean up the same**"
   ]
  },
  {
   "cell_type": "code",
   "execution_count": 475,
   "metadata": {},
   "outputs": [
    {
     "name": "stdout",
     "output_type": "stream",
     "text": [
      "\n",
      "Total number of rows filtered (after removing ones with no Borough names)  ==>  210\n",
      "\n",
      "\n",
      "== Rows with unassigned Neighborhood names ==\n",
      "\n",
      "     Postcode       Borough  Neighborhood\n",
      "249      M9A  Queen's Park  Not assigned\n"
     ]
    }
   ],
   "source": [
    "# Delete the DataFrame object, df\n",
    "del df, df_filtered\n",
    "\n",
    "# Instantiate a DataFrame object, df\n",
    "df = pd.DataFrame()\n",
    "df_filtered = pd.DataFrame()\n",
    "\n",
    "# Parse the cleanTable & split the comma separated values & create a dataframe\n",
    "for lst in cleanTable:\n",
    "    df = df.append(pd.DataFrame([sub.split(\",\") for sub in lst]))\n",
    "\n",
    "# Rename the Columns from default index (a number) to desired column names 1. Postcode 2. Borough 3. Neighborhood\n",
    "df.rename(columns={1:'Postcode', 2:'Borough', 3:'Neighborhood'}, inplace=True)\n",
    "\n",
    "# Drop the 1st & last columns that don't have any values\n",
    "df.drop(columns=[0,4], inplace=True)\n",
    "\n",
    "# Sort the Dataframe by Postcode, then by Borough, & by Neighborhood\n",
    "df.sort_values(['Postcode', 'Borough', 'Neighborhood'], axis=0, inplace = True)\n",
    "\n",
    "# Rest the index (it'll insert a column named 'index' & assign the indexed values to the 'index' )\n",
    "df.reset_index(inplace=True)\n",
    "\n",
    "# Drop the index column of DataFrame since they are all zeroes anyway\n",
    "df.drop(columns=['index'], inplace=True)\n",
    "\n",
    "# Drop the rows that do not have an assigned 'Borough' name\n",
    "df_filtered = df[df['Borough'] != 'Not assigned'] \n",
    "\n",
    "print(\"\\nTotal number of rows filtered (after removing ones with no Borough names)  ==> \", len(df_filtered))\n",
    "\n",
    "# Print all the rows that contain 'Not assigned' (also a sanity check for any Burroughs that slipped thru)\n",
    "print(\"\\n\\n== Rows with unassigned Neighborhood names ==\\n\\n\", df_filtered[df_filtered.eq('Not assigned').any(1)])\n"
   ]
  },
  {
   "cell_type": "markdown",
   "metadata": {},
   "source": [
    "**Fix the unassigned values, and aggregate all the Neighborhood by Postcode & Borough**  "
   ]
  },
  {
   "cell_type": "code",
   "execution_count": 478,
   "metadata": {},
   "outputs": [
    {
     "data": {
      "text/html": [
       "<div>\n",
       "<style scoped>\n",
       "    .dataframe tbody tr th:only-of-type {\n",
       "        vertical-align: middle;\n",
       "    }\n",
       "\n",
       "    .dataframe tbody tr th {\n",
       "        vertical-align: top;\n",
       "    }\n",
       "\n",
       "    .dataframe thead th {\n",
       "        text-align: right;\n",
       "    }\n",
       "</style>\n",
       "<table border=\"1\" class=\"dataframe\">\n",
       "  <thead>\n",
       "    <tr style=\"text-align: right;\">\n",
       "      <th></th>\n",
       "      <th>Postcode</th>\n",
       "      <th>Borough</th>\n",
       "      <th>Neighborhood</th>\n",
       "    </tr>\n",
       "  </thead>\n",
       "  <tbody>\n",
       "    <tr>\n",
       "      <th>0</th>\n",
       "      <td>M1B</td>\n",
       "      <td>Scarborough</td>\n",
       "      <td>Malvern,Rouge</td>\n",
       "    </tr>\n",
       "    <tr>\n",
       "      <th>1</th>\n",
       "      <td>M1C</td>\n",
       "      <td>Scarborough</td>\n",
       "      <td>Highland Creek,Port Union,Rouge Hill</td>\n",
       "    </tr>\n",
       "    <tr>\n",
       "      <th>2</th>\n",
       "      <td>M1E</td>\n",
       "      <td>Scarborough</td>\n",
       "      <td>Guildwood,Morningside,West Hill</td>\n",
       "    </tr>\n",
       "    <tr>\n",
       "      <th>3</th>\n",
       "      <td>M1G</td>\n",
       "      <td>Scarborough</td>\n",
       "      <td>Woburn</td>\n",
       "    </tr>\n",
       "    <tr>\n",
       "      <th>4</th>\n",
       "      <td>M1H</td>\n",
       "      <td>Scarborough</td>\n",
       "      <td>Cedarbrae</td>\n",
       "    </tr>\n",
       "    <tr>\n",
       "      <th>5</th>\n",
       "      <td>M1J</td>\n",
       "      <td>Scarborough</td>\n",
       "      <td>Scarborough Village</td>\n",
       "    </tr>\n",
       "    <tr>\n",
       "      <th>6</th>\n",
       "      <td>M1K</td>\n",
       "      <td>Scarborough</td>\n",
       "      <td>East Birchmount Park,Ionview,Kennedy Park</td>\n",
       "    </tr>\n",
       "    <tr>\n",
       "      <th>7</th>\n",
       "      <td>M1L</td>\n",
       "      <td>Scarborough</td>\n",
       "      <td>Clairlea,Golden Mile,Oakridge</td>\n",
       "    </tr>\n",
       "    <tr>\n",
       "      <th>8</th>\n",
       "      <td>M1M</td>\n",
       "      <td>Scarborough</td>\n",
       "      <td>Cliffcrest,Cliffside,Scarborough Village West</td>\n",
       "    </tr>\n",
       "    <tr>\n",
       "      <th>9</th>\n",
       "      <td>M1N</td>\n",
       "      <td>Scarborough</td>\n",
       "      <td>Birch Cliff,Cliffside West</td>\n",
       "    </tr>\n",
       "    <tr>\n",
       "      <th>10</th>\n",
       "      <td>M1P</td>\n",
       "      <td>Scarborough</td>\n",
       "      <td>Dorset Park,Scarborough Town Centre,Wexford He...</td>\n",
       "    </tr>\n",
       "    <tr>\n",
       "      <th>11</th>\n",
       "      <td>M1R</td>\n",
       "      <td>Scarborough</td>\n",
       "      <td>Maryvale,Wexford</td>\n",
       "    </tr>\n",
       "  </tbody>\n",
       "</table>\n",
       "</div>"
      ],
      "text/plain": [
       "   Postcode      Borough                                       Neighborhood\n",
       "0       M1B  Scarborough                                      Malvern,Rouge\n",
       "1       M1C  Scarborough               Highland Creek,Port Union,Rouge Hill\n",
       "2       M1E  Scarborough                    Guildwood,Morningside,West Hill\n",
       "3       M1G  Scarborough                                             Woburn\n",
       "4       M1H  Scarborough                                          Cedarbrae\n",
       "5       M1J  Scarborough                                Scarborough Village\n",
       "6       M1K  Scarborough          East Birchmount Park,Ionview,Kennedy Park\n",
       "7       M1L  Scarborough                      Clairlea,Golden Mile,Oakridge\n",
       "8       M1M  Scarborough      Cliffcrest,Cliffside,Scarborough Village West\n",
       "9       M1N  Scarborough                         Birch Cliff,Cliffside West\n",
       "10      M1P  Scarborough  Dorset Park,Scarborough Town Centre,Wexford He...\n",
       "11      M1R  Scarborough                                   Maryvale,Wexford"
      ]
     },
     "execution_count": 478,
     "metadata": {},
     "output_type": "execute_result"
    }
   ],
   "source": [
    "# Loop through the dataframe, copy the Borough name to Neighborhood name if the latter is unassigned\n",
    "for idx in df_filtered.index:\n",
    "    if(df_filtered['Neighborhood'].at[idx] == 'Not assigned'):\n",
    "        print(\"\\nBorough name of the unassigned neighborhood ( at index\",idx,\") ==> \", df_filtered['Borough'].at[idx])\n",
    "        df_filtered['Neighborhood'].at[idx] = df_filtered['Borough'].at[idx]\n",
    "        print(\"\\nNeighborhood name reset to the Borough name ( at index\",idx,\") ==> \", df_filtered['Neighborhood'].at[idx])\n",
    "\n",
    "\n",
    "# Display the head of the dataframe (notice it's automatically sorted by 'Postcode')\n",
    "#df_filtered.head()\n",
    "        \n",
    "#############################################################################################################\n",
    "# CONSOLIDATE THE DATAFRAME BY AGGREGATING NEIGHBORHOOD VALUES, FOR EACH POSTCODE, FOLLOWED BY BOROUGHNAME\n",
    "#############################################################################################################\n",
    "\n",
    "new_df = df_filtered.groupby(['Postcode', 'Borough']).agg(lambda col: ','.join(col))\n",
    "\n",
    "# Reset the Index\n",
    "new_df.reset_index(inplace = True)\n",
    "\n",
    "# Print the head of the new consolidated dataframe (first 12 rows)\n",
    "new_df.head(12)\n"
   ]
  },
  {
   "cell_type": "markdown",
   "metadata": {},
   "source": [
    "**Finally print the shape of the new DataFrame object (as required to show as final step)**"
   ]
  },
  {
   "cell_type": "code",
   "execution_count": 479,
   "metadata": {},
   "outputs": [
    {
     "name": "stdout",
     "output_type": "stream",
     "text": [
      "The Shape of the DataFrame is ==>  (103, 3)\n"
     ]
    }
   ],
   "source": [
    "print(\"The Shape of the DataFrame is ==> \", new_df.shape)"
   ]
  },
  {
   "cell_type": "markdown",
   "metadata": {},
   "source": [
    "## Part 2 of 3 - Enrich the Dataframe & analyze data"
   ]
  },
  {
   "cell_type": "markdown",
   "metadata": {},
   "source": [
    "## Part 3 of 3 - Segment / cluster, & visualize data"
   ]
  },
  {
   "cell_type": "code",
   "execution_count": null,
   "metadata": {},
   "outputs": [],
   "source": []
  }
 ],
 "metadata": {
  "kernelspec": {
   "display_name": "Python 3",
   "language": "python",
   "name": "python3"
  },
  "language_info": {
   "codemirror_mode": {
    "name": "ipython",
    "version": 3
   },
   "file_extension": ".py",
   "mimetype": "text/x-python",
   "name": "python",
   "nbconvert_exporter": "python",
   "pygments_lexer": "ipython3",
   "version": "3.7.3"
  }
 },
 "nbformat": 4,
 "nbformat_minor": 2
}
